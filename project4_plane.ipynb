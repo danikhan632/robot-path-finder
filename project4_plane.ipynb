{
 "cells": [
  {
   "cell_type": "code",
   "execution_count": 1,
   "metadata": {},
   "outputs": [
    {
     "name": "stdout",
     "output_type": "stream",
     "text": [
      "Note: you may need to restart the kernel to use updated packages.\n"
     ]
    }
   ],
   "source": [
    "%pip install -q torch numpy matplotlib pillow torchvision torchsummary torchsummaryX plotly gtsam shapely tqdm"
   ]
  },
  {
   "cell_type": "code",
   "execution_count": 2,
   "metadata": {
    "id": "n6rxu7NFIlpx"
   },
   "outputs": [],
   "source": [
    "import os\n",
    "import json\n",
    "import time\n",
    "import torch\n",
    "import torch.nn as nn\n",
    "import torchvision.datasets as datasets\n",
    "import torch.optim as optim\n",
    "import torchvision.transforms as transforms\n",
    "from torch.utils.data import DataLoader\n",
    "from torch.autograd import Variable\n",
    "from PIL import Image\n",
    "import numpy as np\n",
    "import matplotlib.pyplot as plt\n",
    "import torch.nn.functional as F\n",
    "# %pip install torchsummaryX --quiet\n",
    "from torchsummaryX import summary as summaryX\n",
    "from torchsummary import summary\n",
    "import random\n",
    "from shapely.geometry import Point\n",
    "from shapely.geometry.polygon import Polygon\n",
    "\n",
    "device = torch.device('cuda' if torch.cuda.is_available() else 'cpu')"
   ]
  },
  {
   "cell_type": "code",
   "execution_count": 3,
   "metadata": {
    "colab": {
     "base_uri": "https://localhost:8080/"
    },
    "id": "sz1nWKJMFKWU",
    "outputId": "17605628-d78e-4294-a2fc-f1fd76cc5c36"
   },
   "outputs": [
    {
     "name": "stdout",
     "output_type": "stream",
     "text": [
      "Note: you may need to restart the kernel to use updated packages.\n"
     ]
    }
   ],
   "source": [
    "# importing necessary modules for factor graph optimization and visualization\n",
    "#UNCOMM\n",
    "%pip install -q plotly gtsam shapely\n",
    "import gtsam\n",
    "import numpy as np\n",
    "import plotly.graph_objects as go\n",
    "from tqdm import trange\n",
    "import torch\n",
    "import torchvision.datasets as datasets\n",
    "import torchvision.transforms as transforms\n",
    "import os\n",
    "import math\n",
    "# import anki_vector\n",
    "# from anki_vector.util import Pose, degrees\n",
    "#curl https://hackgtstoragebucket.s3.amazonaws.com/utils.py > utils.py\n",
    "\n",
    "\n",
    "from utils import *\n",
    "\n",
    "########################## load dataset ##########################\n",
    "test_dataset = datasets.KMNIST(root='dataset/', train=False, transform=transforms.Compose([transforms.Pad(2), transforms.ToTensor()]), download=True)\n",
    "\n",
    "########################## environment helpers ##########################\n",
    "\n",
    "def rect(x_m, y_m, xsize_m, ysize_m, rgba=None):\n",
    "    return dict(\n",
    "        type='rect',\n",
    "        x0=x_m, y0=y_m,\n",
    "        x1=x_m + xsize_m, y1=y_m + ysize_m,\n",
    "        fillcolor=f\"rgba({rgba[0]}, {rgba[1]}, {rgba[2]}, {rgba[3]})\" if rgba else \"rgb(255, 255, 255)\",\n",
    "        line_width=0,\n",
    "        layer=\"below\"\n",
    "    )\n",
    "\n",
    "\n",
    "class Wall:\n",
    "    def __init__(self, start_point, end_point, color):\n",
    "        self.ps = start_point\n",
    "        self.pe = end_point\n",
    "        self.color = color\n",
    "\n",
    "    def get_rect(self):\n",
    "        return rect(self.ps[0], self.ps[1], self.pe[0]-self.ps[0], self.pe[1]-self.ps[1], self.color)\n",
    "\n",
    "\n",
    "def env_walls():\n",
    "    '''\n",
    "    Returns a list of obstacles in the map. \n",
    "    Each Wall class represents a rectangular obstacle in the map. \n",
    "    '''\n",
    "    white = [255, 255, 255, 255]\n",
    "    gray = [150, 150, 150, 255]\n",
    "    wall_list = [Wall([0,-0.5], [16, 0], white),\n",
    "                 Wall([0, 9], [16, 9.5], white),\n",
    "                 Wall([-0.5, -0.5], [0, 9.5], white),\n",
    "                 Wall([16, -0.5], [16.5, 9.5], white),\n",
    "                 Wall([0, 4.25], [3, 4.75], gray),\n",
    "                 Wall([5, 4.25], [11, 4.75], gray),\n",
    "                 Wall([13, 4.25], [16, 4.75], gray),\n",
    "                 Wall([7.75, 1.75], [8.25, 7.25], gray),\n",
    "                 Wall([0, 0], [3, 1.75], gray),\n",
    "                 Wall([13, 0], [16, 1.75], gray),\n",
    "                 Wall([0, 7.25], [3, 9], gray),\n",
    "                 Wall([13, 7.25], [16, 9], gray),\n",
    "                 Wall([5, 7.25], [11, 7.75], gray),\n",
    "                 Wall([5, 1.25], [11, 1.75], gray)]\n",
    "    return wall_list\n",
    "\n"
   ]
  },
  {
   "cell_type": "code",
   "execution_count": 4,
   "metadata": {
    "colab": {
     "base_uri": "https://localhost:8080/",
     "height": 542
    },
    "id": "W9Lw3V39QOr6",
    "outputId": "dff494d0-bcdd-456c-a766-69960bf780da"
   },
   "outputs": [
    {
     "data": {
      "application/vnd.plotly.v1+json": {
       "config": {
        "plotlyServerURL": "https://plot.ly"
       },
       "data": [],
       "layout": {
        "dragmode": "pan",
        "font": {
         "color": "rgba(230, 230, 230, 255)",
         "family": "Courier New, monospace"
        },
        "hovermode": false,
        "margin": {
         "b": 30,
         "l": 30,
         "r": 30,
         "t": 30
        },
        "paper_bgcolor": "rgba(50, 50, 60, 255)",
        "plot_bgcolor": "rgba(50, 50, 60, 255)",
        "shapes": [
         {
          "fillcolor": "rgba(255, 255, 255, 255)",
          "layer": "below",
          "line": {
           "width": 0
          },
          "type": "rect",
          "x0": 0,
          "x1": 16,
          "y0": -0.5,
          "y1": 0
         },
         {
          "fillcolor": "rgba(255, 255, 255, 255)",
          "layer": "below",
          "line": {
           "width": 0
          },
          "type": "rect",
          "x0": 0,
          "x1": 16,
          "y0": 9,
          "y1": 9.5
         },
         {
          "fillcolor": "rgba(255, 255, 255, 255)",
          "layer": "below",
          "line": {
           "width": 0
          },
          "type": "rect",
          "x0": -0.5,
          "x1": 0,
          "y0": -0.5,
          "y1": 9.5
         },
         {
          "fillcolor": "rgba(255, 255, 255, 255)",
          "layer": "below",
          "line": {
           "width": 0
          },
          "type": "rect",
          "x0": 16,
          "x1": 16.5,
          "y0": -0.5,
          "y1": 9.5
         },
         {
          "fillcolor": "rgba(150, 150, 150, 255)",
          "layer": "below",
          "line": {
           "width": 0
          },
          "type": "rect",
          "x0": 0,
          "x1": 3,
          "y0": 4.25,
          "y1": 4.75
         },
         {
          "fillcolor": "rgba(150, 150, 150, 255)",
          "layer": "below",
          "line": {
           "width": 0
          },
          "type": "rect",
          "x0": 5,
          "x1": 11,
          "y0": 4.25,
          "y1": 4.75
         },
         {
          "fillcolor": "rgba(150, 150, 150, 255)",
          "layer": "below",
          "line": {
           "width": 0
          },
          "type": "rect",
          "x0": 13,
          "x1": 16,
          "y0": 4.25,
          "y1": 4.75
         },
         {
          "fillcolor": "rgba(150, 150, 150, 255)",
          "layer": "below",
          "line": {
           "width": 0
          },
          "type": "rect",
          "x0": 7.75,
          "x1": 8.25,
          "y0": 1.75,
          "y1": 7.25
         },
         {
          "fillcolor": "rgba(150, 150, 150, 255)",
          "layer": "below",
          "line": {
           "width": 0
          },
          "type": "rect",
          "x0": 0,
          "x1": 3,
          "y0": 0,
          "y1": 1.75
         },
         {
          "fillcolor": "rgba(150, 150, 150, 255)",
          "layer": "below",
          "line": {
           "width": 0
          },
          "type": "rect",
          "x0": 13,
          "x1": 16,
          "y0": 0,
          "y1": 1.75
         },
         {
          "fillcolor": "rgba(150, 150, 150, 255)",
          "layer": "below",
          "line": {
           "width": 0
          },
          "type": "rect",
          "x0": 0,
          "x1": 3,
          "y0": 7.25,
          "y1": 9
         },
         {
          "fillcolor": "rgba(150, 150, 150, 255)",
          "layer": "below",
          "line": {
           "width": 0
          },
          "type": "rect",
          "x0": 13,
          "x1": 16,
          "y0": 7.25,
          "y1": 9
         },
         {
          "fillcolor": "rgba(150, 150, 150, 255)",
          "layer": "below",
          "line": {
           "width": 0
          },
          "type": "rect",
          "x0": 5,
          "x1": 11,
          "y0": 7.25,
          "y1": 7.75
         },
         {
          "fillcolor": "rgba(150, 150, 150, 255)",
          "layer": "below",
          "line": {
           "width": 0
          },
          "type": "rect",
          "x0": 5,
          "x1": 11,
          "y0": 1.25,
          "y1": 1.75
         }
        ],
        "sliders": [
         {
          "active": 0,
          "currentvalue": {
           "font": {
            "color": "rgb(230, 230, 230)",
            "family": "Courier New, monospace"
           },
           "prefix": "Step ",
           "visible": true,
           "xanchor": "right"
          },
          "font": {
           "color": "rgb(230, 230, 230)",
           "family": "Courier New, monospace"
          },
          "len": 0.95,
          "pad": {
           "b": 10,
           "t": 0
          },
          "x": 0.05,
          "xanchor": "left",
          "y": 0,
          "yanchor": "top"
         }
        ],
        "template": {
         "data": {
          "bar": [
           {
            "error_x": {
             "color": "#2a3f5f"
            },
            "error_y": {
             "color": "#2a3f5f"
            },
            "marker": {
             "line": {
              "color": "#E5ECF6",
              "width": 0.5
             },
             "pattern": {
              "fillmode": "overlay",
              "size": 10,
              "solidity": 0.2
             }
            },
            "type": "bar"
           }
          ],
          "barpolar": [
           {
            "marker": {
             "line": {
              "color": "#E5ECF6",
              "width": 0.5
             },
             "pattern": {
              "fillmode": "overlay",
              "size": 10,
              "solidity": 0.2
             }
            },
            "type": "barpolar"
           }
          ],
          "carpet": [
           {
            "aaxis": {
             "endlinecolor": "#2a3f5f",
             "gridcolor": "white",
             "linecolor": "white",
             "minorgridcolor": "white",
             "startlinecolor": "#2a3f5f"
            },
            "baxis": {
             "endlinecolor": "#2a3f5f",
             "gridcolor": "white",
             "linecolor": "white",
             "minorgridcolor": "white",
             "startlinecolor": "#2a3f5f"
            },
            "type": "carpet"
           }
          ],
          "choropleth": [
           {
            "colorbar": {
             "outlinewidth": 0,
             "ticks": ""
            },
            "type": "choropleth"
           }
          ],
          "contour": [
           {
            "colorbar": {
             "outlinewidth": 0,
             "ticks": ""
            },
            "colorscale": [
             [
              0,
              "#0d0887"
             ],
             [
              0.1111111111111111,
              "#46039f"
             ],
             [
              0.2222222222222222,
              "#7201a8"
             ],
             [
              0.3333333333333333,
              "#9c179e"
             ],
             [
              0.4444444444444444,
              "#bd3786"
             ],
             [
              0.5555555555555556,
              "#d8576b"
             ],
             [
              0.6666666666666666,
              "#ed7953"
             ],
             [
              0.7777777777777778,
              "#fb9f3a"
             ],
             [
              0.8888888888888888,
              "#fdca26"
             ],
             [
              1,
              "#f0f921"
             ]
            ],
            "type": "contour"
           }
          ],
          "contourcarpet": [
           {
            "colorbar": {
             "outlinewidth": 0,
             "ticks": ""
            },
            "type": "contourcarpet"
           }
          ],
          "heatmap": [
           {
            "colorbar": {
             "outlinewidth": 0,
             "ticks": ""
            },
            "colorscale": [
             [
              0,
              "#0d0887"
             ],
             [
              0.1111111111111111,
              "#46039f"
             ],
             [
              0.2222222222222222,
              "#7201a8"
             ],
             [
              0.3333333333333333,
              "#9c179e"
             ],
             [
              0.4444444444444444,
              "#bd3786"
             ],
             [
              0.5555555555555556,
              "#d8576b"
             ],
             [
              0.6666666666666666,
              "#ed7953"
             ],
             [
              0.7777777777777778,
              "#fb9f3a"
             ],
             [
              0.8888888888888888,
              "#fdca26"
             ],
             [
              1,
              "#f0f921"
             ]
            ],
            "type": "heatmap"
           }
          ],
          "heatmapgl": [
           {
            "colorbar": {
             "outlinewidth": 0,
             "ticks": ""
            },
            "colorscale": [
             [
              0,
              "#0d0887"
             ],
             [
              0.1111111111111111,
              "#46039f"
             ],
             [
              0.2222222222222222,
              "#7201a8"
             ],
             [
              0.3333333333333333,
              "#9c179e"
             ],
             [
              0.4444444444444444,
              "#bd3786"
             ],
             [
              0.5555555555555556,
              "#d8576b"
             ],
             [
              0.6666666666666666,
              "#ed7953"
             ],
             [
              0.7777777777777778,
              "#fb9f3a"
             ],
             [
              0.8888888888888888,
              "#fdca26"
             ],
             [
              1,
              "#f0f921"
             ]
            ],
            "type": "heatmapgl"
           }
          ],
          "histogram": [
           {
            "marker": {
             "pattern": {
              "fillmode": "overlay",
              "size": 10,
              "solidity": 0.2
             }
            },
            "type": "histogram"
           }
          ],
          "histogram2d": [
           {
            "colorbar": {
             "outlinewidth": 0,
             "ticks": ""
            },
            "colorscale": [
             [
              0,
              "#0d0887"
             ],
             [
              0.1111111111111111,
              "#46039f"
             ],
             [
              0.2222222222222222,
              "#7201a8"
             ],
             [
              0.3333333333333333,
              "#9c179e"
             ],
             [
              0.4444444444444444,
              "#bd3786"
             ],
             [
              0.5555555555555556,
              "#d8576b"
             ],
             [
              0.6666666666666666,
              "#ed7953"
             ],
             [
              0.7777777777777778,
              "#fb9f3a"
             ],
             [
              0.8888888888888888,
              "#fdca26"
             ],
             [
              1,
              "#f0f921"
             ]
            ],
            "type": "histogram2d"
           }
          ],
          "histogram2dcontour": [
           {
            "colorbar": {
             "outlinewidth": 0,
             "ticks": ""
            },
            "colorscale": [
             [
              0,
              "#0d0887"
             ],
             [
              0.1111111111111111,
              "#46039f"
             ],
             [
              0.2222222222222222,
              "#7201a8"
             ],
             [
              0.3333333333333333,
              "#9c179e"
             ],
             [
              0.4444444444444444,
              "#bd3786"
             ],
             [
              0.5555555555555556,
              "#d8576b"
             ],
             [
              0.6666666666666666,
              "#ed7953"
             ],
             [
              0.7777777777777778,
              "#fb9f3a"
             ],
             [
              0.8888888888888888,
              "#fdca26"
             ],
             [
              1,
              "#f0f921"
             ]
            ],
            "type": "histogram2dcontour"
           }
          ],
          "mesh3d": [
           {
            "colorbar": {
             "outlinewidth": 0,
             "ticks": ""
            },
            "type": "mesh3d"
           }
          ],
          "parcoords": [
           {
            "line": {
             "colorbar": {
              "outlinewidth": 0,
              "ticks": ""
             }
            },
            "type": "parcoords"
           }
          ],
          "pie": [
           {
            "automargin": true,
            "type": "pie"
           }
          ],
          "scatter": [
           {
            "fillpattern": {
             "fillmode": "overlay",
             "size": 10,
             "solidity": 0.2
            },
            "type": "scatter"
           }
          ],
          "scatter3d": [
           {
            "line": {
             "colorbar": {
              "outlinewidth": 0,
              "ticks": ""
             }
            },
            "marker": {
             "colorbar": {
              "outlinewidth": 0,
              "ticks": ""
             }
            },
            "type": "scatter3d"
           }
          ],
          "scattercarpet": [
           {
            "marker": {
             "colorbar": {
              "outlinewidth": 0,
              "ticks": ""
             }
            },
            "type": "scattercarpet"
           }
          ],
          "scattergeo": [
           {
            "marker": {
             "colorbar": {
              "outlinewidth": 0,
              "ticks": ""
             }
            },
            "type": "scattergeo"
           }
          ],
          "scattergl": [
           {
            "marker": {
             "colorbar": {
              "outlinewidth": 0,
              "ticks": ""
             }
            },
            "type": "scattergl"
           }
          ],
          "scattermapbox": [
           {
            "marker": {
             "colorbar": {
              "outlinewidth": 0,
              "ticks": ""
             }
            },
            "type": "scattermapbox"
           }
          ],
          "scatterpolar": [
           {
            "marker": {
             "colorbar": {
              "outlinewidth": 0,
              "ticks": ""
             }
            },
            "type": "scatterpolar"
           }
          ],
          "scatterpolargl": [
           {
            "marker": {
             "colorbar": {
              "outlinewidth": 0,
              "ticks": ""
             }
            },
            "type": "scatterpolargl"
           }
          ],
          "scatterternary": [
           {
            "marker": {
             "colorbar": {
              "outlinewidth": 0,
              "ticks": ""
             }
            },
            "type": "scatterternary"
           }
          ],
          "surface": [
           {
            "colorbar": {
             "outlinewidth": 0,
             "ticks": ""
            },
            "colorscale": [
             [
              0,
              "#0d0887"
             ],
             [
              0.1111111111111111,
              "#46039f"
             ],
             [
              0.2222222222222222,
              "#7201a8"
             ],
             [
              0.3333333333333333,
              "#9c179e"
             ],
             [
              0.4444444444444444,
              "#bd3786"
             ],
             [
              0.5555555555555556,
              "#d8576b"
             ],
             [
              0.6666666666666666,
              "#ed7953"
             ],
             [
              0.7777777777777778,
              "#fb9f3a"
             ],
             [
              0.8888888888888888,
              "#fdca26"
             ],
             [
              1,
              "#f0f921"
             ]
            ],
            "type": "surface"
           }
          ],
          "table": [
           {
            "cells": {
             "fill": {
              "color": "#EBF0F8"
             },
             "line": {
              "color": "white"
             }
            },
            "header": {
             "fill": {
              "color": "#C8D4E3"
             },
             "line": {
              "color": "white"
             }
            },
            "type": "table"
           }
          ]
         },
         "layout": {
          "annotationdefaults": {
           "arrowcolor": "#2a3f5f",
           "arrowhead": 0,
           "arrowwidth": 1
          },
          "autotypenumbers": "strict",
          "coloraxis": {
           "colorbar": {
            "outlinewidth": 0,
            "ticks": ""
           }
          },
          "colorscale": {
           "diverging": [
            [
             0,
             "#8e0152"
            ],
            [
             0.1,
             "#c51b7d"
            ],
            [
             0.2,
             "#de77ae"
            ],
            [
             0.3,
             "#f1b6da"
            ],
            [
             0.4,
             "#fde0ef"
            ],
            [
             0.5,
             "#f7f7f7"
            ],
            [
             0.6,
             "#e6f5d0"
            ],
            [
             0.7,
             "#b8e186"
            ],
            [
             0.8,
             "#7fbc41"
            ],
            [
             0.9,
             "#4d9221"
            ],
            [
             1,
             "#276419"
            ]
           ],
           "sequential": [
            [
             0,
             "#0d0887"
            ],
            [
             0.1111111111111111,
             "#46039f"
            ],
            [
             0.2222222222222222,
             "#7201a8"
            ],
            [
             0.3333333333333333,
             "#9c179e"
            ],
            [
             0.4444444444444444,
             "#bd3786"
            ],
            [
             0.5555555555555556,
             "#d8576b"
            ],
            [
             0.6666666666666666,
             "#ed7953"
            ],
            [
             0.7777777777777778,
             "#fb9f3a"
            ],
            [
             0.8888888888888888,
             "#fdca26"
            ],
            [
             1,
             "#f0f921"
            ]
           ],
           "sequentialminus": [
            [
             0,
             "#0d0887"
            ],
            [
             0.1111111111111111,
             "#46039f"
            ],
            [
             0.2222222222222222,
             "#7201a8"
            ],
            [
             0.3333333333333333,
             "#9c179e"
            ],
            [
             0.4444444444444444,
             "#bd3786"
            ],
            [
             0.5555555555555556,
             "#d8576b"
            ],
            [
             0.6666666666666666,
             "#ed7953"
            ],
            [
             0.7777777777777778,
             "#fb9f3a"
            ],
            [
             0.8888888888888888,
             "#fdca26"
            ],
            [
             1,
             "#f0f921"
            ]
           ]
          },
          "colorway": [
           "#636efa",
           "#EF553B",
           "#00cc96",
           "#ab63fa",
           "#FFA15A",
           "#19d3f3",
           "#FF6692",
           "#B6E880",
           "#FF97FF",
           "#FECB52"
          ],
          "font": {
           "color": "#2a3f5f"
          },
          "geo": {
           "bgcolor": "white",
           "lakecolor": "white",
           "landcolor": "#E5ECF6",
           "showlakes": true,
           "showland": true,
           "subunitcolor": "white"
          },
          "hoverlabel": {
           "align": "left"
          },
          "hovermode": "closest",
          "mapbox": {
           "style": "light"
          },
          "paper_bgcolor": "white",
          "plot_bgcolor": "#E5ECF6",
          "polar": {
           "angularaxis": {
            "gridcolor": "white",
            "linecolor": "white",
            "ticks": ""
           },
           "bgcolor": "#E5ECF6",
           "radialaxis": {
            "gridcolor": "white",
            "linecolor": "white",
            "ticks": ""
           }
          },
          "scene": {
           "xaxis": {
            "backgroundcolor": "#E5ECF6",
            "gridcolor": "white",
            "gridwidth": 2,
            "linecolor": "white",
            "showbackground": true,
            "ticks": "",
            "zerolinecolor": "white"
           },
           "yaxis": {
            "backgroundcolor": "#E5ECF6",
            "gridcolor": "white",
            "gridwidth": 2,
            "linecolor": "white",
            "showbackground": true,
            "ticks": "",
            "zerolinecolor": "white"
           },
           "zaxis": {
            "backgroundcolor": "#E5ECF6",
            "gridcolor": "white",
            "gridwidth": 2,
            "linecolor": "white",
            "showbackground": true,
            "ticks": "",
            "zerolinecolor": "white"
           }
          },
          "shapedefaults": {
           "line": {
            "color": "#2a3f5f"
           }
          },
          "ternary": {
           "aaxis": {
            "gridcolor": "white",
            "linecolor": "white",
            "ticks": ""
           },
           "baxis": {
            "gridcolor": "white",
            "linecolor": "white",
            "ticks": ""
           },
           "bgcolor": "#E5ECF6",
           "caxis": {
            "gridcolor": "white",
            "linecolor": "white",
            "ticks": ""
           }
          },
          "title": {
           "x": 0.05
          },
          "xaxis": {
           "automargin": true,
           "gridcolor": "white",
           "linecolor": "white",
           "ticks": "",
           "title": {
            "standoff": 15
           },
           "zerolinecolor": "white",
           "zerolinewidth": 2
          },
          "yaxis": {
           "automargin": true,
           "gridcolor": "white",
           "linecolor": "white",
           "ticks": "",
           "title": {
            "standoff": 15
           },
           "zerolinecolor": "white",
           "zerolinewidth": 2
          }
         }
        },
        "xaxis": {
         "dtick": 1,
         "gridcolor": "rgba(175, 175, 175, 255)",
         "range": [
          -1,
          17
         ],
         "showgrid": true,
         "showticklabels": true,
         "zeroline": false
        },
        "yaxis": {
         "dtick": 1,
         "gridcolor": "rgba(175, 175, 175, 255)",
         "range": [
          -1,
          10
         ],
         "scaleanchor": "x",
         "scaleratio": 1,
         "showgrid": true,
         "showticklabels": true,
         "zeroline": false
        }
       }
      }
     },
     "metadata": {},
     "output_type": "display_data"
    }
   ],
   "source": [
    "class Environment:\n",
    "    \"\"\" Simulation environment class.\n",
    "    Initializes the room size, images, and obstacles. \n",
    "    \"\"\"\n",
    "    def __init__(self):\n",
    "        self.room_size = (16, 9)\n",
    "        self.wall_list = env_walls()\n",
    "        self.image_list=[]\n",
    "env = Environment()\n",
    "\n",
    "visualize(env)"
   ]
  },
  {
   "cell_type": "code",
   "execution_count": 5,
   "metadata": {
    "id": "qQm2v0G4sA7E"
   },
   "outputs": [],
   "source": [
    "class Node:\n",
    "    def __init__(self, point, parent=None):\n",
    "        super(Node, self).__init__()\n",
    "        self.point = point\n",
    "        self.parent = None\n",
    "\n",
    "    @property\n",
    "    def x(self):\n",
    "       return self.point[0]\n",
    "\n",
    "    @property\n",
    "    def y(self):\n",
    "       return self.point[1]\n",
    "\n",
    "\n",
    "def dist(node1, node2):\n",
    "    return np.linalg.norm(node2.point - node1.point) \n",
    "\n",
    "\n",
    "def inObstacle(node, env):\n",
    "    x = node.point[0]\n",
    "    y = node.point[1]\n",
    "    for i in range(0, len(env.wall_list)): # WARINING POLYGON AND MATH WERE IMPORTED ABOVE\n",
    "        LB = env.wall_list[i].ps\n",
    "        RU = env.wall_list[i].pe\n",
    "        LU = np.array([env.wall_list[i].ps[0], env.wall_list[i].pe[1]])\n",
    "        RB = np.array([env.wall_list[i].pe[0], env.wall_list[i].ps[1]])\n",
    "        # print(type(LB[0]))\n",
    "        rect = Polygon([LB, LU, RU, RB])\n",
    "        if rect.contains(Point(x,y)):\n",
    "            return True\n",
    "    return False\n",
    "        \n",
    "        # if LB[0]-0.5 <= x and x <= RU[0]+0.5:\n",
    "        #     if LB[1]-0.5 <= y and y <= RB[0]+0.5:\n",
    "        #         return True\n",
    "        \n",
    "    return False\n",
    "\n",
    "def randomSample(goal_pos, env):\n",
    "    chance = random.uniform(0.0, 10.0)\n",
    "    if chance <= 1.0:\n",
    "        return Node(goal_pos)\n",
    "\n",
    "    rand_point = Node(np.array([random.uniform(0, 16.0), random.uniform(0, 9.0)]))\n",
    "    leash = 1000\n",
    "    in_obs = inObstacle(rand_point, env)\n",
    "    while in_obs:\n",
    "        rand_point = Node(np.array([random.uniform(0, 16.0), random.uniform(0, 9.0)]))\n",
    "        in_obs = inObstacle(rand_point, env)\n",
    "        if leash == 1:\n",
    "            return Node(np.array([0.0,0.0]))\n",
    "        leash-=1\n",
    "        \n",
    "    return rand_point\n",
    "\n",
    "\n",
    "def getNearest(rrt_tree, random_point):\n",
    "    min = math.inf\n",
    "    min_idx=-1\n",
    "    for i in range(0, len(rrt_tree)-1):\n",
    "        curr_dist = dist(rrt_tree[i], random_point)\n",
    "        if curr_dist < min:\n",
    "            min = curr_dist\n",
    "            min_idx=i\n",
    "\n",
    "    return rrt_tree[min_idx]\n",
    "\n",
    "def stepTo( nearest_point,random_point,step=1.):\n",
    "    \n",
    "    if dist(nearest_point,random_point) < step:\n",
    "        return random_point\n",
    "    angle = math.atan2(random_point.point[1]-nearest_point.point[1], random_point.point[0]-nearest_point.point[0])\n",
    "\n",
    "    x_point = math.cos(angle) * step\n",
    "    y_point = math.sin(angle) * step  \n",
    "    x_point= round(x_point,3)\n",
    "    y_point= round(y_point,3)    \n",
    "    vec= np.array([x_point+nearest_point.point[0], y_point+nearest_point.point[1]])\n",
    "    #debug = \"angle: \" + str(math.radians(angle)) + \" x_point: \" + str(x_point) +\" y_point: \"+ str(y_point)\n",
    "    #return (Node(vec),debug)\n",
    "    return Node(vec)\n",
    "\n",
    "\n",
    "def isCollision(line, env):       \n",
    "    for i in range(0, len(env.wall_list)):\n",
    "        LB = env.wall_list[i].ps\n",
    "        RU = env.wall_list[i].pe\n",
    "        LU = np.array([env.wall_list[i].ps[0], env.wall_list[i].pe[1]])\n",
    "        RB = np.array([env.wall_list[i].pe[0], env.wall_list[i].ps[1]])\n",
    "\n",
    "        if line_intersection(LU, RU, line[0].point, line[1].point):\n",
    "            return True   \n",
    "        if line_intersection(RU, RB, line[0].point, line[1].point):\n",
    "            return True\n",
    "        if line_intersection(LB, RB, line[0].point, line[1].point):\n",
    "            return True\n",
    "        if line_intersection(LU,LB, line[0].point, line[1].point):\n",
    "            return True\n",
    "\n",
    "    return False\n",
    "  \n",
    "\n",
    "def withinTolerance(point, goal, tolerance=1.5):\n",
    "    distance = dist(point, goal)\n",
    "    if tolerance >= abs(distance):\n",
    "        return True\n",
    "    return False \n"
   ]
  },
  {
   "cell_type": "code",
   "execution_count": 6,
   "metadata": {},
   "outputs": [
    {
     "name": "stdout",
     "output_type": "stream",
     "text": [
      "False\n"
     ]
    }
   ],
   "source": [
    "res= inObstacle(Node(np.array([4,3])), env)\n",
    "print(res)"
   ]
  },
  {
   "cell_type": "code",
   "execution_count": 7,
   "metadata": {
    "id": "ivj4vZYS-Ho7"
   },
   "outputs": [],
   "source": [
    "def RRT(start_pos, goal_pos, env):\n",
    "    \n",
    "    root = Node(start_pos)\n",
    "    goal_node = Node(goal_pos)\n",
    "    rrt_tree = [root]\n",
    "    soln_node = None\n",
    "    path=None\n",
    "    path=[]\n",
    "    dummy=0\n",
    "    hasReached = False\n",
    "    while hasReached == False:\n",
    "        randy = randomSample(goal_pos, env)\n",
    "        nearest = getNearest(rrt_tree, randy)\n",
    "        node = stepTo(nearest, randy)\n",
    "        if isCollision((nearest, node), env):\n",
    "            continue\n",
    "        if inObstacle(node, env):\n",
    "            continue\n",
    "        node.parent= nearest\n",
    "        rrt_tree.append(node)\n",
    "\n",
    "        hasReached = withinTolerance(node, goal_node)\n",
    "        if hasReached == True:\n",
    "            soln_node = node\n",
    "\n",
    "    dummy = soln_node\n",
    "    while dummy != None:\n",
    "        path.append(dummy)\n",
    "        dummy = dummy.parent\n",
    "    path.reverse()\n",
    "\n",
    "    return path, rrt_tree"
   ]
  },
  {
   "cell_type": "code",
   "execution_count": 8,
   "metadata": {},
   "outputs": [],
   "source": [
    "def smooth_path(path, env):\n",
    "    new_path = [path[0]]\n",
    "    for i in range(1, len(path)-1):\n",
    "        if isCollision((path[i-1], path[i+1]), env):\n",
    "            new_path.append(path[i])\n",
    "    new_path.append(path[-1])\n",
    "    return new_path"
   ]
  },
  {
   "cell_type": "code",
   "execution_count": 9,
   "metadata": {},
   "outputs": [
    {
     "name": "stderr",
     "output_type": "stream",
     "text": [
      "/home/lenovo/.local/lib/python3.10/site-packages/shapely/set_operations.py:133: RuntimeWarning:\n",
      "\n",
      "invalid value encountered in intersection\n",
      "\n"
     ]
    }
   ],
   "source": [
    "start_pos = np.array([4,1])\n",
    "goal_pos = np.array([13,6])\n",
    "path, rrt_tree = RRT(start_pos, goal_pos, env)\n",
    "# path = smooth_path(path, env)"
   ]
  },
  {
   "cell_type": "code",
   "execution_count": 10,
   "metadata": {
    "colab": {
     "base_uri": "https://localhost:8080/",
     "height": 383
    },
    "id": "T_EuUdZxq95q",
    "outputId": "90ebcf3e-3a80-4e76-ec9b-2c15658bb01d"
   },
   "outputs": [
    {
     "data": {
      "application/vnd.plotly.v1+json": {
       "config": {
        "plotlyServerURL": "https://plot.ly"
       },
       "data": [
        {
         "marker": {
          "color": "Blue",
          "size": 10
         },
         "mode": "lines+markers",
         "showlegend": false,
         "type": "scatter",
         "x": [
          4
         ],
         "y": [
          1
         ]
        },
        {
         "marker": {
          "color": "Blue",
          "size": 10
         },
         "mode": "lines+markers",
         "showlegend": false,
         "type": "scatter",
         "x": [
          4.192,
          4
         ],
         "y": [
          1.9809999999999999,
          1
         ]
        },
        {
         "marker": {
          "color": "Blue",
          "size": 10
         },
         "mode": "lines+markers",
         "showlegend": false,
         "type": "scatter",
         "x": [
          4.969,
          4
         ],
         "y": [
          1.248,
          1
         ]
        },
        {
         "marker": {
          "color": "Blue",
          "size": 10
         },
         "mode": "lines+markers",
         "showlegend": false,
         "type": "scatter",
         "x": [
          5.1240000000000006,
          4.192
         ],
         "y": [
          2.343,
          1.9809999999999999
         ]
        },
        {
         "marker": {
          "color": "Blue",
          "size": 10
         },
         "mode": "lines+markers",
         "showlegend": false,
         "type": "scatter",
         "x": [
          4.811,
          4.192
         ],
         "y": [
          2.767,
          1.9809999999999999
         ]
        },
        {
         "marker": {
          "color": "Blue",
          "size": 10
         },
         "mode": "lines+markers",
         "showlegend": false,
         "type": "scatter",
         "x": [
          5.625000000000001,
          5.1240000000000006
         ],
         "y": [
          3.208,
          2.343
         ]
        },
        {
         "marker": {
          "color": "Blue",
          "size": 10
         },
         "mode": "lines+markers",
         "showlegend": false,
         "type": "scatter",
         "x": [
          6.1240000000000006,
          5.1240000000000006
         ],
         "y": [
          2.332,
          2.343
         ]
        },
        {
         "marker": {
          "color": "Blue",
          "size": 10
         },
         "mode": "lines+markers",
         "showlegend": false,
         "type": "scatter",
         "x": [
          6.373000000000001,
          5.625000000000001
         ],
         "y": [
          2.544,
          3.208
         ]
        },
        {
         "marker": {
          "color": "Blue",
          "size": 10
         },
         "mode": "lines+markers",
         "showlegend": false,
         "type": "scatter",
         "x": [
          7.006,
          6.1240000000000006
         ],
         "y": [
          2.803,
          2.332
         ]
        },
        {
         "marker": {
          "color": "Blue",
          "size": 10
         },
         "mode": "lines+markers",
         "showlegend": false,
         "type": "scatter",
         "x": [
          6.145000000000001,
          5.625000000000001
         ],
         "y": [
          4.062,
          3.208
         ]
        },
        {
         "marker": {
          "color": "Blue",
          "size": 10
         },
         "mode": "lines+markers",
         "showlegend": false,
         "type": "scatter",
         "x": [
          7.525,
          7.006
         ],
         "y": [
          1.948,
          2.803
         ]
        },
        {
         "marker": {
          "color": "Blue",
          "size": 10
         },
         "mode": "lines+markers",
         "showlegend": false,
         "type": "scatter",
         "x": [
          4.7877277121670065,
          4.811
         ],
         "y": [
          2.9360251413961227,
          2.767
         ]
        },
        {
         "marker": {
          "color": "Blue",
          "size": 10
         },
         "mode": "lines+markers",
         "showlegend": false,
         "type": "scatter",
         "x": [
          4.059,
          4.811
         ],
         "y": [
          3.426,
          2.767
         ]
        },
        {
         "marker": {
          "color": "Blue",
          "size": 10
         },
         "mode": "lines+markers",
         "showlegend": false,
         "type": "scatter",
         "x": [
          4.022727712167007,
          4.7877277121670065
         ],
         "y": [
          3.580025141396123,
          2.9360251413961227
         ]
        },
        {
         "marker": {
          "color": "Blue",
          "size": 10
         },
         "mode": "lines+markers",
         "showlegend": false,
         "type": "scatter",
         "x": [
          3.3850000000000002,
          4.059
         ],
         "y": [
          4.165,
          3.426
         ]
        },
        {
         "marker": {
          "color": "Blue",
          "size": 10
         },
         "mode": "lines+markers",
         "showlegend": false,
         "type": "scatter",
         "x": [
          3.601727712167007,
          4.022727712167007
         ],
         "y": [
          4.487025141396122,
          3.580025141396123
         ]
        },
        {
         "marker": {
          "color": "Blue",
          "size": 10
         },
         "mode": "lines+markers",
         "showlegend": false,
         "type": "scatter",
         "x": [
          3.5260000000000002,
          3.3850000000000002
         ],
         "y": [
          5.155,
          4.165
         ]
        },
        {
         "marker": {
          "color": "Blue",
          "size": 10
         },
         "mode": "lines+markers",
         "showlegend": false,
         "type": "scatter",
         "x": [
          3.017727712167007,
          3.601727712167007
         ],
         "y": [
          5.299025141396123,
          4.487025141396122
         ]
        },
        {
         "marker": {
          "color": "Blue",
          "size": 10
         },
         "mode": "lines+markers",
         "showlegend": false,
         "type": "scatter",
         "x": [
          2.689444859082416,
          3.5260000000000002
         ],
         "y": [
          5.1929879329979425,
          5.155
         ]
        },
        {
         "marker": {
          "color": "Blue",
          "size": 10
         },
         "mode": "lines+markers",
         "showlegend": false,
         "type": "scatter",
         "x": [
          3.224,
          4.192
         ],
         "y": [
          2.2329999999999997,
          1.9809999999999999
         ]
        },
        {
         "marker": {
          "color": "Blue",
          "size": 10
         },
         "mode": "lines+markers",
         "showlegend": false,
         "type": "scatter",
         "x": [
          7.163597802936383,
          7.006
         ],
         "y": [
          3.196127193783262,
          2.803
         ]
        },
        {
         "marker": {
          "color": "Blue",
          "size": 10
         },
         "mode": "lines+markers",
         "showlegend": false,
         "type": "scatter",
         "x": [
          2.2270000000000003,
          3.224
         ],
         "y": [
          2.1569999999999996,
          2.2329999999999997
         ]
        },
        {
         "marker": {
          "color": "Blue",
          "size": 10
         },
         "mode": "lines+markers",
         "showlegend": false,
         "type": "scatter",
         "x": [
          2.4696990951249145,
          3.224
         ],
         "y": [
          2.376244499382825,
          2.2329999999999997
         ]
        },
        {
         "marker": {
          "color": "Blue",
          "size": 10
         },
         "mode": "lines+markers",
         "showlegend": false,
         "type": "scatter",
         "x": [
          7.749597802936384,
          7.163597802936383
         ],
         "y": [
          4.0061271937832625,
          3.196127193783262
         ]
        },
        {
         "marker": {
          "color": "Blue",
          "size": 10
         },
         "mode": "lines+markers",
         "showlegend": false,
         "type": "scatter",
         "x": [
          2.5439728729615716,
          3.3850000000000002
         ],
         "y": [
          3.681411139822868,
          4.165
         ]
        },
        {
         "marker": {
          "color": "Blue",
          "size": 10
         },
         "mode": "lines+markers",
         "showlegend": false,
         "type": "scatter",
         "x": [
          5.755261705106703,
          5.625000000000001
         ],
         "y": [
          3.3143396810806043,
          3.208
         ]
        },
        {
         "marker": {
          "color": "Blue",
          "size": 10
         },
         "mode": "lines+markers",
         "showlegend": false,
         "type": "scatter",
         "x": [
          2.709727712167007,
          3.017727712167007
         ],
         "y": [
          6.250025141396122,
          5.299025141396123
         ]
        },
        {
         "marker": {
          "color": "Blue",
          "size": 10
         },
         "mode": "lines+markers",
         "showlegend": false,
         "type": "scatter",
         "x": [
          6.888230371050479,
          7.163597802936383
         ],
         "y": [
          3.5417073118003173,
          3.196127193783262
         ]
        },
        {
         "marker": {
          "color": "Blue",
          "size": 10
         },
         "mode": "lines+markers",
         "showlegend": false,
         "type": "scatter",
         "x": [
          1.6539728729615715,
          2.5439728729615716
         ],
         "y": [
          3.2244111398228683,
          3.681411139822868
         ]
        },
        {
         "marker": {
          "color": "Blue",
          "size": 10
         },
         "mode": "lines+markers",
         "showlegend": false,
         "type": "scatter",
         "x": [
          3.252521453161691,
          4
         ],
         "y": [
          1.19827654623457,
          1
         ]
        },
        {
         "marker": {
          "color": "Blue",
          "size": 10
         },
         "mode": "lines+markers",
         "showlegend": false,
         "type": "scatter",
         "x": [
          4.932145349966085,
          4.7877277121670065
         ],
         "y": [
          3.3905581007920134,
          2.9360251413961227
         ]
        },
        {
         "marker": {
          "color": "Blue",
          "size": 10
         },
         "mode": "lines+markers",
         "showlegend": false,
         "type": "scatter",
         "x": [
          6.502325196212981,
          6.373000000000001
         ],
         "y": [
          2.448415503833327,
          2.544
         ]
        },
        {
         "marker": {
          "color": "Blue",
          "size": 10
         },
         "mode": "lines+markers",
         "showlegend": false,
         "type": "scatter",
         "x": [
          1.0059728729615713,
          1.6539728729615715
         ],
         "y": [
          3.9864111398228683,
          3.2244111398228683
         ]
        },
        {
         "marker": {
          "color": "Blue",
          "size": 10
         },
         "mode": "lines+markers",
         "showlegend": false,
         "type": "scatter",
         "x": [
          1.7127277121670073,
          2.709727712167007
         ],
         "y": [
          6.174025141396123,
          6.250025141396122
         ]
        },
        {
         "marker": {
          "color": "Blue",
          "size": 10
         },
         "mode": "lines+markers",
         "showlegend": false,
         "type": "scatter",
         "x": [
          7.528650269777364,
          7.163597802936383
         ],
         "y": [
          3.0461278739939686,
          3.196127193783262
         ]
        },
        {
         "marker": {
          "color": "Blue",
          "size": 10
         },
         "mode": "lines+markers",
         "showlegend": false,
         "type": "scatter",
         "x": [
          0.8307156362101384,
          1.0059728729615713
         ],
         "y": [
          3.5818555189959786,
          3.9864111398228683
         ]
        },
        {
         "marker": {
          "color": "Blue",
          "size": 10
         },
         "mode": "lines+markers",
         "showlegend": false,
         "type": "scatter",
         "x": [
          0.8937277121670073,
          1.7127277121670073
         ],
         "y": [
          6.747025141396122,
          6.174025141396123
         ]
        },
        {
         "marker": {
          "color": "Blue",
          "size": 10
         },
         "mode": "lines+markers",
         "showlegend": false,
         "type": "scatter",
         "x": [
          0.025860879236047296,
          0.8307156362101384
         ],
         "y": [
          3.8182968237137773,
          3.5818555189959786
         ]
        },
        {
         "marker": {
          "color": "Blue",
          "size": 10
         },
         "mode": "lines+markers",
         "showlegend": false,
         "type": "scatter",
         "x": [
          2.939727712167007,
          2.709727712167007
         ],
         "y": [
          7.223025141396122,
          6.250025141396122
         ]
        },
        {
         "marker": {
          "color": "Blue",
          "size": 10
         },
         "mode": "lines+markers",
         "showlegend": false,
         "type": "scatter",
         "x": [
          1.2561079702375881,
          1.6539728729615715
         ],
         "y": [
          2.844363215525151,
          3.2244111398228683
         ]
        },
        {
         "marker": {
          "color": "Blue",
          "size": 10
         },
         "mode": "lines+markers",
         "showlegend": false,
         "type": "scatter",
         "x": [
          4.435644264234936,
          4
         ],
         "y": [
          0.30835949187376765,
          1
         ]
        },
        {
         "marker": {
          "color": "Blue",
          "size": 10
         },
         "mode": "lines+markers",
         "showlegend": false,
         "type": "scatter",
         "x": [
          7.714834626741027,
          7.749597802936384
         ],
         "y": [
          4.0700781601696825,
          4.0061271937832625
         ]
        },
        {
         "marker": {
          "color": "Blue",
          "size": 10
         },
         "mode": "lines+markers",
         "showlegend": false,
         "type": "scatter",
         "x": [
          6.818475480258092,
          7.006
         ],
         "y": [
          3.0104915651635937,
          2.803
         ]
        },
        {
         "marker": {
          "color": "Blue",
          "size": 10
         },
         "mode": "lines+markers",
         "showlegend": false,
         "type": "scatter",
         "x": [
          2.8776422836621176,
          3.017727712167007
         ],
         "y": [
          5.25316751157107,
          5.299025141396123
         ]
        },
        {
         "marker": {
          "color": "Blue",
          "size": 10
         },
         "mode": "lines+markers",
         "showlegend": false,
         "type": "scatter",
         "x": [
          2.8040281167125656,
          2.5439728729615716
         ],
         "y": [
          3.671073952665689,
          3.681411139822868
         ]
        },
        {
         "marker": {
          "color": "Blue",
          "size": 10
         },
         "mode": "lines+markers",
         "showlegend": false,
         "type": "scatter",
         "x": [
          7.096386869594522,
          7.006
         ],
         "y": [
          2.599511795097748,
          2.803
         ]
        },
        {
         "marker": {
          "color": "Blue",
          "size": 10
         },
         "mode": "lines+markers",
         "showlegend": false,
         "type": "scatter",
         "x": [
          3.895727712167007,
          2.939727712167007
         ],
         "y": [
          7.517025141396122,
          7.223025141396122
         ]
        },
        {
         "marker": {
          "color": "Blue",
          "size": 10
         },
         "mode": "lines+markers",
         "showlegend": false,
         "type": "scatter",
         "x": [
          3.882727712167007,
          2.939727712167007
         ],
         "y": [
          7.556025141396122,
          7.223025141396122
         ]
        },
        {
         "marker": {
          "color": "Blue",
          "size": 10
         },
         "mode": "lines+markers",
         "showlegend": false,
         "type": "scatter",
         "x": [
          3.3600111812683213,
          2.939727712167007
         ],
         "y": [
          6.681268589878215,
          7.223025141396122
         ]
        },
        {
         "marker": {
          "color": "Blue",
          "size": 10
         },
         "mode": "lines+markers",
         "showlegend": false,
         "type": "scatter",
         "x": [
          4.312,
          3.5260000000000002
         ],
         "y": [
          5.774,
          5.155
         ]
        },
        {
         "marker": {
          "color": "Blue",
          "size": 10
         },
         "mode": "lines+markers",
         "showlegend": false,
         "type": "scatter",
         "x": [
          4.310188346359849,
          4
         ],
         "y": [
          1.1103979371362613,
          1
         ]
        },
        {
         "marker": {
          "color": "Blue",
          "size": 10
         },
         "mode": "lines+markers",
         "showlegend": false,
         "type": "scatter",
         "x": [
          5.108809686743216,
          4.932145349966085
         ],
         "y": [
          3.7531838620267477,
          3.3905581007920134
         ]
        },
        {
         "marker": {
          "color": "Blue",
          "size": 10
         },
         "mode": "lines+markers",
         "showlegend": false,
         "type": "scatter",
         "x": [
          4.9442522618351905,
          4.932145349966085
         ],
         "y": [
          3.5989020303294397,
          3.3905581007920134
         ]
        },
        {
         "marker": {
          "color": "Blue",
          "size": 10
         },
         "mode": "lines+markers",
         "showlegend": false,
         "type": "scatter",
         "x": [
          4.8917277121670075,
          3.895727712167007
         ],
         "y": [
          7.608025141396122,
          7.517025141396122
         ]
        },
        {
         "marker": {
          "color": "Blue",
          "size": 10
         },
         "mode": "lines+markers",
         "showlegend": false,
         "type": "scatter",
         "x": [
          6.138303820495064,
          6.1240000000000006
         ],
         "y": [
          1.971395202843865,
          2.332
         ]
        },
        {
         "marker": {
          "color": "Blue",
          "size": 10
         },
         "mode": "lines+markers",
         "showlegend": false,
         "type": "scatter",
         "x": [
          2.4897428025127706,
          2.709727712167007
         ],
         "y": [
          6.233117590553671,
          6.250025141396122
         ]
        },
        {
         "marker": {
          "color": "Blue",
          "size": 10
         },
         "mode": "lines+markers",
         "showlegend": false,
         "type": "scatter",
         "x": [
          2.7187808913100575,
          2.709727712167007
         ],
         "y": [
          6.7604023398776665,
          6.250025141396122
         ]
        },
        {
         "marker": {
          "color": "Blue",
          "size": 10
         },
         "mode": "lines+markers",
         "showlegend": false,
         "type": "scatter",
         "x": [
          4.679310307964757,
          4.8917277121670075
         ],
         "y": [
          8.331193040688285,
          7.608025141396122
         ]
        },
        {
         "marker": {
          "color": "Blue",
          "size": 10
         },
         "mode": "lines+markers",
         "showlegend": false,
         "type": "scatter",
         "x": [
          5.239727712167007,
          4.8917277121670075
         ],
         "y": [
          8.545025141396122,
          7.608025141396122
         ]
        },
        {
         "marker": {
          "color": "Blue",
          "size": 10
         },
         "mode": "lines+markers",
         "showlegend": false,
         "type": "scatter",
         "x": [
          3.3442125027537486,
          3.3600111812683213
         ],
         "y": [
          6.131648475009419,
          6.681268589878215
         ]
        },
        {
         "marker": {
          "color": "Blue",
          "size": 10
         },
         "mode": "lines+markers",
         "showlegend": false,
         "type": "scatter",
         "x": [
          3.560894439004967,
          3.3600111812683213
         ],
         "y": [
          6.106459445838735,
          6.681268589878215
         ]
        },
        {
         "marker": {
          "color": "Blue",
          "size": 10
         },
         "mode": "lines+markers",
         "showlegend": false,
         "type": "scatter",
         "x": [
          0.6144015154381517,
          1.2561079702375881
         ],
         "y": [
          2.4299691038898157,
          2.844363215525151
         ]
        },
        {
         "marker": {
          "color": "Blue",
          "size": 10
         },
         "mode": "lines+markers",
         "showlegend": false,
         "type": "scatter",
         "x": [
          2.384324299335251,
          2.4897428025127706
         ],
         "y": [
          6.584175589124461,
          6.233117590553671
         ]
        },
        {
         "marker": {
          "color": "Blue",
          "size": 10
         },
         "mode": "lines+markers",
         "showlegend": false,
         "type": "scatter",
         "x": [
          5.223455592975549,
          5.108809686743216
         ],
         "y": [
          3.953235503205173,
          3.7531838620267477
         ]
        },
        {
         "marker": {
          "color": "Blue",
          "size": 10
         },
         "mode": "lines+markers",
         "showlegend": false,
         "type": "scatter",
         "x": [
          4.314183638616486,
          4.022727712167007
         ],
         "y": [
          3.729124612409567,
          3.580025141396123
         ]
        },
        {
         "marker": {
          "color": "Blue",
          "size": 10
         },
         "mode": "lines+markers",
         "showlegend": false,
         "type": "scatter",
         "x": [
          4.047287604516136,
          4.435644264234936
         ],
         "y": [
          0.27847451506875565,
          0.30835949187376765
         ]
        },
        {
         "marker": {
          "color": "Blue",
          "size": 10
         },
         "mode": "lines+markers",
         "showlegend": false,
         "type": "scatter",
         "x": [
          0.22872771216700727,
          0.8937277121670073
         ],
         "y": [
          6.000025141396122,
          6.747025141396122
         ]
        },
        {
         "marker": {
          "color": "Blue",
          "size": 10
         },
         "mode": "lines+markers",
         "showlegend": false,
         "type": "scatter",
         "x": [
          6.2027277121670075,
          5.239727712167007
         ],
         "y": [
          8.275025141396123,
          8.545025141396122
         ]
        },
        {
         "marker": {
          "color": "Blue",
          "size": 10
         },
         "mode": "lines+markers",
         "showlegend": false,
         "type": "scatter",
         "x": [
          4.9503076535691655,
          4.8917277121670075
         ],
         "y": [
          7.497624617307947,
          7.608025141396122
         ]
        },
        {
         "marker": {
          "color": "Blue",
          "size": 10
         },
         "mode": "lines+markers",
         "showlegend": false,
         "type": "scatter",
         "x": [
          7.199727712167007,
          6.2027277121670075
         ],
         "y": [
          8.347025141396122,
          8.275025141396123
         ]
        },
        {
         "marker": {
          "color": "Blue",
          "size": 10
         },
         "mode": "lines+markers",
         "showlegend": false,
         "type": "scatter",
         "x": [
          2.0169026154374308,
          2.689444859082416
         ],
         "y": [
          4.775088952146297,
          5.1929879329979425
         ]
        },
        {
         "marker": {
          "color": "Blue",
          "size": 10
         },
         "mode": "lines+markers",
         "showlegend": false,
         "type": "scatter",
         "x": [
          8.173727712167008,
          7.199727712167007
         ],
         "y": [
          8.120025141396122,
          8.347025141396122
         ]
        },
        {
         "marker": {
          "color": "Blue",
          "size": 10
         },
         "mode": "lines+markers",
         "showlegend": false,
         "type": "scatter",
         "x": [
          5.10999291286884,
          5.239727712167007
         ],
         "y": [
          8.792493829700938,
          8.545025141396122
         ]
        },
        {
         "marker": {
          "color": "Blue",
          "size": 10
         },
         "mode": "lines+markers",
         "showlegend": false,
         "type": "scatter",
         "x": [
          0.510119758463178,
          0.8937277121670073
         ],
         "y": [
          7.1684769342145485,
          6.747025141396122
         ]
        },
        {
         "marker": {
          "color": "Blue",
          "size": 10
         },
         "mode": "lines+markers",
         "showlegend": false,
         "type": "scatter",
         "x": [
          5.146,
          4.312
         ],
         "y": [
          6.325,
          5.774
         ]
        },
        {
         "marker": {
          "color": "Blue",
          "size": 10
         },
         "mode": "lines+markers",
         "showlegend": false,
         "type": "scatter",
         "x": [
          3.046271313138762,
          3.3442125027537486
         ],
         "y": [
          5.931857833559048,
          6.131648475009419
         ]
        },
        {
         "marker": {
          "color": "Blue",
          "size": 10
         },
         "mode": "lines+markers",
         "showlegend": false,
         "type": "scatter",
         "x": [
          1.1145709925286624,
          0.8307156362101384
         ],
         "y": [
          3.55011323600636,
          3.5818555189959786
         ]
        },
        {
         "marker": {
          "color": "Blue",
          "size": 10
         },
         "mode": "lines+markers",
         "showlegend": false,
         "type": "scatter",
         "x": [
          4.566958986823888,
          4.435644264234936
         ],
         "y": [
          0.3259815842397127,
          0.30835949187376765
         ]
        },
        {
         "marker": {
          "color": "Blue",
          "size": 10
         },
         "mode": "lines+markers",
         "showlegend": false,
         "type": "scatter",
         "x": [
          3.706710430698111,
          3.601727712167007
         ],
         "y": [
          4.287959424562548,
          4.487025141396122
         ]
        },
        {
         "marker": {
          "color": "Blue",
          "size": 10
         },
         "mode": "lines+markers",
         "showlegend": false,
         "type": "scatter",
         "x": [
          7.28306596351136,
          7.525
         ],
         "y": [
          1.9679199000988943,
          1.948
         ]
        },
        {
         "marker": {
          "color": "Blue",
          "size": 10
         },
         "mode": "lines+markers",
         "showlegend": false,
         "type": "scatter",
         "x": [
          2.352998829865351,
          2.4897428025127706
         ],
         "y": [
          6.114210436628072,
          6.233117590553671
         ]
        },
        {
         "marker": {
          "color": "Blue",
          "size": 10
         },
         "mode": "lines+markers",
         "showlegend": false,
         "type": "scatter",
         "x": [
          3.5751797172566526,
          3.3850000000000002
         ],
         "y": [
          3.8206100106997596,
          4.165
         ]
        },
        {
         "marker": {
          "color": "Blue",
          "size": 10
         },
         "mode": "lines+markers",
         "showlegend": false,
         "type": "scatter",
         "x": [
          9.110727712167007,
          8.173727712167008
         ],
         "y": [
          7.770025141396122,
          8.120025141396122
         ]
        },
        {
         "marker": {
          "color": "Blue",
          "size": 10
         },
         "mode": "lines+markers",
         "showlegend": false,
         "type": "scatter",
         "x": [
          1.9275730757291107,
          1.7127277121670073
         ],
         "y": [
          6.042837725856311,
          6.174025141396123
         ]
        },
        {
         "marker": {
          "color": "Blue",
          "size": 10
         },
         "mode": "lines+markers",
         "showlegend": false,
         "type": "scatter",
         "x": [
          0.17579642948227736,
          0.510119758463178
         ],
         "y": [
          6.631107375170114,
          7.1684769342145485
         ]
        },
        {
         "marker": {
          "color": "Blue",
          "size": 10
         },
         "mode": "lines+markers",
         "showlegend": false,
         "type": "scatter",
         "x": [
          4.06620298421689,
          4.312
         ],
         "y": [
          5.309474175186848,
          5.774
         ]
        },
        {
         "marker": {
          "color": "Blue",
          "size": 10
         },
         "mode": "lines+markers",
         "showlegend": false,
         "type": "scatter",
         "x": [
          10.041727712167006,
          9.110727712167007
         ],
         "y": [
          8.135025141396122,
          7.770025141396122
         ]
        },
        {
         "marker": {
          "color": "Blue",
          "size": 10
         },
         "mode": "lines+markers",
         "showlegend": false,
         "type": "scatter",
         "x": [
          3.099403428060249,
          2.8776422836621176
         ],
         "y": [
          4.7516602250242785,
          5.25316751157107
         ]
        },
        {
         "marker": {
          "color": "Blue",
          "size": 10
         },
         "mode": "lines+markers",
         "showlegend": false,
         "type": "scatter",
         "x": [
          5.681622117694463,
          5.239727712167007
         ],
         "y": [
          8.529266380001285,
          8.545025141396122
         ]
        },
        {
         "marker": {
          "color": "Blue",
          "size": 10
         },
         "mode": "lines+markers",
         "showlegend": false,
         "type": "scatter",
         "x": [
          10.991727712167005,
          10.041727712167006
         ],
         "y": [
          7.824025141396122,
          8.135025141396122
         ]
        },
        {
         "marker": {
          "color": "Blue",
          "size": 10
         },
         "mode": "lines+markers",
         "showlegend": false,
         "type": "scatter",
         "x": [
          6.610487265375832,
          6.145000000000001
         ],
         "y": [
          4.171395608134293,
          4.062
         ]
        },
        {
         "marker": {
          "color": "Blue",
          "size": 10
         },
         "mode": "lines+markers",
         "showlegend": false,
         "type": "scatter",
         "x": [
          0.5630930174518252,
          0.6144015154381517
         ],
         "y": [
          2.230753418329731,
          2.4299691038898157
         ]
        },
        {
         "marker": {
          "color": "Blue",
          "size": 10
         },
         "mode": "lines+markers",
         "showlegend": false,
         "type": "scatter",
         "x": [
          11.150727712167006,
          10.991727712167005
         ],
         "y": [
          6.837025141396122,
          7.824025141396122
         ]
        },
        {
         "marker": {
          "color": "Blue",
          "size": 10
         },
         "mode": "lines+markers",
         "showlegend": false,
         "type": "scatter",
         "x": [
          7.6161194125084055,
          7.714834626741027
         ],
         "y": [
          4.1830562357547825,
          4.0700781601696825
         ]
        },
        {
         "marker": {
          "color": "Blue",
          "size": 10
         },
         "mode": "lines+markers",
         "showlegend": false,
         "type": "scatter",
         "x": [
          11.467874034047385,
          10.991727712167005
         ],
         "y": [
          7.649937892058166,
          7.824025141396122
         ]
        },
        {
         "marker": {
          "color": "Blue",
          "size": 10
         },
         "mode": "lines+markers",
         "showlegend": false,
         "type": "scatter",
         "x": [
          12.143727712167006,
          11.150727712167006
         ],
         "y": [
          6.716025141396122,
          6.837025141396122
         ]
        }
       ],
       "layout": {
        "dragmode": "pan",
        "font": {
         "color": "rgba(230, 230, 230, 255)",
         "family": "Courier New, monospace"
        },
        "hovermode": false,
        "margin": {
         "b": 30,
         "l": 30,
         "r": 30,
         "t": 30
        },
        "paper_bgcolor": "rgba(50, 50, 60, 255)",
        "plot_bgcolor": "rgba(50, 50, 60, 255)",
        "shapes": [
         {
          "fillcolor": "rgba(255, 255, 255, 255)",
          "layer": "below",
          "line": {
           "width": 0
          },
          "type": "rect",
          "x0": 0,
          "x1": 16,
          "y0": -0.5,
          "y1": 0
         },
         {
          "fillcolor": "rgba(255, 255, 255, 255)",
          "layer": "below",
          "line": {
           "width": 0
          },
          "type": "rect",
          "x0": 0,
          "x1": 16,
          "y0": 9,
          "y1": 9.5
         },
         {
          "fillcolor": "rgba(255, 255, 255, 255)",
          "layer": "below",
          "line": {
           "width": 0
          },
          "type": "rect",
          "x0": -0.5,
          "x1": 0,
          "y0": -0.5,
          "y1": 9.5
         },
         {
          "fillcolor": "rgba(255, 255, 255, 255)",
          "layer": "below",
          "line": {
           "width": 0
          },
          "type": "rect",
          "x0": 16,
          "x1": 16.5,
          "y0": -0.5,
          "y1": 9.5
         },
         {
          "fillcolor": "rgba(150, 150, 150, 255)",
          "layer": "below",
          "line": {
           "width": 0
          },
          "type": "rect",
          "x0": 0,
          "x1": 3,
          "y0": 4.25,
          "y1": 4.75
         },
         {
          "fillcolor": "rgba(150, 150, 150, 255)",
          "layer": "below",
          "line": {
           "width": 0
          },
          "type": "rect",
          "x0": 5,
          "x1": 11,
          "y0": 4.25,
          "y1": 4.75
         },
         {
          "fillcolor": "rgba(150, 150, 150, 255)",
          "layer": "below",
          "line": {
           "width": 0
          },
          "type": "rect",
          "x0": 13,
          "x1": 16,
          "y0": 4.25,
          "y1": 4.75
         },
         {
          "fillcolor": "rgba(150, 150, 150, 255)",
          "layer": "below",
          "line": {
           "width": 0
          },
          "type": "rect",
          "x0": 7.75,
          "x1": 8.25,
          "y0": 1.75,
          "y1": 7.25
         },
         {
          "fillcolor": "rgba(150, 150, 150, 255)",
          "layer": "below",
          "line": {
           "width": 0
          },
          "type": "rect",
          "x0": 0,
          "x1": 3,
          "y0": 0,
          "y1": 1.75
         },
         {
          "fillcolor": "rgba(150, 150, 150, 255)",
          "layer": "below",
          "line": {
           "width": 0
          },
          "type": "rect",
          "x0": 13,
          "x1": 16,
          "y0": 0,
          "y1": 1.75
         },
         {
          "fillcolor": "rgba(150, 150, 150, 255)",
          "layer": "below",
          "line": {
           "width": 0
          },
          "type": "rect",
          "x0": 0,
          "x1": 3,
          "y0": 7.25,
          "y1": 9
         },
         {
          "fillcolor": "rgba(150, 150, 150, 255)",
          "layer": "below",
          "line": {
           "width": 0
          },
          "type": "rect",
          "x0": 13,
          "x1": 16,
          "y0": 7.25,
          "y1": 9
         },
         {
          "fillcolor": "rgba(150, 150, 150, 255)",
          "layer": "below",
          "line": {
           "width": 0
          },
          "type": "rect",
          "x0": 5,
          "x1": 11,
          "y0": 7.25,
          "y1": 7.75
         },
         {
          "fillcolor": "rgba(150, 150, 150, 255)",
          "layer": "below",
          "line": {
           "width": 0
          },
          "type": "rect",
          "x0": 5,
          "x1": 11,
          "y0": 1.25,
          "y1": 1.75
         }
        ],
        "sliders": [
         {
          "active": 0,
          "currentvalue": {
           "font": {
            "color": "rgb(230, 230, 230)",
            "family": "Courier New, monospace"
           },
           "prefix": "Step ",
           "visible": true,
           "xanchor": "right"
          },
          "font": {
           "color": "rgb(230, 230, 230)",
           "family": "Courier New, monospace"
          },
          "len": 0.95,
          "pad": {
           "b": 10,
           "t": 0
          },
          "steps": [
           {
            "args": [
             [
              "0"
             ],
             {
              "frame": {
               "duration": 0
              },
              "mode": "immediate"
             }
            ],
            "label": "0",
            "method": "animate"
           },
           {
            "args": [
             [
              "1"
             ],
             {
              "frame": {
               "duration": 0
              },
              "mode": "immediate"
             }
            ],
            "label": "1",
            "method": "animate"
           },
           {
            "args": [
             [
              "2"
             ],
             {
              "frame": {
               "duration": 0
              },
              "mode": "immediate"
             }
            ],
            "label": "2",
            "method": "animate"
           },
           {
            "args": [
             [
              "3"
             ],
             {
              "frame": {
               "duration": 0
              },
              "mode": "immediate"
             }
            ],
            "label": "3",
            "method": "animate"
           },
           {
            "args": [
             [
              "4"
             ],
             {
              "frame": {
               "duration": 0
              },
              "mode": "immediate"
             }
            ],
            "label": "4",
            "method": "animate"
           },
           {
            "args": [
             [
              "5"
             ],
             {
              "frame": {
               "duration": 0
              },
              "mode": "immediate"
             }
            ],
            "label": "5",
            "method": "animate"
           },
           {
            "args": [
             [
              "6"
             ],
             {
              "frame": {
               "duration": 0
              },
              "mode": "immediate"
             }
            ],
            "label": "6",
            "method": "animate"
           },
           {
            "args": [
             [
              "7"
             ],
             {
              "frame": {
               "duration": 0
              },
              "mode": "immediate"
             }
            ],
            "label": "7",
            "method": "animate"
           },
           {
            "args": [
             [
              "8"
             ],
             {
              "frame": {
               "duration": 0
              },
              "mode": "immediate"
             }
            ],
            "label": "8",
            "method": "animate"
           },
           {
            "args": [
             [
              "9"
             ],
             {
              "frame": {
               "duration": 0
              },
              "mode": "immediate"
             }
            ],
            "label": "9",
            "method": "animate"
           },
           {
            "args": [
             [
              "10"
             ],
             {
              "frame": {
               "duration": 0
              },
              "mode": "immediate"
             }
            ],
            "label": "10",
            "method": "animate"
           },
           {
            "args": [
             [
              "11"
             ],
             {
              "frame": {
               "duration": 0
              },
              "mode": "immediate"
             }
            ],
            "label": "11",
            "method": "animate"
           },
           {
            "args": [
             [
              "12"
             ],
             {
              "frame": {
               "duration": 0
              },
              "mode": "immediate"
             }
            ],
            "label": "12",
            "method": "animate"
           },
           {
            "args": [
             [
              "13"
             ],
             {
              "frame": {
               "duration": 0
              },
              "mode": "immediate"
             }
            ],
            "label": "13",
            "method": "animate"
           },
           {
            "args": [
             [
              "14"
             ],
             {
              "frame": {
               "duration": 0
              },
              "mode": "immediate"
             }
            ],
            "label": "14",
            "method": "animate"
           },
           {
            "args": [
             [
              "15"
             ],
             {
              "frame": {
               "duration": 0
              },
              "mode": "immediate"
             }
            ],
            "label": "15",
            "method": "animate"
           },
           {
            "args": [
             [
              "16"
             ],
             {
              "frame": {
               "duration": 0
              },
              "mode": "immediate"
             }
            ],
            "label": "16",
            "method": "animate"
           },
           {
            "args": [
             [
              "17"
             ],
             {
              "frame": {
               "duration": 0
              },
              "mode": "immediate"
             }
            ],
            "label": "17",
            "method": "animate"
           },
           {
            "args": [
             [
              "18"
             ],
             {
              "frame": {
               "duration": 0
              },
              "mode": "immediate"
             }
            ],
            "label": "18",
            "method": "animate"
           },
           {
            "args": [
             [
              "19"
             ],
             {
              "frame": {
               "duration": 0
              },
              "mode": "immediate"
             }
            ],
            "label": "19",
            "method": "animate"
           },
           {
            "args": [
             [
              "20"
             ],
             {
              "frame": {
               "duration": 0
              },
              "mode": "immediate"
             }
            ],
            "label": "20",
            "method": "animate"
           },
           {
            "args": [
             [
              "21"
             ],
             {
              "frame": {
               "duration": 0
              },
              "mode": "immediate"
             }
            ],
            "label": "21",
            "method": "animate"
           },
           {
            "args": [
             [
              "22"
             ],
             {
              "frame": {
               "duration": 0
              },
              "mode": "immediate"
             }
            ],
            "label": "22",
            "method": "animate"
           },
           {
            "args": [
             [
              "23"
             ],
             {
              "frame": {
               "duration": 0
              },
              "mode": "immediate"
             }
            ],
            "label": "23",
            "method": "animate"
           },
           {
            "args": [
             [
              "24"
             ],
             {
              "frame": {
               "duration": 0
              },
              "mode": "immediate"
             }
            ],
            "label": "24",
            "method": "animate"
           },
           {
            "args": [
             [
              "25"
             ],
             {
              "frame": {
               "duration": 0
              },
              "mode": "immediate"
             }
            ],
            "label": "25",
            "method": "animate"
           },
           {
            "args": [
             [
              "26"
             ],
             {
              "frame": {
               "duration": 0
              },
              "mode": "immediate"
             }
            ],
            "label": "26",
            "method": "animate"
           },
           {
            "args": [
             [
              "27"
             ],
             {
              "frame": {
               "duration": 0
              },
              "mode": "immediate"
             }
            ],
            "label": "27",
            "method": "animate"
           },
           {
            "args": [
             [
              "28"
             ],
             {
              "frame": {
               "duration": 0
              },
              "mode": "immediate"
             }
            ],
            "label": "28",
            "method": "animate"
           },
           {
            "args": [
             [
              "29"
             ],
             {
              "frame": {
               "duration": 0
              },
              "mode": "immediate"
             }
            ],
            "label": "29",
            "method": "animate"
           },
           {
            "args": [
             [
              "30"
             ],
             {
              "frame": {
               "duration": 0
              },
              "mode": "immediate"
             }
            ],
            "label": "30",
            "method": "animate"
           },
           {
            "args": [
             [
              "31"
             ],
             {
              "frame": {
               "duration": 0
              },
              "mode": "immediate"
             }
            ],
            "label": "31",
            "method": "animate"
           },
           {
            "args": [
             [
              "32"
             ],
             {
              "frame": {
               "duration": 0
              },
              "mode": "immediate"
             }
            ],
            "label": "32",
            "method": "animate"
           },
           {
            "args": [
             [
              "33"
             ],
             {
              "frame": {
               "duration": 0
              },
              "mode": "immediate"
             }
            ],
            "label": "33",
            "method": "animate"
           },
           {
            "args": [
             [
              "34"
             ],
             {
              "frame": {
               "duration": 0
              },
              "mode": "immediate"
             }
            ],
            "label": "34",
            "method": "animate"
           },
           {
            "args": [
             [
              "35"
             ],
             {
              "frame": {
               "duration": 0
              },
              "mode": "immediate"
             }
            ],
            "label": "35",
            "method": "animate"
           },
           {
            "args": [
             [
              "36"
             ],
             {
              "frame": {
               "duration": 0
              },
              "mode": "immediate"
             }
            ],
            "label": "36",
            "method": "animate"
           },
           {
            "args": [
             [
              "37"
             ],
             {
              "frame": {
               "duration": 0
              },
              "mode": "immediate"
             }
            ],
            "label": "37",
            "method": "animate"
           },
           {
            "args": [
             [
              "38"
             ],
             {
              "frame": {
               "duration": 0
              },
              "mode": "immediate"
             }
            ],
            "label": "38",
            "method": "animate"
           },
           {
            "args": [
             [
              "39"
             ],
             {
              "frame": {
               "duration": 0
              },
              "mode": "immediate"
             }
            ],
            "label": "39",
            "method": "animate"
           },
           {
            "args": [
             [
              "40"
             ],
             {
              "frame": {
               "duration": 0
              },
              "mode": "immediate"
             }
            ],
            "label": "40",
            "method": "animate"
           },
           {
            "args": [
             [
              "41"
             ],
             {
              "frame": {
               "duration": 0
              },
              "mode": "immediate"
             }
            ],
            "label": "41",
            "method": "animate"
           },
           {
            "args": [
             [
              "42"
             ],
             {
              "frame": {
               "duration": 0
              },
              "mode": "immediate"
             }
            ],
            "label": "42",
            "method": "animate"
           },
           {
            "args": [
             [
              "43"
             ],
             {
              "frame": {
               "duration": 0
              },
              "mode": "immediate"
             }
            ],
            "label": "43",
            "method": "animate"
           },
           {
            "args": [
             [
              "44"
             ],
             {
              "frame": {
               "duration": 0
              },
              "mode": "immediate"
             }
            ],
            "label": "44",
            "method": "animate"
           },
           {
            "args": [
             [
              "45"
             ],
             {
              "frame": {
               "duration": 0
              },
              "mode": "immediate"
             }
            ],
            "label": "45",
            "method": "animate"
           },
           {
            "args": [
             [
              "46"
             ],
             {
              "frame": {
               "duration": 0
              },
              "mode": "immediate"
             }
            ],
            "label": "46",
            "method": "animate"
           },
           {
            "args": [
             [
              "47"
             ],
             {
              "frame": {
               "duration": 0
              },
              "mode": "immediate"
             }
            ],
            "label": "47",
            "method": "animate"
           },
           {
            "args": [
             [
              "48"
             ],
             {
              "frame": {
               "duration": 0
              },
              "mode": "immediate"
             }
            ],
            "label": "48",
            "method": "animate"
           },
           {
            "args": [
             [
              "49"
             ],
             {
              "frame": {
               "duration": 0
              },
              "mode": "immediate"
             }
            ],
            "label": "49",
            "method": "animate"
           },
           {
            "args": [
             [
              "50"
             ],
             {
              "frame": {
               "duration": 0
              },
              "mode": "immediate"
             }
            ],
            "label": "50",
            "method": "animate"
           },
           {
            "args": [
             [
              "51"
             ],
             {
              "frame": {
               "duration": 0
              },
              "mode": "immediate"
             }
            ],
            "label": "51",
            "method": "animate"
           },
           {
            "args": [
             [
              "52"
             ],
             {
              "frame": {
               "duration": 0
              },
              "mode": "immediate"
             }
            ],
            "label": "52",
            "method": "animate"
           },
           {
            "args": [
             [
              "53"
             ],
             {
              "frame": {
               "duration": 0
              },
              "mode": "immediate"
             }
            ],
            "label": "53",
            "method": "animate"
           },
           {
            "args": [
             [
              "54"
             ],
             {
              "frame": {
               "duration": 0
              },
              "mode": "immediate"
             }
            ],
            "label": "54",
            "method": "animate"
           },
           {
            "args": [
             [
              "55"
             ],
             {
              "frame": {
               "duration": 0
              },
              "mode": "immediate"
             }
            ],
            "label": "55",
            "method": "animate"
           },
           {
            "args": [
             [
              "56"
             ],
             {
              "frame": {
               "duration": 0
              },
              "mode": "immediate"
             }
            ],
            "label": "56",
            "method": "animate"
           },
           {
            "args": [
             [
              "57"
             ],
             {
              "frame": {
               "duration": 0
              },
              "mode": "immediate"
             }
            ],
            "label": "57",
            "method": "animate"
           },
           {
            "args": [
             [
              "58"
             ],
             {
              "frame": {
               "duration": 0
              },
              "mode": "immediate"
             }
            ],
            "label": "58",
            "method": "animate"
           },
           {
            "args": [
             [
              "59"
             ],
             {
              "frame": {
               "duration": 0
              },
              "mode": "immediate"
             }
            ],
            "label": "59",
            "method": "animate"
           },
           {
            "args": [
             [
              "60"
             ],
             {
              "frame": {
               "duration": 0
              },
              "mode": "immediate"
             }
            ],
            "label": "60",
            "method": "animate"
           },
           {
            "args": [
             [
              "61"
             ],
             {
              "frame": {
               "duration": 0
              },
              "mode": "immediate"
             }
            ],
            "label": "61",
            "method": "animate"
           },
           {
            "args": [
             [
              "62"
             ],
             {
              "frame": {
               "duration": 0
              },
              "mode": "immediate"
             }
            ],
            "label": "62",
            "method": "animate"
           },
           {
            "args": [
             [
              "63"
             ],
             {
              "frame": {
               "duration": 0
              },
              "mode": "immediate"
             }
            ],
            "label": "63",
            "method": "animate"
           },
           {
            "args": [
             [
              "64"
             ],
             {
              "frame": {
               "duration": 0
              },
              "mode": "immediate"
             }
            ],
            "label": "64",
            "method": "animate"
           },
           {
            "args": [
             [
              "65"
             ],
             {
              "frame": {
               "duration": 0
              },
              "mode": "immediate"
             }
            ],
            "label": "65",
            "method": "animate"
           },
           {
            "args": [
             [
              "66"
             ],
             {
              "frame": {
               "duration": 0
              },
              "mode": "immediate"
             }
            ],
            "label": "66",
            "method": "animate"
           },
           {
            "args": [
             [
              "67"
             ],
             {
              "frame": {
               "duration": 0
              },
              "mode": "immediate"
             }
            ],
            "label": "67",
            "method": "animate"
           },
           {
            "args": [
             [
              "68"
             ],
             {
              "frame": {
               "duration": 0
              },
              "mode": "immediate"
             }
            ],
            "label": "68",
            "method": "animate"
           },
           {
            "args": [
             [
              "69"
             ],
             {
              "frame": {
               "duration": 0
              },
              "mode": "immediate"
             }
            ],
            "label": "69",
            "method": "animate"
           },
           {
            "args": [
             [
              "70"
             ],
             {
              "frame": {
               "duration": 0
              },
              "mode": "immediate"
             }
            ],
            "label": "70",
            "method": "animate"
           },
           {
            "args": [
             [
              "71"
             ],
             {
              "frame": {
               "duration": 0
              },
              "mode": "immediate"
             }
            ],
            "label": "71",
            "method": "animate"
           },
           {
            "args": [
             [
              "72"
             ],
             {
              "frame": {
               "duration": 0
              },
              "mode": "immediate"
             }
            ],
            "label": "72",
            "method": "animate"
           },
           {
            "args": [
             [
              "73"
             ],
             {
              "frame": {
               "duration": 0
              },
              "mode": "immediate"
             }
            ],
            "label": "73",
            "method": "animate"
           },
           {
            "args": [
             [
              "74"
             ],
             {
              "frame": {
               "duration": 0
              },
              "mode": "immediate"
             }
            ],
            "label": "74",
            "method": "animate"
           },
           {
            "args": [
             [
              "75"
             ],
             {
              "frame": {
               "duration": 0
              },
              "mode": "immediate"
             }
            ],
            "label": "75",
            "method": "animate"
           },
           {
            "args": [
             [
              "76"
             ],
             {
              "frame": {
               "duration": 0
              },
              "mode": "immediate"
             }
            ],
            "label": "76",
            "method": "animate"
           },
           {
            "args": [
             [
              "77"
             ],
             {
              "frame": {
               "duration": 0
              },
              "mode": "immediate"
             }
            ],
            "label": "77",
            "method": "animate"
           },
           {
            "args": [
             [
              "78"
             ],
             {
              "frame": {
               "duration": 0
              },
              "mode": "immediate"
             }
            ],
            "label": "78",
            "method": "animate"
           },
           {
            "args": [
             [
              "79"
             ],
             {
              "frame": {
               "duration": 0
              },
              "mode": "immediate"
             }
            ],
            "label": "79",
            "method": "animate"
           },
           {
            "args": [
             [
              "80"
             ],
             {
              "frame": {
               "duration": 0
              },
              "mode": "immediate"
             }
            ],
            "label": "80",
            "method": "animate"
           },
           {
            "args": [
             [
              "81"
             ],
             {
              "frame": {
               "duration": 0
              },
              "mode": "immediate"
             }
            ],
            "label": "81",
            "method": "animate"
           },
           {
            "args": [
             [
              "82"
             ],
             {
              "frame": {
               "duration": 0
              },
              "mode": "immediate"
             }
            ],
            "label": "82",
            "method": "animate"
           },
           {
            "args": [
             [
              "83"
             ],
             {
              "frame": {
               "duration": 0
              },
              "mode": "immediate"
             }
            ],
            "label": "83",
            "method": "animate"
           },
           {
            "args": [
             [
              "84"
             ],
             {
              "frame": {
               "duration": 0
              },
              "mode": "immediate"
             }
            ],
            "label": "84",
            "method": "animate"
           },
           {
            "args": [
             [
              "85"
             ],
             {
              "frame": {
               "duration": 0
              },
              "mode": "immediate"
             }
            ],
            "label": "85",
            "method": "animate"
           },
           {
            "args": [
             [
              "86"
             ],
             {
              "frame": {
               "duration": 0
              },
              "mode": "immediate"
             }
            ],
            "label": "86",
            "method": "animate"
           },
           {
            "args": [
             [
              "87"
             ],
             {
              "frame": {
               "duration": 0
              },
              "mode": "immediate"
             }
            ],
            "label": "87",
            "method": "animate"
           },
           {
            "args": [
             [
              "88"
             ],
             {
              "frame": {
               "duration": 0
              },
              "mode": "immediate"
             }
            ],
            "label": "88",
            "method": "animate"
           },
           {
            "args": [
             [
              "89"
             ],
             {
              "frame": {
               "duration": 0
              },
              "mode": "immediate"
             }
            ],
            "label": "89",
            "method": "animate"
           },
           {
            "args": [
             [
              "90"
             ],
             {
              "frame": {
               "duration": 0
              },
              "mode": "immediate"
             }
            ],
            "label": "90",
            "method": "animate"
           },
           {
            "args": [
             [
              "91"
             ],
             {
              "frame": {
               "duration": 0
              },
              "mode": "immediate"
             }
            ],
            "label": "91",
            "method": "animate"
           },
           {
            "args": [
             [
              "92"
             ],
             {
              "frame": {
               "duration": 0
              },
              "mode": "immediate"
             }
            ],
            "label": "92",
            "method": "animate"
           },
           {
            "args": [
             [
              "93"
             ],
             {
              "frame": {
               "duration": 0
              },
              "mode": "immediate"
             }
            ],
            "label": "93",
            "method": "animate"
           },
           {
            "args": [
             [
              "94"
             ],
             {
              "frame": {
               "duration": 0
              },
              "mode": "immediate"
             }
            ],
            "label": "94",
            "method": "animate"
           },
           {
            "args": [
             [
              "95"
             ],
             {
              "frame": {
               "duration": 0
              },
              "mode": "immediate"
             }
            ],
            "label": "95",
            "method": "animate"
           }
          ],
          "x": 0.05,
          "xanchor": "left",
          "y": 0,
          "yanchor": "top"
         }
        ],
        "template": {
         "data": {
          "bar": [
           {
            "error_x": {
             "color": "#2a3f5f"
            },
            "error_y": {
             "color": "#2a3f5f"
            },
            "marker": {
             "line": {
              "color": "#E5ECF6",
              "width": 0.5
             },
             "pattern": {
              "fillmode": "overlay",
              "size": 10,
              "solidity": 0.2
             }
            },
            "type": "bar"
           }
          ],
          "barpolar": [
           {
            "marker": {
             "line": {
              "color": "#E5ECF6",
              "width": 0.5
             },
             "pattern": {
              "fillmode": "overlay",
              "size": 10,
              "solidity": 0.2
             }
            },
            "type": "barpolar"
           }
          ],
          "carpet": [
           {
            "aaxis": {
             "endlinecolor": "#2a3f5f",
             "gridcolor": "white",
             "linecolor": "white",
             "minorgridcolor": "white",
             "startlinecolor": "#2a3f5f"
            },
            "baxis": {
             "endlinecolor": "#2a3f5f",
             "gridcolor": "white",
             "linecolor": "white",
             "minorgridcolor": "white",
             "startlinecolor": "#2a3f5f"
            },
            "type": "carpet"
           }
          ],
          "choropleth": [
           {
            "colorbar": {
             "outlinewidth": 0,
             "ticks": ""
            },
            "type": "choropleth"
           }
          ],
          "contour": [
           {
            "colorbar": {
             "outlinewidth": 0,
             "ticks": ""
            },
            "colorscale": [
             [
              0,
              "#0d0887"
             ],
             [
              0.1111111111111111,
              "#46039f"
             ],
             [
              0.2222222222222222,
              "#7201a8"
             ],
             [
              0.3333333333333333,
              "#9c179e"
             ],
             [
              0.4444444444444444,
              "#bd3786"
             ],
             [
              0.5555555555555556,
              "#d8576b"
             ],
             [
              0.6666666666666666,
              "#ed7953"
             ],
             [
              0.7777777777777778,
              "#fb9f3a"
             ],
             [
              0.8888888888888888,
              "#fdca26"
             ],
             [
              1,
              "#f0f921"
             ]
            ],
            "type": "contour"
           }
          ],
          "contourcarpet": [
           {
            "colorbar": {
             "outlinewidth": 0,
             "ticks": ""
            },
            "type": "contourcarpet"
           }
          ],
          "heatmap": [
           {
            "colorbar": {
             "outlinewidth": 0,
             "ticks": ""
            },
            "colorscale": [
             [
              0,
              "#0d0887"
             ],
             [
              0.1111111111111111,
              "#46039f"
             ],
             [
              0.2222222222222222,
              "#7201a8"
             ],
             [
              0.3333333333333333,
              "#9c179e"
             ],
             [
              0.4444444444444444,
              "#bd3786"
             ],
             [
              0.5555555555555556,
              "#d8576b"
             ],
             [
              0.6666666666666666,
              "#ed7953"
             ],
             [
              0.7777777777777778,
              "#fb9f3a"
             ],
             [
              0.8888888888888888,
              "#fdca26"
             ],
             [
              1,
              "#f0f921"
             ]
            ],
            "type": "heatmap"
           }
          ],
          "heatmapgl": [
           {
            "colorbar": {
             "outlinewidth": 0,
             "ticks": ""
            },
            "colorscale": [
             [
              0,
              "#0d0887"
             ],
             [
              0.1111111111111111,
              "#46039f"
             ],
             [
              0.2222222222222222,
              "#7201a8"
             ],
             [
              0.3333333333333333,
              "#9c179e"
             ],
             [
              0.4444444444444444,
              "#bd3786"
             ],
             [
              0.5555555555555556,
              "#d8576b"
             ],
             [
              0.6666666666666666,
              "#ed7953"
             ],
             [
              0.7777777777777778,
              "#fb9f3a"
             ],
             [
              0.8888888888888888,
              "#fdca26"
             ],
             [
              1,
              "#f0f921"
             ]
            ],
            "type": "heatmapgl"
           }
          ],
          "histogram": [
           {
            "marker": {
             "pattern": {
              "fillmode": "overlay",
              "size": 10,
              "solidity": 0.2
             }
            },
            "type": "histogram"
           }
          ],
          "histogram2d": [
           {
            "colorbar": {
             "outlinewidth": 0,
             "ticks": ""
            },
            "colorscale": [
             [
              0,
              "#0d0887"
             ],
             [
              0.1111111111111111,
              "#46039f"
             ],
             [
              0.2222222222222222,
              "#7201a8"
             ],
             [
              0.3333333333333333,
              "#9c179e"
             ],
             [
              0.4444444444444444,
              "#bd3786"
             ],
             [
              0.5555555555555556,
              "#d8576b"
             ],
             [
              0.6666666666666666,
              "#ed7953"
             ],
             [
              0.7777777777777778,
              "#fb9f3a"
             ],
             [
              0.8888888888888888,
              "#fdca26"
             ],
             [
              1,
              "#f0f921"
             ]
            ],
            "type": "histogram2d"
           }
          ],
          "histogram2dcontour": [
           {
            "colorbar": {
             "outlinewidth": 0,
             "ticks": ""
            },
            "colorscale": [
             [
              0,
              "#0d0887"
             ],
             [
              0.1111111111111111,
              "#46039f"
             ],
             [
              0.2222222222222222,
              "#7201a8"
             ],
             [
              0.3333333333333333,
              "#9c179e"
             ],
             [
              0.4444444444444444,
              "#bd3786"
             ],
             [
              0.5555555555555556,
              "#d8576b"
             ],
             [
              0.6666666666666666,
              "#ed7953"
             ],
             [
              0.7777777777777778,
              "#fb9f3a"
             ],
             [
              0.8888888888888888,
              "#fdca26"
             ],
             [
              1,
              "#f0f921"
             ]
            ],
            "type": "histogram2dcontour"
           }
          ],
          "mesh3d": [
           {
            "colorbar": {
             "outlinewidth": 0,
             "ticks": ""
            },
            "type": "mesh3d"
           }
          ],
          "parcoords": [
           {
            "line": {
             "colorbar": {
              "outlinewidth": 0,
              "ticks": ""
             }
            },
            "type": "parcoords"
           }
          ],
          "pie": [
           {
            "automargin": true,
            "type": "pie"
           }
          ],
          "scatter": [
           {
            "fillpattern": {
             "fillmode": "overlay",
             "size": 10,
             "solidity": 0.2
            },
            "type": "scatter"
           }
          ],
          "scatter3d": [
           {
            "line": {
             "colorbar": {
              "outlinewidth": 0,
              "ticks": ""
             }
            },
            "marker": {
             "colorbar": {
              "outlinewidth": 0,
              "ticks": ""
             }
            },
            "type": "scatter3d"
           }
          ],
          "scattercarpet": [
           {
            "marker": {
             "colorbar": {
              "outlinewidth": 0,
              "ticks": ""
             }
            },
            "type": "scattercarpet"
           }
          ],
          "scattergeo": [
           {
            "marker": {
             "colorbar": {
              "outlinewidth": 0,
              "ticks": ""
             }
            },
            "type": "scattergeo"
           }
          ],
          "scattergl": [
           {
            "marker": {
             "colorbar": {
              "outlinewidth": 0,
              "ticks": ""
             }
            },
            "type": "scattergl"
           }
          ],
          "scattermapbox": [
           {
            "marker": {
             "colorbar": {
              "outlinewidth": 0,
              "ticks": ""
             }
            },
            "type": "scattermapbox"
           }
          ],
          "scatterpolar": [
           {
            "marker": {
             "colorbar": {
              "outlinewidth": 0,
              "ticks": ""
             }
            },
            "type": "scatterpolar"
           }
          ],
          "scatterpolargl": [
           {
            "marker": {
             "colorbar": {
              "outlinewidth": 0,
              "ticks": ""
             }
            },
            "type": "scatterpolargl"
           }
          ],
          "scatterternary": [
           {
            "marker": {
             "colorbar": {
              "outlinewidth": 0,
              "ticks": ""
             }
            },
            "type": "scatterternary"
           }
          ],
          "surface": [
           {
            "colorbar": {
             "outlinewidth": 0,
             "ticks": ""
            },
            "colorscale": [
             [
              0,
              "#0d0887"
             ],
             [
              0.1111111111111111,
              "#46039f"
             ],
             [
              0.2222222222222222,
              "#7201a8"
             ],
             [
              0.3333333333333333,
              "#9c179e"
             ],
             [
              0.4444444444444444,
              "#bd3786"
             ],
             [
              0.5555555555555556,
              "#d8576b"
             ],
             [
              0.6666666666666666,
              "#ed7953"
             ],
             [
              0.7777777777777778,
              "#fb9f3a"
             ],
             [
              0.8888888888888888,
              "#fdca26"
             ],
             [
              1,
              "#f0f921"
             ]
            ],
            "type": "surface"
           }
          ],
          "table": [
           {
            "cells": {
             "fill": {
              "color": "#EBF0F8"
             },
             "line": {
              "color": "white"
             }
            },
            "header": {
             "fill": {
              "color": "#C8D4E3"
             },
             "line": {
              "color": "white"
             }
            },
            "type": "table"
           }
          ]
         },
         "layout": {
          "annotationdefaults": {
           "arrowcolor": "#2a3f5f",
           "arrowhead": 0,
           "arrowwidth": 1
          },
          "autotypenumbers": "strict",
          "coloraxis": {
           "colorbar": {
            "outlinewidth": 0,
            "ticks": ""
           }
          },
          "colorscale": {
           "diverging": [
            [
             0,
             "#8e0152"
            ],
            [
             0.1,
             "#c51b7d"
            ],
            [
             0.2,
             "#de77ae"
            ],
            [
             0.3,
             "#f1b6da"
            ],
            [
             0.4,
             "#fde0ef"
            ],
            [
             0.5,
             "#f7f7f7"
            ],
            [
             0.6,
             "#e6f5d0"
            ],
            [
             0.7,
             "#b8e186"
            ],
            [
             0.8,
             "#7fbc41"
            ],
            [
             0.9,
             "#4d9221"
            ],
            [
             1,
             "#276419"
            ]
           ],
           "sequential": [
            [
             0,
             "#0d0887"
            ],
            [
             0.1111111111111111,
             "#46039f"
            ],
            [
             0.2222222222222222,
             "#7201a8"
            ],
            [
             0.3333333333333333,
             "#9c179e"
            ],
            [
             0.4444444444444444,
             "#bd3786"
            ],
            [
             0.5555555555555556,
             "#d8576b"
            ],
            [
             0.6666666666666666,
             "#ed7953"
            ],
            [
             0.7777777777777778,
             "#fb9f3a"
            ],
            [
             0.8888888888888888,
             "#fdca26"
            ],
            [
             1,
             "#f0f921"
            ]
           ],
           "sequentialminus": [
            [
             0,
             "#0d0887"
            ],
            [
             0.1111111111111111,
             "#46039f"
            ],
            [
             0.2222222222222222,
             "#7201a8"
            ],
            [
             0.3333333333333333,
             "#9c179e"
            ],
            [
             0.4444444444444444,
             "#bd3786"
            ],
            [
             0.5555555555555556,
             "#d8576b"
            ],
            [
             0.6666666666666666,
             "#ed7953"
            ],
            [
             0.7777777777777778,
             "#fb9f3a"
            ],
            [
             0.8888888888888888,
             "#fdca26"
            ],
            [
             1,
             "#f0f921"
            ]
           ]
          },
          "colorway": [
           "#636efa",
           "#EF553B",
           "#00cc96",
           "#ab63fa",
           "#FFA15A",
           "#19d3f3",
           "#FF6692",
           "#B6E880",
           "#FF97FF",
           "#FECB52"
          ],
          "font": {
           "color": "#2a3f5f"
          },
          "geo": {
           "bgcolor": "white",
           "lakecolor": "white",
           "landcolor": "#E5ECF6",
           "showlakes": true,
           "showland": true,
           "subunitcolor": "white"
          },
          "hoverlabel": {
           "align": "left"
          },
          "hovermode": "closest",
          "mapbox": {
           "style": "light"
          },
          "paper_bgcolor": "white",
          "plot_bgcolor": "#E5ECF6",
          "polar": {
           "angularaxis": {
            "gridcolor": "white",
            "linecolor": "white",
            "ticks": ""
           },
           "bgcolor": "#E5ECF6",
           "radialaxis": {
            "gridcolor": "white",
            "linecolor": "white",
            "ticks": ""
           }
          },
          "scene": {
           "xaxis": {
            "backgroundcolor": "#E5ECF6",
            "gridcolor": "white",
            "gridwidth": 2,
            "linecolor": "white",
            "showbackground": true,
            "ticks": "",
            "zerolinecolor": "white"
           },
           "yaxis": {
            "backgroundcolor": "#E5ECF6",
            "gridcolor": "white",
            "gridwidth": 2,
            "linecolor": "white",
            "showbackground": true,
            "ticks": "",
            "zerolinecolor": "white"
           },
           "zaxis": {
            "backgroundcolor": "#E5ECF6",
            "gridcolor": "white",
            "gridwidth": 2,
            "linecolor": "white",
            "showbackground": true,
            "ticks": "",
            "zerolinecolor": "white"
           }
          },
          "shapedefaults": {
           "line": {
            "color": "#2a3f5f"
           }
          },
          "ternary": {
           "aaxis": {
            "gridcolor": "white",
            "linecolor": "white",
            "ticks": ""
           },
           "baxis": {
            "gridcolor": "white",
            "linecolor": "white",
            "ticks": ""
           },
           "bgcolor": "#E5ECF6",
           "caxis": {
            "gridcolor": "white",
            "linecolor": "white",
            "ticks": ""
           }
          },
          "title": {
           "x": 0.05
          },
          "xaxis": {
           "automargin": true,
           "gridcolor": "white",
           "linecolor": "white",
           "ticks": "",
           "title": {
            "standoff": 15
           },
           "zerolinecolor": "white",
           "zerolinewidth": 2
          },
          "yaxis": {
           "automargin": true,
           "gridcolor": "white",
           "linecolor": "white",
           "ticks": "",
           "title": {
            "standoff": 15
           },
           "zerolinecolor": "white",
           "zerolinewidth": 2
          }
         }
        },
        "updatemenus": [
         {
          "buttons": [
           {
            "args": [
             null,
             {
              "frame": {
               "duration": 0
              },
              "fromcurrent": true
             }
            ],
            "label": "Play",
            "method": "animate"
           }
          ],
          "direction": "left",
          "font": {
           "color": "rgb(230, 230, 230)",
           "family": "Courier New, monospace"
          },
          "pad": {
           "r": 10,
           "t": 30
          },
          "showactive": false,
          "type": "buttons",
          "x": 0.05,
          "xanchor": "right",
          "y": 0,
          "yanchor": "top"
         }
        ],
        "xaxis": {
         "dtick": 1,
         "gridcolor": "rgba(175, 175, 175, 255)",
         "range": [
          -1,
          17
         ],
         "showgrid": true,
         "showticklabels": true,
         "zeroline": false
        },
        "yaxis": {
         "dtick": 1,
         "gridcolor": "rgba(175, 175, 175, 255)",
         "range": [
          -1,
          10
         ],
         "scaleanchor": "x",
         "scaleratio": 1,
         "showgrid": true,
         "showticklabels": true,
         "zeroline": false
        }
       }
      }
     },
     "metadata": {},
     "output_type": "display_data"
    }
   ],
   "source": [
    "\n",
    "start_pos = np.array([4,1])\n",
    "goal_pos = np.array([13,6])\n",
    "path, rrt_tree = RRT(start_pos, goal_pos, env)\n",
    "# path = smooth_path(path, env)\n",
    "visualize_tree(env, rrt_tree)\n",
    "\n"
   ]
  },
  {
   "cell_type": "code",
   "execution_count": 11,
   "metadata": {
    "id": "HcQ4SwAELpVv"
   },
   "outputs": [
    {
     "data": {
      "application/vnd.plotly.v1+json": {
       "config": {
        "plotlyServerURL": "https://plot.ly"
       },
       "data": [
        {
         "marker": {
          "color": "Blue",
          "size": 10
         },
         "mode": "lines+markers",
         "showlegend": false,
         "type": "scatter",
         "x": [
          4
         ],
         "y": [
          1
         ]
        }
       ],
       "frames": [
        {
         "data": [
          {
           "marker": {
            "color": "Blue",
            "size": 10
           },
           "mode": "lines+markers",
           "showlegend": false,
           "type": "scatter",
           "x": [
            4
           ],
           "y": [
            1
           ]
          }
         ],
         "name": "0"
        },
        {
         "data": [
          {
           "marker": {
            "color": "Blue",
            "size": 10
           },
           "mode": "lines+markers",
           "showlegend": false,
           "type": "scatter",
           "x": [
            4,
            4.192
           ],
           "y": [
            1,
            1.9809999999999999
           ]
          }
         ],
         "name": "1"
        },
        {
         "data": [
          {
           "marker": {
            "color": "Blue",
            "size": 10
           },
           "mode": "lines+markers",
           "showlegend": false,
           "type": "scatter",
           "x": [
            4,
            4.192,
            4.811
           ],
           "y": [
            1,
            1.9809999999999999,
            2.767
           ]
          }
         ],
         "name": "2"
        },
        {
         "data": [
          {
           "marker": {
            "color": "Blue",
            "size": 10
           },
           "mode": "lines+markers",
           "showlegend": false,
           "type": "scatter",
           "x": [
            4,
            4.192,
            4.811,
            4.7877277121670065
           ],
           "y": [
            1,
            1.9809999999999999,
            2.767,
            2.9360251413961227
           ]
          }
         ],
         "name": "3"
        },
        {
         "data": [
          {
           "marker": {
            "color": "Blue",
            "size": 10
           },
           "mode": "lines+markers",
           "showlegend": false,
           "type": "scatter",
           "x": [
            4,
            4.192,
            4.811,
            4.7877277121670065,
            4.022727712167007
           ],
           "y": [
            1,
            1.9809999999999999,
            2.767,
            2.9360251413961227,
            3.580025141396123
           ]
          }
         ],
         "name": "4"
        },
        {
         "data": [
          {
           "marker": {
            "color": "Blue",
            "size": 10
           },
           "mode": "lines+markers",
           "showlegend": false,
           "type": "scatter",
           "x": [
            4,
            4.192,
            4.811,
            4.7877277121670065,
            4.022727712167007,
            3.601727712167007
           ],
           "y": [
            1,
            1.9809999999999999,
            2.767,
            2.9360251413961227,
            3.580025141396123,
            4.487025141396122
           ]
          }
         ],
         "name": "5"
        },
        {
         "data": [
          {
           "marker": {
            "color": "Blue",
            "size": 10
           },
           "mode": "lines+markers",
           "showlegend": false,
           "type": "scatter",
           "x": [
            4,
            4.192,
            4.811,
            4.7877277121670065,
            4.022727712167007,
            3.601727712167007,
            3.017727712167007
           ],
           "y": [
            1,
            1.9809999999999999,
            2.767,
            2.9360251413961227,
            3.580025141396123,
            4.487025141396122,
            5.299025141396123
           ]
          }
         ],
         "name": "6"
        },
        {
         "data": [
          {
           "marker": {
            "color": "Blue",
            "size": 10
           },
           "mode": "lines+markers",
           "showlegend": false,
           "type": "scatter",
           "x": [
            4,
            4.192,
            4.811,
            4.7877277121670065,
            4.022727712167007,
            3.601727712167007,
            3.017727712167007,
            2.709727712167007
           ],
           "y": [
            1,
            1.9809999999999999,
            2.767,
            2.9360251413961227,
            3.580025141396123,
            4.487025141396122,
            5.299025141396123,
            6.250025141396122
           ]
          }
         ],
         "name": "7"
        },
        {
         "data": [
          {
           "marker": {
            "color": "Blue",
            "size": 10
           },
           "mode": "lines+markers",
           "showlegend": false,
           "type": "scatter",
           "x": [
            4,
            4.192,
            4.811,
            4.7877277121670065,
            4.022727712167007,
            3.601727712167007,
            3.017727712167007,
            2.709727712167007,
            2.939727712167007
           ],
           "y": [
            1,
            1.9809999999999999,
            2.767,
            2.9360251413961227,
            3.580025141396123,
            4.487025141396122,
            5.299025141396123,
            6.250025141396122,
            7.223025141396122
           ]
          }
         ],
         "name": "8"
        },
        {
         "data": [
          {
           "marker": {
            "color": "Blue",
            "size": 10
           },
           "mode": "lines+markers",
           "showlegend": false,
           "type": "scatter",
           "x": [
            4,
            4.192,
            4.811,
            4.7877277121670065,
            4.022727712167007,
            3.601727712167007,
            3.017727712167007,
            2.709727712167007,
            2.939727712167007,
            3.895727712167007
           ],
           "y": [
            1,
            1.9809999999999999,
            2.767,
            2.9360251413961227,
            3.580025141396123,
            4.487025141396122,
            5.299025141396123,
            6.250025141396122,
            7.223025141396122,
            7.517025141396122
           ]
          }
         ],
         "name": "9"
        },
        {
         "data": [
          {
           "marker": {
            "color": "Blue",
            "size": 10
           },
           "mode": "lines+markers",
           "showlegend": false,
           "type": "scatter",
           "x": [
            4,
            4.192,
            4.811,
            4.7877277121670065,
            4.022727712167007,
            3.601727712167007,
            3.017727712167007,
            2.709727712167007,
            2.939727712167007,
            3.895727712167007,
            4.8917277121670075
           ],
           "y": [
            1,
            1.9809999999999999,
            2.767,
            2.9360251413961227,
            3.580025141396123,
            4.487025141396122,
            5.299025141396123,
            6.250025141396122,
            7.223025141396122,
            7.517025141396122,
            7.608025141396122
           ]
          }
         ],
         "name": "10"
        },
        {
         "data": [
          {
           "marker": {
            "color": "Blue",
            "size": 10
           },
           "mode": "lines+markers",
           "showlegend": false,
           "type": "scatter",
           "x": [
            4,
            4.192,
            4.811,
            4.7877277121670065,
            4.022727712167007,
            3.601727712167007,
            3.017727712167007,
            2.709727712167007,
            2.939727712167007,
            3.895727712167007,
            4.8917277121670075,
            5.239727712167007
           ],
           "y": [
            1,
            1.9809999999999999,
            2.767,
            2.9360251413961227,
            3.580025141396123,
            4.487025141396122,
            5.299025141396123,
            6.250025141396122,
            7.223025141396122,
            7.517025141396122,
            7.608025141396122,
            8.545025141396122
           ]
          }
         ],
         "name": "11"
        },
        {
         "data": [
          {
           "marker": {
            "color": "Blue",
            "size": 10
           },
           "mode": "lines+markers",
           "showlegend": false,
           "type": "scatter",
           "x": [
            4,
            4.192,
            4.811,
            4.7877277121670065,
            4.022727712167007,
            3.601727712167007,
            3.017727712167007,
            2.709727712167007,
            2.939727712167007,
            3.895727712167007,
            4.8917277121670075,
            5.239727712167007,
            6.2027277121670075
           ],
           "y": [
            1,
            1.9809999999999999,
            2.767,
            2.9360251413961227,
            3.580025141396123,
            4.487025141396122,
            5.299025141396123,
            6.250025141396122,
            7.223025141396122,
            7.517025141396122,
            7.608025141396122,
            8.545025141396122,
            8.275025141396123
           ]
          }
         ],
         "name": "12"
        },
        {
         "data": [
          {
           "marker": {
            "color": "Blue",
            "size": 10
           },
           "mode": "lines+markers",
           "showlegend": false,
           "type": "scatter",
           "x": [
            4,
            4.192,
            4.811,
            4.7877277121670065,
            4.022727712167007,
            3.601727712167007,
            3.017727712167007,
            2.709727712167007,
            2.939727712167007,
            3.895727712167007,
            4.8917277121670075,
            5.239727712167007,
            6.2027277121670075,
            7.199727712167007
           ],
           "y": [
            1,
            1.9809999999999999,
            2.767,
            2.9360251413961227,
            3.580025141396123,
            4.487025141396122,
            5.299025141396123,
            6.250025141396122,
            7.223025141396122,
            7.517025141396122,
            7.608025141396122,
            8.545025141396122,
            8.275025141396123,
            8.347025141396122
           ]
          }
         ],
         "name": "13"
        },
        {
         "data": [
          {
           "marker": {
            "color": "Blue",
            "size": 10
           },
           "mode": "lines+markers",
           "showlegend": false,
           "type": "scatter",
           "x": [
            4,
            4.192,
            4.811,
            4.7877277121670065,
            4.022727712167007,
            3.601727712167007,
            3.017727712167007,
            2.709727712167007,
            2.939727712167007,
            3.895727712167007,
            4.8917277121670075,
            5.239727712167007,
            6.2027277121670075,
            7.199727712167007,
            8.173727712167008
           ],
           "y": [
            1,
            1.9809999999999999,
            2.767,
            2.9360251413961227,
            3.580025141396123,
            4.487025141396122,
            5.299025141396123,
            6.250025141396122,
            7.223025141396122,
            7.517025141396122,
            7.608025141396122,
            8.545025141396122,
            8.275025141396123,
            8.347025141396122,
            8.120025141396122
           ]
          }
         ],
         "name": "14"
        },
        {
         "data": [
          {
           "marker": {
            "color": "Blue",
            "size": 10
           },
           "mode": "lines+markers",
           "showlegend": false,
           "type": "scatter",
           "x": [
            4,
            4.192,
            4.811,
            4.7877277121670065,
            4.022727712167007,
            3.601727712167007,
            3.017727712167007,
            2.709727712167007,
            2.939727712167007,
            3.895727712167007,
            4.8917277121670075,
            5.239727712167007,
            6.2027277121670075,
            7.199727712167007,
            8.173727712167008,
            9.110727712167007
           ],
           "y": [
            1,
            1.9809999999999999,
            2.767,
            2.9360251413961227,
            3.580025141396123,
            4.487025141396122,
            5.299025141396123,
            6.250025141396122,
            7.223025141396122,
            7.517025141396122,
            7.608025141396122,
            8.545025141396122,
            8.275025141396123,
            8.347025141396122,
            8.120025141396122,
            7.770025141396122
           ]
          }
         ],
         "name": "15"
        },
        {
         "data": [
          {
           "marker": {
            "color": "Blue",
            "size": 10
           },
           "mode": "lines+markers",
           "showlegend": false,
           "type": "scatter",
           "x": [
            4,
            4.192,
            4.811,
            4.7877277121670065,
            4.022727712167007,
            3.601727712167007,
            3.017727712167007,
            2.709727712167007,
            2.939727712167007,
            3.895727712167007,
            4.8917277121670075,
            5.239727712167007,
            6.2027277121670075,
            7.199727712167007,
            8.173727712167008,
            9.110727712167007,
            10.041727712167006
           ],
           "y": [
            1,
            1.9809999999999999,
            2.767,
            2.9360251413961227,
            3.580025141396123,
            4.487025141396122,
            5.299025141396123,
            6.250025141396122,
            7.223025141396122,
            7.517025141396122,
            7.608025141396122,
            8.545025141396122,
            8.275025141396123,
            8.347025141396122,
            8.120025141396122,
            7.770025141396122,
            8.135025141396122
           ]
          }
         ],
         "name": "16"
        },
        {
         "data": [
          {
           "marker": {
            "color": "Blue",
            "size": 10
           },
           "mode": "lines+markers",
           "showlegend": false,
           "type": "scatter",
           "x": [
            4,
            4.192,
            4.811,
            4.7877277121670065,
            4.022727712167007,
            3.601727712167007,
            3.017727712167007,
            2.709727712167007,
            2.939727712167007,
            3.895727712167007,
            4.8917277121670075,
            5.239727712167007,
            6.2027277121670075,
            7.199727712167007,
            8.173727712167008,
            9.110727712167007,
            10.041727712167006,
            10.991727712167005
           ],
           "y": [
            1,
            1.9809999999999999,
            2.767,
            2.9360251413961227,
            3.580025141396123,
            4.487025141396122,
            5.299025141396123,
            6.250025141396122,
            7.223025141396122,
            7.517025141396122,
            7.608025141396122,
            8.545025141396122,
            8.275025141396123,
            8.347025141396122,
            8.120025141396122,
            7.770025141396122,
            8.135025141396122,
            7.824025141396122
           ]
          }
         ],
         "name": "17"
        },
        {
         "data": [
          {
           "marker": {
            "color": "Blue",
            "size": 10
           },
           "mode": "lines+markers",
           "showlegend": false,
           "type": "scatter",
           "x": [
            4,
            4.192,
            4.811,
            4.7877277121670065,
            4.022727712167007,
            3.601727712167007,
            3.017727712167007,
            2.709727712167007,
            2.939727712167007,
            3.895727712167007,
            4.8917277121670075,
            5.239727712167007,
            6.2027277121670075,
            7.199727712167007,
            8.173727712167008,
            9.110727712167007,
            10.041727712167006,
            10.991727712167005,
            11.150727712167006
           ],
           "y": [
            1,
            1.9809999999999999,
            2.767,
            2.9360251413961227,
            3.580025141396123,
            4.487025141396122,
            5.299025141396123,
            6.250025141396122,
            7.223025141396122,
            7.517025141396122,
            7.608025141396122,
            8.545025141396122,
            8.275025141396123,
            8.347025141396122,
            8.120025141396122,
            7.770025141396122,
            8.135025141396122,
            7.824025141396122,
            6.837025141396122
           ]
          }
         ],
         "name": "18"
        },
        {
         "data": [
          {
           "marker": {
            "color": "Blue",
            "size": 10
           },
           "mode": "lines+markers",
           "showlegend": false,
           "type": "scatter",
           "x": [
            4,
            4.192,
            4.811,
            4.7877277121670065,
            4.022727712167007,
            3.601727712167007,
            3.017727712167007,
            2.709727712167007,
            2.939727712167007,
            3.895727712167007,
            4.8917277121670075,
            5.239727712167007,
            6.2027277121670075,
            7.199727712167007,
            8.173727712167008,
            9.110727712167007,
            10.041727712167006,
            10.991727712167005,
            11.150727712167006,
            12.143727712167006
           ],
           "y": [
            1,
            1.9809999999999999,
            2.767,
            2.9360251413961227,
            3.580025141396123,
            4.487025141396122,
            5.299025141396123,
            6.250025141396122,
            7.223025141396122,
            7.517025141396122,
            7.608025141396122,
            8.545025141396122,
            8.275025141396123,
            8.347025141396122,
            8.120025141396122,
            7.770025141396122,
            8.135025141396122,
            7.824025141396122,
            6.837025141396122,
            6.716025141396122
           ]
          }
         ],
         "name": "19"
        }
       ],
       "layout": {
        "dragmode": "pan",
        "font": {
         "color": "rgba(230, 230, 230, 255)",
         "family": "Courier New, monospace"
        },
        "hovermode": false,
        "margin": {
         "b": 30,
         "l": 30,
         "r": 30,
         "t": 30
        },
        "paper_bgcolor": "rgba(50, 50, 60, 255)",
        "plot_bgcolor": "rgba(50, 50, 60, 255)",
        "shapes": [
         {
          "fillcolor": "rgba(255, 255, 255, 255)",
          "layer": "below",
          "line": {
           "width": 0
          },
          "type": "rect",
          "x0": 0,
          "x1": 16,
          "y0": -0.5,
          "y1": 0
         },
         {
          "fillcolor": "rgba(255, 255, 255, 255)",
          "layer": "below",
          "line": {
           "width": 0
          },
          "type": "rect",
          "x0": 0,
          "x1": 16,
          "y0": 9,
          "y1": 9.5
         },
         {
          "fillcolor": "rgba(255, 255, 255, 255)",
          "layer": "below",
          "line": {
           "width": 0
          },
          "type": "rect",
          "x0": -0.5,
          "x1": 0,
          "y0": -0.5,
          "y1": 9.5
         },
         {
          "fillcolor": "rgba(255, 255, 255, 255)",
          "layer": "below",
          "line": {
           "width": 0
          },
          "type": "rect",
          "x0": 16,
          "x1": 16.5,
          "y0": -0.5,
          "y1": 9.5
         },
         {
          "fillcolor": "rgba(150, 150, 150, 255)",
          "layer": "below",
          "line": {
           "width": 0
          },
          "type": "rect",
          "x0": 0,
          "x1": 3,
          "y0": 4.25,
          "y1": 4.75
         },
         {
          "fillcolor": "rgba(150, 150, 150, 255)",
          "layer": "below",
          "line": {
           "width": 0
          },
          "type": "rect",
          "x0": 5,
          "x1": 11,
          "y0": 4.25,
          "y1": 4.75
         },
         {
          "fillcolor": "rgba(150, 150, 150, 255)",
          "layer": "below",
          "line": {
           "width": 0
          },
          "type": "rect",
          "x0": 13,
          "x1": 16,
          "y0": 4.25,
          "y1": 4.75
         },
         {
          "fillcolor": "rgba(150, 150, 150, 255)",
          "layer": "below",
          "line": {
           "width": 0
          },
          "type": "rect",
          "x0": 7.75,
          "x1": 8.25,
          "y0": 1.75,
          "y1": 7.25
         },
         {
          "fillcolor": "rgba(150, 150, 150, 255)",
          "layer": "below",
          "line": {
           "width": 0
          },
          "type": "rect",
          "x0": 0,
          "x1": 3,
          "y0": 0,
          "y1": 1.75
         },
         {
          "fillcolor": "rgba(150, 150, 150, 255)",
          "layer": "below",
          "line": {
           "width": 0
          },
          "type": "rect",
          "x0": 13,
          "x1": 16,
          "y0": 0,
          "y1": 1.75
         },
         {
          "fillcolor": "rgba(150, 150, 150, 255)",
          "layer": "below",
          "line": {
           "width": 0
          },
          "type": "rect",
          "x0": 0,
          "x1": 3,
          "y0": 7.25,
          "y1": 9
         },
         {
          "fillcolor": "rgba(150, 150, 150, 255)",
          "layer": "below",
          "line": {
           "width": 0
          },
          "type": "rect",
          "x0": 13,
          "x1": 16,
          "y0": 7.25,
          "y1": 9
         },
         {
          "fillcolor": "rgba(150, 150, 150, 255)",
          "layer": "below",
          "line": {
           "width": 0
          },
          "type": "rect",
          "x0": 5,
          "x1": 11,
          "y0": 7.25,
          "y1": 7.75
         },
         {
          "fillcolor": "rgba(150, 150, 150, 255)",
          "layer": "below",
          "line": {
           "width": 0
          },
          "type": "rect",
          "x0": 5,
          "x1": 11,
          "y0": 1.25,
          "y1": 1.75
         }
        ],
        "sliders": [
         {
          "active": 0,
          "currentvalue": {
           "font": {
            "color": "rgb(230, 230, 230)",
            "family": "Courier New, monospace"
           },
           "prefix": "Step ",
           "visible": true,
           "xanchor": "right"
          },
          "font": {
           "color": "rgb(230, 230, 230)",
           "family": "Courier New, monospace"
          },
          "len": 0.95,
          "pad": {
           "b": 10,
           "t": 0
          },
          "steps": [
           {
            "args": [
             [
              "0"
             ],
             {
              "frame": {
               "duration": 300
              },
              "mode": "immediate"
             }
            ],
            "label": "0",
            "method": "animate"
           },
           {
            "args": [
             [
              "1"
             ],
             {
              "frame": {
               "duration": 300
              },
              "mode": "immediate"
             }
            ],
            "label": "1",
            "method": "animate"
           },
           {
            "args": [
             [
              "2"
             ],
             {
              "frame": {
               "duration": 300
              },
              "mode": "immediate"
             }
            ],
            "label": "2",
            "method": "animate"
           },
           {
            "args": [
             [
              "3"
             ],
             {
              "frame": {
               "duration": 300
              },
              "mode": "immediate"
             }
            ],
            "label": "3",
            "method": "animate"
           },
           {
            "args": [
             [
              "4"
             ],
             {
              "frame": {
               "duration": 300
              },
              "mode": "immediate"
             }
            ],
            "label": "4",
            "method": "animate"
           },
           {
            "args": [
             [
              "5"
             ],
             {
              "frame": {
               "duration": 300
              },
              "mode": "immediate"
             }
            ],
            "label": "5",
            "method": "animate"
           },
           {
            "args": [
             [
              "6"
             ],
             {
              "frame": {
               "duration": 300
              },
              "mode": "immediate"
             }
            ],
            "label": "6",
            "method": "animate"
           },
           {
            "args": [
             [
              "7"
             ],
             {
              "frame": {
               "duration": 300
              },
              "mode": "immediate"
             }
            ],
            "label": "7",
            "method": "animate"
           },
           {
            "args": [
             [
              "8"
             ],
             {
              "frame": {
               "duration": 300
              },
              "mode": "immediate"
             }
            ],
            "label": "8",
            "method": "animate"
           },
           {
            "args": [
             [
              "9"
             ],
             {
              "frame": {
               "duration": 300
              },
              "mode": "immediate"
             }
            ],
            "label": "9",
            "method": "animate"
           },
           {
            "args": [
             [
              "10"
             ],
             {
              "frame": {
               "duration": 300
              },
              "mode": "immediate"
             }
            ],
            "label": "10",
            "method": "animate"
           },
           {
            "args": [
             [
              "11"
             ],
             {
              "frame": {
               "duration": 300
              },
              "mode": "immediate"
             }
            ],
            "label": "11",
            "method": "animate"
           },
           {
            "args": [
             [
              "12"
             ],
             {
              "frame": {
               "duration": 300
              },
              "mode": "immediate"
             }
            ],
            "label": "12",
            "method": "animate"
           },
           {
            "args": [
             [
              "13"
             ],
             {
              "frame": {
               "duration": 300
              },
              "mode": "immediate"
             }
            ],
            "label": "13",
            "method": "animate"
           },
           {
            "args": [
             [
              "14"
             ],
             {
              "frame": {
               "duration": 300
              },
              "mode": "immediate"
             }
            ],
            "label": "14",
            "method": "animate"
           },
           {
            "args": [
             [
              "15"
             ],
             {
              "frame": {
               "duration": 300
              },
              "mode": "immediate"
             }
            ],
            "label": "15",
            "method": "animate"
           },
           {
            "args": [
             [
              "16"
             ],
             {
              "frame": {
               "duration": 300
              },
              "mode": "immediate"
             }
            ],
            "label": "16",
            "method": "animate"
           },
           {
            "args": [
             [
              "17"
             ],
             {
              "frame": {
               "duration": 300
              },
              "mode": "immediate"
             }
            ],
            "label": "17",
            "method": "animate"
           },
           {
            "args": [
             [
              "18"
             ],
             {
              "frame": {
               "duration": 300
              },
              "mode": "immediate"
             }
            ],
            "label": "18",
            "method": "animate"
           },
           {
            "args": [
             [
              "19"
             ],
             {
              "frame": {
               "duration": 300
              },
              "mode": "immediate"
             }
            ],
            "label": "19",
            "method": "animate"
           }
          ],
          "x": 0.05,
          "xanchor": "left",
          "y": 0,
          "yanchor": "top"
         }
        ],
        "template": {
         "data": {
          "bar": [
           {
            "error_x": {
             "color": "#2a3f5f"
            },
            "error_y": {
             "color": "#2a3f5f"
            },
            "marker": {
             "line": {
              "color": "#E5ECF6",
              "width": 0.5
             },
             "pattern": {
              "fillmode": "overlay",
              "size": 10,
              "solidity": 0.2
             }
            },
            "type": "bar"
           }
          ],
          "barpolar": [
           {
            "marker": {
             "line": {
              "color": "#E5ECF6",
              "width": 0.5
             },
             "pattern": {
              "fillmode": "overlay",
              "size": 10,
              "solidity": 0.2
             }
            },
            "type": "barpolar"
           }
          ],
          "carpet": [
           {
            "aaxis": {
             "endlinecolor": "#2a3f5f",
             "gridcolor": "white",
             "linecolor": "white",
             "minorgridcolor": "white",
             "startlinecolor": "#2a3f5f"
            },
            "baxis": {
             "endlinecolor": "#2a3f5f",
             "gridcolor": "white",
             "linecolor": "white",
             "minorgridcolor": "white",
             "startlinecolor": "#2a3f5f"
            },
            "type": "carpet"
           }
          ],
          "choropleth": [
           {
            "colorbar": {
             "outlinewidth": 0,
             "ticks": ""
            },
            "type": "choropleth"
           }
          ],
          "contour": [
           {
            "colorbar": {
             "outlinewidth": 0,
             "ticks": ""
            },
            "colorscale": [
             [
              0,
              "#0d0887"
             ],
             [
              0.1111111111111111,
              "#46039f"
             ],
             [
              0.2222222222222222,
              "#7201a8"
             ],
             [
              0.3333333333333333,
              "#9c179e"
             ],
             [
              0.4444444444444444,
              "#bd3786"
             ],
             [
              0.5555555555555556,
              "#d8576b"
             ],
             [
              0.6666666666666666,
              "#ed7953"
             ],
             [
              0.7777777777777778,
              "#fb9f3a"
             ],
             [
              0.8888888888888888,
              "#fdca26"
             ],
             [
              1,
              "#f0f921"
             ]
            ],
            "type": "contour"
           }
          ],
          "contourcarpet": [
           {
            "colorbar": {
             "outlinewidth": 0,
             "ticks": ""
            },
            "type": "contourcarpet"
           }
          ],
          "heatmap": [
           {
            "colorbar": {
             "outlinewidth": 0,
             "ticks": ""
            },
            "colorscale": [
             [
              0,
              "#0d0887"
             ],
             [
              0.1111111111111111,
              "#46039f"
             ],
             [
              0.2222222222222222,
              "#7201a8"
             ],
             [
              0.3333333333333333,
              "#9c179e"
             ],
             [
              0.4444444444444444,
              "#bd3786"
             ],
             [
              0.5555555555555556,
              "#d8576b"
             ],
             [
              0.6666666666666666,
              "#ed7953"
             ],
             [
              0.7777777777777778,
              "#fb9f3a"
             ],
             [
              0.8888888888888888,
              "#fdca26"
             ],
             [
              1,
              "#f0f921"
             ]
            ],
            "type": "heatmap"
           }
          ],
          "heatmapgl": [
           {
            "colorbar": {
             "outlinewidth": 0,
             "ticks": ""
            },
            "colorscale": [
             [
              0,
              "#0d0887"
             ],
             [
              0.1111111111111111,
              "#46039f"
             ],
             [
              0.2222222222222222,
              "#7201a8"
             ],
             [
              0.3333333333333333,
              "#9c179e"
             ],
             [
              0.4444444444444444,
              "#bd3786"
             ],
             [
              0.5555555555555556,
              "#d8576b"
             ],
             [
              0.6666666666666666,
              "#ed7953"
             ],
             [
              0.7777777777777778,
              "#fb9f3a"
             ],
             [
              0.8888888888888888,
              "#fdca26"
             ],
             [
              1,
              "#f0f921"
             ]
            ],
            "type": "heatmapgl"
           }
          ],
          "histogram": [
           {
            "marker": {
             "pattern": {
              "fillmode": "overlay",
              "size": 10,
              "solidity": 0.2
             }
            },
            "type": "histogram"
           }
          ],
          "histogram2d": [
           {
            "colorbar": {
             "outlinewidth": 0,
             "ticks": ""
            },
            "colorscale": [
             [
              0,
              "#0d0887"
             ],
             [
              0.1111111111111111,
              "#46039f"
             ],
             [
              0.2222222222222222,
              "#7201a8"
             ],
             [
              0.3333333333333333,
              "#9c179e"
             ],
             [
              0.4444444444444444,
              "#bd3786"
             ],
             [
              0.5555555555555556,
              "#d8576b"
             ],
             [
              0.6666666666666666,
              "#ed7953"
             ],
             [
              0.7777777777777778,
              "#fb9f3a"
             ],
             [
              0.8888888888888888,
              "#fdca26"
             ],
             [
              1,
              "#f0f921"
             ]
            ],
            "type": "histogram2d"
           }
          ],
          "histogram2dcontour": [
           {
            "colorbar": {
             "outlinewidth": 0,
             "ticks": ""
            },
            "colorscale": [
             [
              0,
              "#0d0887"
             ],
             [
              0.1111111111111111,
              "#46039f"
             ],
             [
              0.2222222222222222,
              "#7201a8"
             ],
             [
              0.3333333333333333,
              "#9c179e"
             ],
             [
              0.4444444444444444,
              "#bd3786"
             ],
             [
              0.5555555555555556,
              "#d8576b"
             ],
             [
              0.6666666666666666,
              "#ed7953"
             ],
             [
              0.7777777777777778,
              "#fb9f3a"
             ],
             [
              0.8888888888888888,
              "#fdca26"
             ],
             [
              1,
              "#f0f921"
             ]
            ],
            "type": "histogram2dcontour"
           }
          ],
          "mesh3d": [
           {
            "colorbar": {
             "outlinewidth": 0,
             "ticks": ""
            },
            "type": "mesh3d"
           }
          ],
          "parcoords": [
           {
            "line": {
             "colorbar": {
              "outlinewidth": 0,
              "ticks": ""
             }
            },
            "type": "parcoords"
           }
          ],
          "pie": [
           {
            "automargin": true,
            "type": "pie"
           }
          ],
          "scatter": [
           {
            "fillpattern": {
             "fillmode": "overlay",
             "size": 10,
             "solidity": 0.2
            },
            "type": "scatter"
           }
          ],
          "scatter3d": [
           {
            "line": {
             "colorbar": {
              "outlinewidth": 0,
              "ticks": ""
             }
            },
            "marker": {
             "colorbar": {
              "outlinewidth": 0,
              "ticks": ""
             }
            },
            "type": "scatter3d"
           }
          ],
          "scattercarpet": [
           {
            "marker": {
             "colorbar": {
              "outlinewidth": 0,
              "ticks": ""
             }
            },
            "type": "scattercarpet"
           }
          ],
          "scattergeo": [
           {
            "marker": {
             "colorbar": {
              "outlinewidth": 0,
              "ticks": ""
             }
            },
            "type": "scattergeo"
           }
          ],
          "scattergl": [
           {
            "marker": {
             "colorbar": {
              "outlinewidth": 0,
              "ticks": ""
             }
            },
            "type": "scattergl"
           }
          ],
          "scattermapbox": [
           {
            "marker": {
             "colorbar": {
              "outlinewidth": 0,
              "ticks": ""
             }
            },
            "type": "scattermapbox"
           }
          ],
          "scatterpolar": [
           {
            "marker": {
             "colorbar": {
              "outlinewidth": 0,
              "ticks": ""
             }
            },
            "type": "scatterpolar"
           }
          ],
          "scatterpolargl": [
           {
            "marker": {
             "colorbar": {
              "outlinewidth": 0,
              "ticks": ""
             }
            },
            "type": "scatterpolargl"
           }
          ],
          "scatterternary": [
           {
            "marker": {
             "colorbar": {
              "outlinewidth": 0,
              "ticks": ""
             }
            },
            "type": "scatterternary"
           }
          ],
          "surface": [
           {
            "colorbar": {
             "outlinewidth": 0,
             "ticks": ""
            },
            "colorscale": [
             [
              0,
              "#0d0887"
             ],
             [
              0.1111111111111111,
              "#46039f"
             ],
             [
              0.2222222222222222,
              "#7201a8"
             ],
             [
              0.3333333333333333,
              "#9c179e"
             ],
             [
              0.4444444444444444,
              "#bd3786"
             ],
             [
              0.5555555555555556,
              "#d8576b"
             ],
             [
              0.6666666666666666,
              "#ed7953"
             ],
             [
              0.7777777777777778,
              "#fb9f3a"
             ],
             [
              0.8888888888888888,
              "#fdca26"
             ],
             [
              1,
              "#f0f921"
             ]
            ],
            "type": "surface"
           }
          ],
          "table": [
           {
            "cells": {
             "fill": {
              "color": "#EBF0F8"
             },
             "line": {
              "color": "white"
             }
            },
            "header": {
             "fill": {
              "color": "#C8D4E3"
             },
             "line": {
              "color": "white"
             }
            },
            "type": "table"
           }
          ]
         },
         "layout": {
          "annotationdefaults": {
           "arrowcolor": "#2a3f5f",
           "arrowhead": 0,
           "arrowwidth": 1
          },
          "autotypenumbers": "strict",
          "coloraxis": {
           "colorbar": {
            "outlinewidth": 0,
            "ticks": ""
           }
          },
          "colorscale": {
           "diverging": [
            [
             0,
             "#8e0152"
            ],
            [
             0.1,
             "#c51b7d"
            ],
            [
             0.2,
             "#de77ae"
            ],
            [
             0.3,
             "#f1b6da"
            ],
            [
             0.4,
             "#fde0ef"
            ],
            [
             0.5,
             "#f7f7f7"
            ],
            [
             0.6,
             "#e6f5d0"
            ],
            [
             0.7,
             "#b8e186"
            ],
            [
             0.8,
             "#7fbc41"
            ],
            [
             0.9,
             "#4d9221"
            ],
            [
             1,
             "#276419"
            ]
           ],
           "sequential": [
            [
             0,
             "#0d0887"
            ],
            [
             0.1111111111111111,
             "#46039f"
            ],
            [
             0.2222222222222222,
             "#7201a8"
            ],
            [
             0.3333333333333333,
             "#9c179e"
            ],
            [
             0.4444444444444444,
             "#bd3786"
            ],
            [
             0.5555555555555556,
             "#d8576b"
            ],
            [
             0.6666666666666666,
             "#ed7953"
            ],
            [
             0.7777777777777778,
             "#fb9f3a"
            ],
            [
             0.8888888888888888,
             "#fdca26"
            ],
            [
             1,
             "#f0f921"
            ]
           ],
           "sequentialminus": [
            [
             0,
             "#0d0887"
            ],
            [
             0.1111111111111111,
             "#46039f"
            ],
            [
             0.2222222222222222,
             "#7201a8"
            ],
            [
             0.3333333333333333,
             "#9c179e"
            ],
            [
             0.4444444444444444,
             "#bd3786"
            ],
            [
             0.5555555555555556,
             "#d8576b"
            ],
            [
             0.6666666666666666,
             "#ed7953"
            ],
            [
             0.7777777777777778,
             "#fb9f3a"
            ],
            [
             0.8888888888888888,
             "#fdca26"
            ],
            [
             1,
             "#f0f921"
            ]
           ]
          },
          "colorway": [
           "#636efa",
           "#EF553B",
           "#00cc96",
           "#ab63fa",
           "#FFA15A",
           "#19d3f3",
           "#FF6692",
           "#B6E880",
           "#FF97FF",
           "#FECB52"
          ],
          "font": {
           "color": "#2a3f5f"
          },
          "geo": {
           "bgcolor": "white",
           "lakecolor": "white",
           "landcolor": "#E5ECF6",
           "showlakes": true,
           "showland": true,
           "subunitcolor": "white"
          },
          "hoverlabel": {
           "align": "left"
          },
          "hovermode": "closest",
          "mapbox": {
           "style": "light"
          },
          "paper_bgcolor": "white",
          "plot_bgcolor": "#E5ECF6",
          "polar": {
           "angularaxis": {
            "gridcolor": "white",
            "linecolor": "white",
            "ticks": ""
           },
           "bgcolor": "#E5ECF6",
           "radialaxis": {
            "gridcolor": "white",
            "linecolor": "white",
            "ticks": ""
           }
          },
          "scene": {
           "xaxis": {
            "backgroundcolor": "#E5ECF6",
            "gridcolor": "white",
            "gridwidth": 2,
            "linecolor": "white",
            "showbackground": true,
            "ticks": "",
            "zerolinecolor": "white"
           },
           "yaxis": {
            "backgroundcolor": "#E5ECF6",
            "gridcolor": "white",
            "gridwidth": 2,
            "linecolor": "white",
            "showbackground": true,
            "ticks": "",
            "zerolinecolor": "white"
           },
           "zaxis": {
            "backgroundcolor": "#E5ECF6",
            "gridcolor": "white",
            "gridwidth": 2,
            "linecolor": "white",
            "showbackground": true,
            "ticks": "",
            "zerolinecolor": "white"
           }
          },
          "shapedefaults": {
           "line": {
            "color": "#2a3f5f"
           }
          },
          "ternary": {
           "aaxis": {
            "gridcolor": "white",
            "linecolor": "white",
            "ticks": ""
           },
           "baxis": {
            "gridcolor": "white",
            "linecolor": "white",
            "ticks": ""
           },
           "bgcolor": "#E5ECF6",
           "caxis": {
            "gridcolor": "white",
            "linecolor": "white",
            "ticks": ""
           }
          },
          "title": {
           "x": 0.05
          },
          "xaxis": {
           "automargin": true,
           "gridcolor": "white",
           "linecolor": "white",
           "ticks": "",
           "title": {
            "standoff": 15
           },
           "zerolinecolor": "white",
           "zerolinewidth": 2
          },
          "yaxis": {
           "automargin": true,
           "gridcolor": "white",
           "linecolor": "white",
           "ticks": "",
           "title": {
            "standoff": 15
           },
           "zerolinecolor": "white",
           "zerolinewidth": 2
          }
         }
        },
        "updatemenus": [
         {
          "buttons": [
           {
            "args": [
             null,
             {
              "frame": {
               "duration": 300
              },
              "fromcurrent": true
             }
            ],
            "label": "Play",
            "method": "animate"
           }
          ],
          "direction": "left",
          "font": {
           "color": "rgb(230, 230, 230)",
           "family": "Courier New, monospace"
          },
          "pad": {
           "r": 10,
           "t": 30
          },
          "showactive": false,
          "type": "buttons",
          "x": 0.05,
          "xanchor": "right",
          "y": 0,
          "yanchor": "top"
         }
        ],
        "xaxis": {
         "dtick": 1,
         "gridcolor": "rgba(175, 175, 175, 255)",
         "range": [
          -1,
          17
         ],
         "showgrid": true,
         "showticklabels": true,
         "zeroline": false
        },
        "yaxis": {
         "dtick": 1,
         "gridcolor": "rgba(175, 175, 175, 255)",
         "range": [
          -1,
          10
         ],
         "scaleanchor": "x",
         "scaleratio": 1,
         "showgrid": true,
         "showticklabels": true,
         "zeroline": false
        }
       }
      }
     },
     "metadata": {},
     "output_type": "display_data"
    }
   ],
   "source": [
    "visualize_path(env,path)\n"
   ]
  },
  {
   "cell_type": "code",
   "execution_count": 12,
   "metadata": {
    "id": "EZMgFPC1KJhR"
   },
   "outputs": [],
   "source": [
    "# def smoothPath(path, env, iters=10):\n",
    "#     return path"
   ]
  },
  {
   "cell_type": "code",
   "execution_count": 13,
   "metadata": {
    "id": "SJ_Gr8NTZdRP"
   },
   "outputs": [],
   "source": [
    "def ddr_ik(v_x, omega, L=0.5, r=0.1):\n",
    "    return (v_x - (L/2)*omega)/r, (v_x + (L/2)*omega)/r\n",
    "\n",
    "\n",
    "def rotate(init_pose, point, omega=2):\n",
    "\n",
    "    angle = np.arctan2(point[1]- init_pose.y(), point[0]- init_pose.x())\n",
    "    if angle < 0:\n",
    "        angle +=  2*np.pi\n",
    "    v_L, v_R = ddr_ik(0, omega)\n",
    "    t = abs(angle /omega)\n",
    "\n",
    "    return v_L,v_R, t\n",
    "\n",
    "  \n",
    "def rotateRobot(init_pose, v_L, v_R, t, L=0.5, r=0.1):\n",
    "    init_theta = init_pose.theta()\n",
    "    angle_turned = 0\n",
    "    poses = []\n",
    "    N = 1\n",
    "    for _ in range(N):\n",
    "        angle_turned += (v_R-v_L)*t*r/(L*N) % (2*math.pi)\n",
    "        poses.append(gtsam.Pose2(init_pose.x(),init_pose.y(), angle_turned))\n",
    "\n",
    "    return poses\n",
    "\n",
    "def forward(init_pose, point, V=1):\n",
    "    distance = np.linalg.norm([point[0]- init_pose.x(), point[1]- init_pose.y()])\n",
    "    v_L,v_R = ddr_ik(V, 0)\n",
    "    translation = np.array([init_pose.x()-point[0], init_pose.y()-point[1]])\n",
    "    t = distance / V\n",
    "    return v_L, v_R, t\n",
    "\n",
    "\n",
    "def forwardRobot(init_pose, v_L, v_R, t, L=0.5, r=0.1):\n",
    "    '''\n",
    "    Generates intermediate robot poses based on wheel velocities, useful for visualization\n",
    "    \n",
    "    v_L (float): Left wheel velocity\n",
    "    v_R (float): Right wheel velocity\n",
    "    t (float): time duration for which the robot should use these velocities\n",
    "    L (float): Distance between robot wheels\n",
    "    r (float): Wheel radius of robot\n",
    "    '''\n",
    "    x = init_pose.x()\n",
    "    y = init_pose.y()\n",
    "    poses = []\n",
    "    N = 5\n",
    "\n",
    "    for i in range(N):\n",
    "        x += v_L*math.cos(init_pose.theta())*t*r/N\n",
    "        y += v_L*math.sin(init_pose.theta())*t*r/N\n",
    "\n",
    "        poses.append(gtsam.Pose2(x,y,init_pose.theta()))\n",
    "\n",
    "    return poses\n",
    "    \n",
    "\n",
    "def moveRobot(init_pose: gtsam.Pose2, path):\n",
    "    '''\n",
    "    move robot along given path\n",
    "    init_pose (gtsam.Pose2): Starting pose (x,y,theta) of the robot\n",
    "    path: path found from RRT\n",
    "\n",
    "    return: list of poses along the given path\n",
    "    '''\n",
    "    poses = [init_pose]\n",
    "    \n",
    "    for i in range(1, len(path)):\n",
    "        curr_pose = poses[-1]\n",
    "        next_x, next_y = path[i].point\n",
    "        v_L, v_R, t = rotate(curr_pose, [next_x, next_y])\n",
    "        poses += rotateRobot(curr_pose, v_L, v_R, t)\n",
    "        v_L,v_R, t = forward(poses[-1], [next_x, next_y])\n",
    "        poses+= forwardRobot(poses[-1], v_L,v_R, t)\n",
    "\n",
    "    return poses\n",
    "       "
   ]
  },
  {
   "cell_type": "code",
   "execution_count": 14,
   "metadata": {},
   "outputs": [
    {
     "name": "stdout",
     "output_type": "stream",
     "text": [
      "115\n"
     ]
    }
   ],
   "source": [
    "poses=moveRobot(gtsam.Pose2(4, 1, np.pi/2), path)\n",
    "# print(poses[0])\n",
    "data =[]\n",
    "for i in range(0,len(poses)):\n",
    "    data.append((poses[i].x(),poses[i].y(),poses[i].theta()))\n",
    "\n",
    "\n",
    "print(len(data))\n",
    "\n",
    "with open('data.json', 'w') as outfile:\n",
    "    json.dump(data, outfile)\n"
   ]
  }
 ],
 "metadata": {
  "accelerator": "GPU",
  "colab": {
   "collapsed_sections": [],
   "provenance": []
  },
  "kernelspec": {
   "display_name": "Python 3",
   "language": "python",
   "name": "python3"
  },
  "language_info": {
   "codemirror_mode": {
    "name": "ipython",
    "version": 3
   },
   "file_extension": ".py",
   "mimetype": "text/x-python",
   "name": "python",
   "nbconvert_exporter": "python",
   "pygments_lexer": "ipython3",
   "version": "3.10.6 (main, Nov 14 2022, 16:10:14) [GCC 11.3.0]"
  },
  "vscode": {
   "interpreter": {
    "hash": "916dbcbb3f70747c44a77c7bcd40155683ae19c65e1c03b4aa3499c5328201f1"
   }
  }
 },
 "nbformat": 4,
 "nbformat_minor": 1
}

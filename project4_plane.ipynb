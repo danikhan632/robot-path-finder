{
 "cells": [
  {
   "cell_type": "code",
   "execution_count": 4,
   "metadata": {},
   "outputs": [
    {
     "name": "stdout",
     "output_type": "stream",
     "text": [
      "Note: you may need to restart the kernel to use updated packages.\n"
     ]
    }
   ],
   "source": [
    "%pip install -q torch numpy matplotlib pillow torchvision torchsummary torchsummaryX plotly gtsam shapely tqdm"
   ]
  },
  {
   "cell_type": "code",
   "execution_count": 5,
   "metadata": {
    "id": "n6rxu7NFIlpx"
   },
   "outputs": [],
   "source": [
    "import os\n",
    "import json\n",
    "import time\n",
    "import torch\n",
    "import torch.nn as nn\n",
    "import torchvision.datasets as datasets\n",
    "import torch.optim as optim\n",
    "import torchvision.transforms as transforms\n",
    "from torch.utils.data import DataLoader\n",
    "from torch.autograd import Variable\n",
    "from PIL import Image\n",
    "import numpy as np\n",
    "import matplotlib.pyplot as plt\n",
    "import torch.nn.functional as F\n",
    "# %pip install torchsummaryX --quiet\n",
    "from torchsummaryX import summary as summaryX\n",
    "from torchsummary import summary\n",
    "import random\n",
    "from shapely.geometry import Point\n",
    "from shapely.geometry.polygon import Polygon\n",
    "\n",
    "device = torch.device('cuda' if torch.cuda.is_available() else 'cpu')"
   ]
  },
  {
   "cell_type": "code",
   "execution_count": 52,
   "metadata": {
    "colab": {
     "base_uri": "https://localhost:8080/"
    },
    "id": "sz1nWKJMFKWU",
    "outputId": "17605628-d78e-4294-a2fc-f1fd76cc5c36"
   },
   "outputs": [
    {
     "name": "stdout",
     "output_type": "stream",
     "text": [
      "Note: you may need to restart the kernel to use updated packages.\n"
     ]
    }
   ],
   "source": [
    "# importing necessary modules for factor graph optimization and visualization\n",
    "#UNCOMM\n",
    "%pip install -q plotly gtsam shapely\n",
    "import gtsam\n",
    "import numpy as np\n",
    "import plotly.graph_objects as go\n",
    "from tqdm import trange\n",
    "import torch\n",
    "import torchvision.datasets as datasets\n",
    "import torchvision.transforms as transforms\n",
    "import os\n",
    "import math\n",
    "# import anki_vector\n",
    "# from anki_vector.util import Pose, degrees\n",
    "#curl https://hackgtstoragebucket.s3.amazonaws.com/utils.py > utils.py\n",
    "\n",
    "\n",
    "from utils import *\n",
    "\n",
    "########################## load dataset ##########################\n",
    "test_dataset = datasets.KMNIST(root='dataset/', train=False, transform=transforms.Compose([transforms.Pad(2), transforms.ToTensor()]), download=True)\n",
    "\n",
    "########################## environment helpers ##########################\n",
    "\n",
    "def rect(x_m, y_m, xsize_m, ysize_m, rgba=None):\n",
    "    return dict(\n",
    "        type='rect',\n",
    "        x0=x_m, y0=y_m,\n",
    "        x1=x_m + xsize_m, y1=y_m + ysize_m,\n",
    "        fillcolor=f\"rgba({rgba[0]}, {rgba[1]}, {rgba[2]}, {rgba[3]})\" if rgba else \"rgb(255, 255, 255)\",\n",
    "        line_width=0,\n",
    "        layer=\"below\"\n",
    "    )\n",
    "\n",
    "\n",
    "class Wall:\n",
    "    def __init__(self, start_point, end_point, color):\n",
    "        self.ps = start_point\n",
    "        self.pe = end_point\n",
    "        self.color = color\n",
    "\n",
    "    def get_rect(self):\n",
    "        return rect(self.ps[0], self.ps[1], self.pe[0]-self.ps[0], self.pe[1]-self.ps[1], self.color)\n",
    "\n",
    "\n",
    "def env_walls():\n",
    "    '''\n",
    "    Returns a list of obstacles in the map. \n",
    "    Each Wall class represents a rectangular obstacle in the map. \n",
    "    '''\n",
    "    white = [255, 255, 255, 255]\n",
    "    gray = [150, 150, 150, 255]\n",
    "    wall_list = [Wall([0,-0.5], [16, 0], white),\n",
    "                 Wall([0, 9], [16, 9.5], white),\n",
    "                 Wall([-0.5, -0.5], [0, 9.5], white),\n",
    "                 Wall([16, -0.5], [16.5, 9.5], white),\n",
    "                 Wall([0, 4.25], [3, 4.75], gray),\n",
    "                 Wall([5, 4.25], [11, 4.75], gray),\n",
    "                 Wall([13, 4.25], [16, 4.75], gray),\n",
    "                 Wall([7.75, 1.75], [8.25, 7.25], gray),\n",
    "                 Wall([0, 0], [3, 1.75], gray),\n",
    "                 Wall([13, 0], [16, 1.75], gray),\n",
    "                 Wall([0, 7.25], [3, 9], gray),\n",
    "                 Wall([13, 7.25], [16, 9], gray),\n",
    "                 Wall([5, 7.25], [11, 7.75], gray),\n",
    "                 Wall([5, 1.25], [11, 1.75], gray)]\n",
    "    return wall_list\n",
    "\n"
   ]
  },
  {
   "cell_type": "code",
   "execution_count": 51,
   "metadata": {
    "colab": {
     "base_uri": "https://localhost:8080/",
     "height": 542
    },
    "id": "W9Lw3V39QOr6",
    "outputId": "dff494d0-bcdd-456c-a766-69960bf780da"
   },
   "outputs": [
    {
     "data": {
      "application/vnd.plotly.v1+json": {
       "config": {
        "plotlyServerURL": "https://plot.ly"
       },
       "data": [],
       "layout": {
        "dragmode": "pan",
        "font": {
         "color": "rgba(230, 230, 230, 255)",
         "family": "Courier New, monospace"
        },
        "hovermode": false,
        "margin": {
         "b": 30,
         "l": 30,
         "r": 30,
         "t": 30
        },
        "paper_bgcolor": "rgba(50, 50, 60, 255)",
        "plot_bgcolor": "rgba(50, 50, 60, 255)",
        "shapes": [
         {
          "fillcolor": "rgba(255, 255, 255, 255)",
          "layer": "below",
          "line": {
           "width": 0
          },
          "type": "rect",
          "x0": 0,
          "x1": 16,
          "y0": -0.5,
          "y1": 0
         },
         {
          "fillcolor": "rgba(255, 255, 255, 255)",
          "layer": "below",
          "line": {
           "width": 0
          },
          "type": "rect",
          "x0": 0,
          "x1": 16,
          "y0": 9,
          "y1": 9.5
         },
         {
          "fillcolor": "rgba(255, 255, 255, 255)",
          "layer": "below",
          "line": {
           "width": 0
          },
          "type": "rect",
          "x0": -0.5,
          "x1": 0,
          "y0": -0.5,
          "y1": 9.5
         },
         {
          "fillcolor": "rgba(255, 255, 255, 255)",
          "layer": "below",
          "line": {
           "width": 0
          },
          "type": "rect",
          "x0": 16,
          "x1": 16.5,
          "y0": -0.5,
          "y1": 9.5
         },
         {
          "fillcolor": "rgba(150, 150, 150, 255)",
          "layer": "below",
          "line": {
           "width": 0
          },
          "type": "rect",
          "x0": 0,
          "x1": 4.25,
          "y0": 4.25,
          "y1": 4.5
         },
         {
          "fillcolor": "rgba(150, 150, 150, 255)",
          "layer": "below",
          "line": {
           "width": 0
          },
          "type": "rect",
          "x0": 5,
          "x1": 11,
          "y0": 4.25,
          "y1": 4.75
         },
         {
          "fillcolor": "rgba(150, 150, 150, 255)",
          "layer": "below",
          "line": {
           "width": 0
          },
          "type": "rect",
          "x0": 13,
          "x1": 16,
          "y0": 4.25,
          "y1": 4.75
         },
         {
          "fillcolor": "rgba(150, 150, 150, 255)",
          "layer": "below",
          "line": {
           "width": 0
          },
          "type": "rect",
          "x0": 7.75,
          "x1": 8.25,
          "y0": 1.75,
          "y1": 7.25
         },
         {
          "fillcolor": "rgba(150, 150, 150, 255)",
          "layer": "below",
          "line": {
           "width": 0
          },
          "type": "rect",
          "x0": 0,
          "x1": 3,
          "y0": 0,
          "y1": 1.75
         },
         {
          "fillcolor": "rgba(150, 150, 150, 255)",
          "layer": "below",
          "line": {
           "width": 0
          },
          "type": "rect",
          "x0": 13,
          "x1": 16,
          "y0": 0,
          "y1": 1.75
         },
         {
          "fillcolor": "rgba(150, 150, 150, 255)",
          "layer": "below",
          "line": {
           "width": 0
          },
          "type": "rect",
          "x0": 0,
          "x1": 3,
          "y0": 7.25,
          "y1": 9
         },
         {
          "fillcolor": "rgba(150, 150, 150, 255)",
          "layer": "below",
          "line": {
           "width": 0
          },
          "type": "rect",
          "x0": 13,
          "x1": 16,
          "y0": 7.25,
          "y1": 9
         },
         {
          "fillcolor": "rgba(150, 150, 150, 255)",
          "layer": "below",
          "line": {
           "width": 0
          },
          "type": "rect",
          "x0": 5,
          "x1": 11,
          "y0": 7.25,
          "y1": 7.75
         },
         {
          "fillcolor": "rgba(150, 150, 150, 255)",
          "layer": "below",
          "line": {
           "width": 0
          },
          "type": "rect",
          "x0": 5,
          "x1": 11,
          "y0": 1.25,
          "y1": 1.75
         }
        ],
        "sliders": [
         {
          "active": 0,
          "currentvalue": {
           "font": {
            "color": "rgb(230, 230, 230)",
            "family": "Courier New, monospace"
           },
           "prefix": "Step ",
           "visible": true,
           "xanchor": "right"
          },
          "font": {
           "color": "rgb(230, 230, 230)",
           "family": "Courier New, monospace"
          },
          "len": 0.95,
          "pad": {
           "b": 10,
           "t": 0
          },
          "x": 0.05,
          "xanchor": "left",
          "y": 0,
          "yanchor": "top"
         }
        ],
        "template": {
         "data": {
          "bar": [
           {
            "error_x": {
             "color": "#2a3f5f"
            },
            "error_y": {
             "color": "#2a3f5f"
            },
            "marker": {
             "line": {
              "color": "#E5ECF6",
              "width": 0.5
             },
             "pattern": {
              "fillmode": "overlay",
              "size": 10,
              "solidity": 0.2
             }
            },
            "type": "bar"
           }
          ],
          "barpolar": [
           {
            "marker": {
             "line": {
              "color": "#E5ECF6",
              "width": 0.5
             },
             "pattern": {
              "fillmode": "overlay",
              "size": 10,
              "solidity": 0.2
             }
            },
            "type": "barpolar"
           }
          ],
          "carpet": [
           {
            "aaxis": {
             "endlinecolor": "#2a3f5f",
             "gridcolor": "white",
             "linecolor": "white",
             "minorgridcolor": "white",
             "startlinecolor": "#2a3f5f"
            },
            "baxis": {
             "endlinecolor": "#2a3f5f",
             "gridcolor": "white",
             "linecolor": "white",
             "minorgridcolor": "white",
             "startlinecolor": "#2a3f5f"
            },
            "type": "carpet"
           }
          ],
          "choropleth": [
           {
            "colorbar": {
             "outlinewidth": 0,
             "ticks": ""
            },
            "type": "choropleth"
           }
          ],
          "contour": [
           {
            "colorbar": {
             "outlinewidth": 0,
             "ticks": ""
            },
            "colorscale": [
             [
              0,
              "#0d0887"
             ],
             [
              0.1111111111111111,
              "#46039f"
             ],
             [
              0.2222222222222222,
              "#7201a8"
             ],
             [
              0.3333333333333333,
              "#9c179e"
             ],
             [
              0.4444444444444444,
              "#bd3786"
             ],
             [
              0.5555555555555556,
              "#d8576b"
             ],
             [
              0.6666666666666666,
              "#ed7953"
             ],
             [
              0.7777777777777778,
              "#fb9f3a"
             ],
             [
              0.8888888888888888,
              "#fdca26"
             ],
             [
              1,
              "#f0f921"
             ]
            ],
            "type": "contour"
           }
          ],
          "contourcarpet": [
           {
            "colorbar": {
             "outlinewidth": 0,
             "ticks": ""
            },
            "type": "contourcarpet"
           }
          ],
          "heatmap": [
           {
            "colorbar": {
             "outlinewidth": 0,
             "ticks": ""
            },
            "colorscale": [
             [
              0,
              "#0d0887"
             ],
             [
              0.1111111111111111,
              "#46039f"
             ],
             [
              0.2222222222222222,
              "#7201a8"
             ],
             [
              0.3333333333333333,
              "#9c179e"
             ],
             [
              0.4444444444444444,
              "#bd3786"
             ],
             [
              0.5555555555555556,
              "#d8576b"
             ],
             [
              0.6666666666666666,
              "#ed7953"
             ],
             [
              0.7777777777777778,
              "#fb9f3a"
             ],
             [
              0.8888888888888888,
              "#fdca26"
             ],
             [
              1,
              "#f0f921"
             ]
            ],
            "type": "heatmap"
           }
          ],
          "heatmapgl": [
           {
            "colorbar": {
             "outlinewidth": 0,
             "ticks": ""
            },
            "colorscale": [
             [
              0,
              "#0d0887"
             ],
             [
              0.1111111111111111,
              "#46039f"
             ],
             [
              0.2222222222222222,
              "#7201a8"
             ],
             [
              0.3333333333333333,
              "#9c179e"
             ],
             [
              0.4444444444444444,
              "#bd3786"
             ],
             [
              0.5555555555555556,
              "#d8576b"
             ],
             [
              0.6666666666666666,
              "#ed7953"
             ],
             [
              0.7777777777777778,
              "#fb9f3a"
             ],
             [
              0.8888888888888888,
              "#fdca26"
             ],
             [
              1,
              "#f0f921"
             ]
            ],
            "type": "heatmapgl"
           }
          ],
          "histogram": [
           {
            "marker": {
             "pattern": {
              "fillmode": "overlay",
              "size": 10,
              "solidity": 0.2
             }
            },
            "type": "histogram"
           }
          ],
          "histogram2d": [
           {
            "colorbar": {
             "outlinewidth": 0,
             "ticks": ""
            },
            "colorscale": [
             [
              0,
              "#0d0887"
             ],
             [
              0.1111111111111111,
              "#46039f"
             ],
             [
              0.2222222222222222,
              "#7201a8"
             ],
             [
              0.3333333333333333,
              "#9c179e"
             ],
             [
              0.4444444444444444,
              "#bd3786"
             ],
             [
              0.5555555555555556,
              "#d8576b"
             ],
             [
              0.6666666666666666,
              "#ed7953"
             ],
             [
              0.7777777777777778,
              "#fb9f3a"
             ],
             [
              0.8888888888888888,
              "#fdca26"
             ],
             [
              1,
              "#f0f921"
             ]
            ],
            "type": "histogram2d"
           }
          ],
          "histogram2dcontour": [
           {
            "colorbar": {
             "outlinewidth": 0,
             "ticks": ""
            },
            "colorscale": [
             [
              0,
              "#0d0887"
             ],
             [
              0.1111111111111111,
              "#46039f"
             ],
             [
              0.2222222222222222,
              "#7201a8"
             ],
             [
              0.3333333333333333,
              "#9c179e"
             ],
             [
              0.4444444444444444,
              "#bd3786"
             ],
             [
              0.5555555555555556,
              "#d8576b"
             ],
             [
              0.6666666666666666,
              "#ed7953"
             ],
             [
              0.7777777777777778,
              "#fb9f3a"
             ],
             [
              0.8888888888888888,
              "#fdca26"
             ],
             [
              1,
              "#f0f921"
             ]
            ],
            "type": "histogram2dcontour"
           }
          ],
          "mesh3d": [
           {
            "colorbar": {
             "outlinewidth": 0,
             "ticks": ""
            },
            "type": "mesh3d"
           }
          ],
          "parcoords": [
           {
            "line": {
             "colorbar": {
              "outlinewidth": 0,
              "ticks": ""
             }
            },
            "type": "parcoords"
           }
          ],
          "pie": [
           {
            "automargin": true,
            "type": "pie"
           }
          ],
          "scatter": [
           {
            "fillpattern": {
             "fillmode": "overlay",
             "size": 10,
             "solidity": 0.2
            },
            "type": "scatter"
           }
          ],
          "scatter3d": [
           {
            "line": {
             "colorbar": {
              "outlinewidth": 0,
              "ticks": ""
             }
            },
            "marker": {
             "colorbar": {
              "outlinewidth": 0,
              "ticks": ""
             }
            },
            "type": "scatter3d"
           }
          ],
          "scattercarpet": [
           {
            "marker": {
             "colorbar": {
              "outlinewidth": 0,
              "ticks": ""
             }
            },
            "type": "scattercarpet"
           }
          ],
          "scattergeo": [
           {
            "marker": {
             "colorbar": {
              "outlinewidth": 0,
              "ticks": ""
             }
            },
            "type": "scattergeo"
           }
          ],
          "scattergl": [
           {
            "marker": {
             "colorbar": {
              "outlinewidth": 0,
              "ticks": ""
             }
            },
            "type": "scattergl"
           }
          ],
          "scattermapbox": [
           {
            "marker": {
             "colorbar": {
              "outlinewidth": 0,
              "ticks": ""
             }
            },
            "type": "scattermapbox"
           }
          ],
          "scatterpolar": [
           {
            "marker": {
             "colorbar": {
              "outlinewidth": 0,
              "ticks": ""
             }
            },
            "type": "scatterpolar"
           }
          ],
          "scatterpolargl": [
           {
            "marker": {
             "colorbar": {
              "outlinewidth": 0,
              "ticks": ""
             }
            },
            "type": "scatterpolargl"
           }
          ],
          "scatterternary": [
           {
            "marker": {
             "colorbar": {
              "outlinewidth": 0,
              "ticks": ""
             }
            },
            "type": "scatterternary"
           }
          ],
          "surface": [
           {
            "colorbar": {
             "outlinewidth": 0,
             "ticks": ""
            },
            "colorscale": [
             [
              0,
              "#0d0887"
             ],
             [
              0.1111111111111111,
              "#46039f"
             ],
             [
              0.2222222222222222,
              "#7201a8"
             ],
             [
              0.3333333333333333,
              "#9c179e"
             ],
             [
              0.4444444444444444,
              "#bd3786"
             ],
             [
              0.5555555555555556,
              "#d8576b"
             ],
             [
              0.6666666666666666,
              "#ed7953"
             ],
             [
              0.7777777777777778,
              "#fb9f3a"
             ],
             [
              0.8888888888888888,
              "#fdca26"
             ],
             [
              1,
              "#f0f921"
             ]
            ],
            "type": "surface"
           }
          ],
          "table": [
           {
            "cells": {
             "fill": {
              "color": "#EBF0F8"
             },
             "line": {
              "color": "white"
             }
            },
            "header": {
             "fill": {
              "color": "#C8D4E3"
             },
             "line": {
              "color": "white"
             }
            },
            "type": "table"
           }
          ]
         },
         "layout": {
          "annotationdefaults": {
           "arrowcolor": "#2a3f5f",
           "arrowhead": 0,
           "arrowwidth": 1
          },
          "autotypenumbers": "strict",
          "coloraxis": {
           "colorbar": {
            "outlinewidth": 0,
            "ticks": ""
           }
          },
          "colorscale": {
           "diverging": [
            [
             0,
             "#8e0152"
            ],
            [
             0.1,
             "#c51b7d"
            ],
            [
             0.2,
             "#de77ae"
            ],
            [
             0.3,
             "#f1b6da"
            ],
            [
             0.4,
             "#fde0ef"
            ],
            [
             0.5,
             "#f7f7f7"
            ],
            [
             0.6,
             "#e6f5d0"
            ],
            [
             0.7,
             "#b8e186"
            ],
            [
             0.8,
             "#7fbc41"
            ],
            [
             0.9,
             "#4d9221"
            ],
            [
             1,
             "#276419"
            ]
           ],
           "sequential": [
            [
             0,
             "#0d0887"
            ],
            [
             0.1111111111111111,
             "#46039f"
            ],
            [
             0.2222222222222222,
             "#7201a8"
            ],
            [
             0.3333333333333333,
             "#9c179e"
            ],
            [
             0.4444444444444444,
             "#bd3786"
            ],
            [
             0.5555555555555556,
             "#d8576b"
            ],
            [
             0.6666666666666666,
             "#ed7953"
            ],
            [
             0.7777777777777778,
             "#fb9f3a"
            ],
            [
             0.8888888888888888,
             "#fdca26"
            ],
            [
             1,
             "#f0f921"
            ]
           ],
           "sequentialminus": [
            [
             0,
             "#0d0887"
            ],
            [
             0.1111111111111111,
             "#46039f"
            ],
            [
             0.2222222222222222,
             "#7201a8"
            ],
            [
             0.3333333333333333,
             "#9c179e"
            ],
            [
             0.4444444444444444,
             "#bd3786"
            ],
            [
             0.5555555555555556,
             "#d8576b"
            ],
            [
             0.6666666666666666,
             "#ed7953"
            ],
            [
             0.7777777777777778,
             "#fb9f3a"
            ],
            [
             0.8888888888888888,
             "#fdca26"
            ],
            [
             1,
             "#f0f921"
            ]
           ]
          },
          "colorway": [
           "#636efa",
           "#EF553B",
           "#00cc96",
           "#ab63fa",
           "#FFA15A",
           "#19d3f3",
           "#FF6692",
           "#B6E880",
           "#FF97FF",
           "#FECB52"
          ],
          "font": {
           "color": "#2a3f5f"
          },
          "geo": {
           "bgcolor": "white",
           "lakecolor": "white",
           "landcolor": "#E5ECF6",
           "showlakes": true,
           "showland": true,
           "subunitcolor": "white"
          },
          "hoverlabel": {
           "align": "left"
          },
          "hovermode": "closest",
          "mapbox": {
           "style": "light"
          },
          "paper_bgcolor": "white",
          "plot_bgcolor": "#E5ECF6",
          "polar": {
           "angularaxis": {
            "gridcolor": "white",
            "linecolor": "white",
            "ticks": ""
           },
           "bgcolor": "#E5ECF6",
           "radialaxis": {
            "gridcolor": "white",
            "linecolor": "white",
            "ticks": ""
           }
          },
          "scene": {
           "xaxis": {
            "backgroundcolor": "#E5ECF6",
            "gridcolor": "white",
            "gridwidth": 2,
            "linecolor": "white",
            "showbackground": true,
            "ticks": "",
            "zerolinecolor": "white"
           },
           "yaxis": {
            "backgroundcolor": "#E5ECF6",
            "gridcolor": "white",
            "gridwidth": 2,
            "linecolor": "white",
            "showbackground": true,
            "ticks": "",
            "zerolinecolor": "white"
           },
           "zaxis": {
            "backgroundcolor": "#E5ECF6",
            "gridcolor": "white",
            "gridwidth": 2,
            "linecolor": "white",
            "showbackground": true,
            "ticks": "",
            "zerolinecolor": "white"
           }
          },
          "shapedefaults": {
           "line": {
            "color": "#2a3f5f"
           }
          },
          "ternary": {
           "aaxis": {
            "gridcolor": "white",
            "linecolor": "white",
            "ticks": ""
           },
           "baxis": {
            "gridcolor": "white",
            "linecolor": "white",
            "ticks": ""
           },
           "bgcolor": "#E5ECF6",
           "caxis": {
            "gridcolor": "white",
            "linecolor": "white",
            "ticks": ""
           }
          },
          "title": {
           "x": 0.05
          },
          "xaxis": {
           "automargin": true,
           "gridcolor": "white",
           "linecolor": "white",
           "ticks": "",
           "title": {
            "standoff": 15
           },
           "zerolinecolor": "white",
           "zerolinewidth": 2
          },
          "yaxis": {
           "automargin": true,
           "gridcolor": "white",
           "linecolor": "white",
           "ticks": "",
           "title": {
            "standoff": 15
           },
           "zerolinecolor": "white",
           "zerolinewidth": 2
          }
         }
        },
        "xaxis": {
         "dtick": 1,
         "gridcolor": "rgba(175, 175, 175, 255)",
         "range": [
          -1,
          17
         ],
         "showgrid": true,
         "showticklabels": true,
         "zeroline": false
        },
        "yaxis": {
         "dtick": 1,
         "gridcolor": "rgba(175, 175, 175, 255)",
         "range": [
          -1,
          10
         ],
         "scaleanchor": "x",
         "scaleratio": 1,
         "showgrid": true,
         "showticklabels": true,
         "zeroline": false
        }
       }
      }
     },
     "metadata": {},
     "output_type": "display_data"
    }
   ],
   "source": [
    "class Environment:\n",
    "    \"\"\" Simulation environment class.\n",
    "    Initializes the room size, images, and obstacles. \n",
    "    \"\"\"\n",
    "    def __init__(self):\n",
    "        self.room_size = (16, 9)\n",
    "        self.wall_list = env_walls()\n",
    "        self.image_list=[]\n",
    "env = Environment()\n",
    "\n",
    "visualize(env)"
   ]
  },
  {
   "cell_type": "code",
   "execution_count": 8,
   "metadata": {
    "id": "qQm2v0G4sA7E"
   },
   "outputs": [],
   "source": [
    "class Node:\n",
    "    def __init__(self, point, parent=None):\n",
    "        super(Node, self).__init__()\n",
    "        self.point = point\n",
    "        self.parent = None\n",
    "\n",
    "    @property\n",
    "    def x(self):\n",
    "       return self.point[0]\n",
    "\n",
    "    @property\n",
    "    def y(self):\n",
    "       return self.point[1]\n",
    "\n",
    "\n",
    "def dist(node1, node2):\n",
    "    return np.linalg.norm(node2.point - node1.point) \n",
    "\n",
    "\n",
    "def inObstacle(node, env):\n",
    "    x = node.point[0]\n",
    "    y = node.point[1]\n",
    "    for i in range(0, len(env.wall_list)): # WARINING POLYGON AND MATH WERE IMPORTED ABOVE\n",
    "        LB = env.wall_list[i].ps\n",
    "        RU = env.wall_list[i].pe\n",
    "        LU = np.array([env.wall_list[i].ps[0], env.wall_list[i].pe[1]])\n",
    "        RB = np.array([env.wall_list[i].pe[0], env.wall_list[i].ps[1]])\n",
    "        # print(type(LB[0]))\n",
    "        rect = Polygon([LB, LU, RU, RB])\n",
    "        if rect.contains(Point(x,y)):\n",
    "            return True\n",
    "    return False\n",
    "        \n",
    "        # if LB[0]-0.5 <= x and x <= RU[0]+0.5:\n",
    "        #     if LB[1]-0.5 <= y and y <= RB[0]+0.5:\n",
    "        #         return True\n",
    "        \n",
    "    return False\n",
    "\n",
    "def randomSample(goal_pos, env):\n",
    "    chance = random.uniform(0.0, 10.0)\n",
    "    if chance <= 1.0:\n",
    "        return Node(goal_pos)\n",
    "\n",
    "    rand_point = Node(np.array([random.uniform(0, 16.0), random.uniform(0, 9.0)]))\n",
    "    leash = 1000\n",
    "    in_obs = inObstacle(rand_point, env)\n",
    "    while in_obs:\n",
    "        rand_point = Node(np.array([random.uniform(0, 16.0), random.uniform(0, 9.0)]))\n",
    "        in_obs = inObstacle(rand_point, env)\n",
    "        if leash == 1:\n",
    "            return Node(np.array([0.0,0.0]))\n",
    "        leash-=1\n",
    "        \n",
    "    return rand_point\n",
    "\n",
    "\n",
    "def getNearest(rrt_tree, random_point):\n",
    "    min = math.inf\n",
    "    min_idx=-1\n",
    "    for i in range(0, len(rrt_tree)-1):\n",
    "        curr_dist = dist(rrt_tree[i], random_point)\n",
    "        if curr_dist < min:\n",
    "            min = curr_dist\n",
    "            min_idx=i\n",
    "\n",
    "    return rrt_tree[min_idx]\n",
    "\n",
    "def stepTo( nearest_point,random_point,step=1.):\n",
    "    \n",
    "    if dist(nearest_point,random_point) < step:\n",
    "        return random_point\n",
    "    angle = math.atan2(random_point.point[1]-nearest_point.point[1], random_point.point[0]-nearest_point.point[0])\n",
    "\n",
    "    x_point = math.cos(angle) * step\n",
    "    y_point = math.sin(angle) * step  \n",
    "    x_point= round(x_point,3)\n",
    "    y_point= round(y_point,3)    \n",
    "    vec= np.array([x_point+nearest_point.point[0], y_point+nearest_point.point[1]])\n",
    "    #debug = \"angle: \" + str(math.radians(angle)) + \" x_point: \" + str(x_point) +\" y_point: \"+ str(y_point)\n",
    "    #return (Node(vec),debug)\n",
    "    return Node(vec)\n",
    "\n",
    "\n",
    "def isCollision(line, env):       \n",
    "    for i in range(0, len(env.wall_list)):\n",
    "        LB = env.wall_list[i].ps\n",
    "        RU = env.wall_list[i].pe\n",
    "        LU = np.array([env.wall_list[i].ps[0], env.wall_list[i].pe[1]])\n",
    "        RB = np.array([env.wall_list[i].pe[0], env.wall_list[i].ps[1]])\n",
    "\n",
    "        if line_intersection(LU, RU, line[0].point, line[1].point):\n",
    "            return True   \n",
    "        if line_intersection(RU, RB, line[0].point, line[1].point):\n",
    "            return True\n",
    "        if line_intersection(LB, RB, line[0].point, line[1].point):\n",
    "            return True\n",
    "        if line_intersection(LU,LB, line[0].point, line[1].point):\n",
    "            return True\n",
    "\n",
    "    return False\n",
    "  \n",
    "\n",
    "def withinTolerance(point, goal, tolerance=1.5):\n",
    "    distance = dist(point, goal)\n",
    "    if tolerance >= abs(distance):\n",
    "        return True\n",
    "    return False \n"
   ]
  },
  {
   "cell_type": "code",
   "execution_count": 9,
   "metadata": {},
   "outputs": [
    {
     "name": "stdout",
     "output_type": "stream",
     "text": [
      "False\n"
     ]
    }
   ],
   "source": [
    "res= inObstacle(Node(np.array([4,3])), env)\n",
    "print(res)"
   ]
  },
  {
   "cell_type": "code",
   "execution_count": 10,
   "metadata": {
    "id": "ivj4vZYS-Ho7"
   },
   "outputs": [],
   "source": [
    "def RRT(start_pos, goal_pos, env):\n",
    "    \n",
    "    root = Node(start_pos)\n",
    "    goal_node = Node(goal_pos)\n",
    "    rrt_tree = [root]\n",
    "    soln_node = None\n",
    "    path=None\n",
    "    path=[]\n",
    "    dummy=0\n",
    "    hasReached = False\n",
    "    while hasReached == False:\n",
    "        randy = randomSample(goal_pos, env)\n",
    "        nearest = getNearest(rrt_tree, randy)\n",
    "        node = stepTo(nearest, randy)\n",
    "        if isCollision((nearest, node), env):\n",
    "            continue\n",
    "        if inObstacle(node, env):\n",
    "            continue\n",
    "        node.parent= nearest\n",
    "        rrt_tree.append(node)\n",
    "\n",
    "        hasReached = withinTolerance(node, goal_node)\n",
    "        if hasReached == True:\n",
    "            soln_node = node\n",
    "\n",
    "    dummy = soln_node\n",
    "    while dummy != None:\n",
    "        path.append(dummy)\n",
    "        dummy = dummy.parent\n",
    "    path.reverse()\n",
    "\n",
    "    return path, rrt_tree"
   ]
  },
  {
   "cell_type": "code",
   "execution_count": 11,
   "metadata": {},
   "outputs": [],
   "source": [
    "def smooth_path(path, env):\n",
    "    new_path = [path[0]]\n",
    "    for i in range(1, len(path)-1):\n",
    "        if isCollision((path[i-1], path[i+1]), env):\n",
    "            new_path.append(path[i])\n",
    "    new_path.append(path[-1])\n",
    "    return new_path"
   ]
  },
  {
   "cell_type": "code",
   "execution_count": 12,
   "metadata": {},
   "outputs": [
    {
     "name": "stderr",
     "output_type": "stream",
     "text": [
      "/home/lenovo/.local/lib/python3.10/site-packages/shapely/set_operations.py:133: RuntimeWarning:\n",
      "\n",
      "invalid value encountered in intersection\n",
      "\n"
     ]
    }
   ],
   "source": [
    "start_pos = np.array([4,1])\n",
    "goal_pos = np.array([13,6])\n",
    "path, rrt_tree = RRT(start_pos, goal_pos, env)\n",
    "# path = smooth_path(path, env)"
   ]
  },
  {
   "cell_type": "code",
   "execution_count": 13,
   "metadata": {
    "colab": {
     "base_uri": "https://localhost:8080/",
     "height": 383
    },
    "id": "T_EuUdZxq95q",
    "outputId": "90ebcf3e-3a80-4e76-ec9b-2c15658bb01d"
   },
   "outputs": [
    {
     "data": {
      "application/vnd.plotly.v1+json": {
       "config": {
        "plotlyServerURL": "https://plot.ly"
       },
       "data": [
        {
         "marker": {
          "color": "Blue",
          "size": 10
         },
         "mode": "lines+markers",
         "showlegend": false,
         "type": "scatter",
         "x": [
          4
         ],
         "y": [
          1
         ]
        },
        {
         "marker": {
          "color": "Blue",
          "size": 10
         },
         "mode": "lines+markers",
         "showlegend": false,
         "type": "scatter",
         "x": [
          3.944,
          4
         ],
         "y": [
          1.998,
          1
         ]
        },
        {
         "marker": {
          "color": "Blue",
          "size": 10
         },
         "mode": "lines+markers",
         "showlegend": false,
         "type": "scatter",
         "x": [
          4.819,
          4
         ],
         "y": [
          1.573,
          1
         ]
        },
        {
         "marker": {
          "color": "Blue",
          "size": 10
         },
         "mode": "lines+markers",
         "showlegend": false,
         "type": "scatter",
         "x": [
          4.888,
          3.944
         ],
         "y": [
          2.328,
          1.998
         ]
        },
        {
         "marker": {
          "color": "Blue",
          "size": 10
         },
         "mode": "lines+markers",
         "showlegend": false,
         "type": "scatter",
         "x": [
          4.063,
          3.944
         ],
         "y": [
          2.991,
          1.998
         ]
        },
        {
         "marker": {
          "color": "Blue",
          "size": 10
         },
         "mode": "lines+markers",
         "showlegend": false,
         "type": "scatter",
         "x": [
          3.376990644990542,
          4
         ],
         "y": [
          1.2165601150846501,
          1
         ]
        },
        {
         "marker": {
          "color": "Blue",
          "size": 10
         },
         "mode": "lines+markers",
         "showlegend": false,
         "type": "scatter",
         "x": [
          5.616,
          4.888
         ],
         "y": [
          3.013,
          2.328
         ]
        },
        {
         "marker": {
          "color": "Blue",
          "size": 10
         },
         "mode": "lines+markers",
         "showlegend": false,
         "type": "scatter",
         "x": [
          5.651,
          4.888
         ],
         "y": [
          2.9739999999999998,
          2.328
         ]
        },
        {
         "marker": {
          "color": "Blue",
          "size": 10
         },
         "mode": "lines+markers",
         "showlegend": false,
         "type": "scatter",
         "x": [
          6.534,
          5.616
         ],
         "y": [
          3.41,
          3.013
         ]
        },
        {
         "marker": {
          "color": "Blue",
          "size": 10
         },
         "mode": "lines+markers",
         "showlegend": false,
         "type": "scatter",
         "x": [
          6.526,
          5.651
         ],
         "y": [
          3.4579999999999997,
          2.9739999999999998
         ]
        },
        {
         "marker": {
          "color": "Blue",
          "size": 10
         },
         "mode": "lines+markers",
         "showlegend": false,
         "type": "scatter",
         "x": [
          5.447313674826852,
          5.616
         ],
         "y": [
          3.453585051251605,
          3.013
         ]
        },
        {
         "marker": {
          "color": "Blue",
          "size": 10
         },
         "mode": "lines+markers",
         "showlegend": false,
         "type": "scatter",
         "x": [
          7.391,
          6.534
         ],
         "y": [
          2.895,
          3.41
         ]
        },
        {
         "marker": {
          "color": "Blue",
          "size": 10
         },
         "mode": "lines+markers",
         "showlegend": false,
         "type": "scatter",
         "x": [
          7.3229999999999995,
          6.526
         ],
         "y": [
          4.061999999999999,
          3.4579999999999997
         ]
        },
        {
         "marker": {
          "color": "Blue",
          "size": 10
         },
         "mode": "lines+markers",
         "showlegend": false,
         "type": "scatter",
         "x": [
          7.152,
          6.526
         ],
         "y": [
          4.2379999999999995,
          3.4579999999999997
         ]
        },
        {
         "marker": {
          "color": "Blue",
          "size": 10
         },
         "mode": "lines+markers",
         "showlegend": false,
         "type": "scatter",
         "x": [
          3.7649999999999997,
          4.063
         ],
         "y": [
          3.946,
          2.991
         ]
        },
        {
         "marker": {
          "color": "Blue",
          "size": 10
         },
         "mode": "lines+markers",
         "showlegend": false,
         "type": "scatter",
         "x": [
          6.2329617724020245,
          6.534
         ],
         "y": [
          3.129375412248382,
          3.41
         ]
        },
        {
         "marker": {
          "color": "Blue",
          "size": 10
         },
         "mode": "lines+markers",
         "showlegend": false,
         "type": "scatter",
         "x": [
          7.4897513062835746,
          7.391
         ],
         "y": [
          2.102941526160458,
          2.895
         ]
        },
        {
         "marker": {
          "color": "Blue",
          "size": 10
         },
         "mode": "lines+markers",
         "showlegend": false,
         "type": "scatter",
         "x": [
          4.001020953423284,
          4
         ],
         "y": [
          1.3232629377919716,
          1
         ]
        },
        {
         "marker": {
          "color": "Blue",
          "size": 10
         },
         "mode": "lines+markers",
         "showlegend": false,
         "type": "scatter",
         "x": [
          2.7649999999999997,
          3.7649999999999997
         ],
         "y": [
          3.955,
          3.946
         ]
        },
        {
         "marker": {
          "color": "Blue",
          "size": 10
         },
         "mode": "lines+markers",
         "showlegend": false,
         "type": "scatter",
         "x": [
          2.771,
          3.7649999999999997
         ],
         "y": [
          4.056,
          3.946
         ]
        },
        {
         "marker": {
          "color": "Blue",
          "size": 10
         },
         "mode": "lines+markers",
         "showlegend": false,
         "type": "scatter",
         "x": [
          4.360082694165291,
          3.7649999999999997
         ],
         "y": [
          4.012853180947254,
          3.946
         ]
        },
        {
         "marker": {
          "color": "Blue",
          "size": 10
         },
         "mode": "lines+markers",
         "showlegend": false,
         "type": "scatter",
         "x": [
          3.9818051693592533,
          4
         ],
         "y": [
          0.3399749929554451,
          1
         ]
        },
        {
         "marker": {
          "color": "Blue",
          "size": 10
         },
         "mode": "lines+markers",
         "showlegend": false,
         "type": "scatter",
         "x": [
          4.359289727709115,
          4.888
         ],
         "y": [
          2.346822470061394,
          2.328
         ]
        },
        {
         "marker": {
          "color": "Blue",
          "size": 10
         },
         "mode": "lines+markers",
         "showlegend": false,
         "type": "scatter",
         "x": [
          4.252082694165291,
          4.360082694165291
         ],
         "y": [
          5.006853180947254,
          4.012853180947254
         ]
        },
        {
         "marker": {
          "color": "Blue",
          "size": 10
         },
         "mode": "lines+markers",
         "showlegend": false,
         "type": "scatter",
         "x": [
          1.7659999999999996,
          2.7649999999999997
         ],
         "y": [
          3.902,
          3.955
         ]
        },
        {
         "marker": {
          "color": "Blue",
          "size": 10
         },
         "mode": "lines+markers",
         "showlegend": false,
         "type": "scatter",
         "x": [
          4.5800826941652915,
          4.252082694165291
         ],
         "y": [
          5.951853180947254,
          5.006853180947254
         ]
        },
        {
         "marker": {
          "color": "Blue",
          "size": 10
         },
         "mode": "lines+markers",
         "showlegend": false,
         "type": "scatter",
         "x": [
          1.3549999999999995,
          1.7659999999999996
         ],
         "y": [
          2.99,
          3.902
         ]
        },
        {
         "marker": {
          "color": "Blue",
          "size": 10
         },
         "mode": "lines+markers",
         "showlegend": false,
         "type": "scatter",
         "x": [
          6.002246095874719,
          6.2329617724020245
         ],
         "y": [
          3.35743000557809,
          3.129375412248382
         ]
        },
        {
         "marker": {
          "color": "Blue",
          "size": 10
         },
         "mode": "lines+markers",
         "showlegend": false,
         "type": "scatter",
         "x": [
          1.208915341969762,
          1.3549999999999995
         ],
         "y": [
          2.738869554105149,
          2.99
         ]
        },
        {
         "marker": {
          "color": "Blue",
          "size": 10
         },
         "mode": "lines+markers",
         "showlegend": false,
         "type": "scatter",
         "x": [
          0.36499999999999955,
          1.3549999999999995
         ],
         "y": [
          3.132,
          2.99
         ]
        },
        {
         "marker": {
          "color": "Blue",
          "size": 10
         },
         "mode": "lines+markers",
         "showlegend": false,
         "type": "scatter",
         "x": [
          3.334428164577192,
          4.252082694165291
         ],
         "y": [
          5.306906815968576,
          5.006853180947254
         ]
        },
        {
         "marker": {
          "color": "Blue",
          "size": 10
         },
         "mode": "lines+markers",
         "showlegend": false,
         "type": "scatter",
         "x": [
          0.5891309074188875,
          0.36499999999999955
         ],
         "y": [
          2.640910670504809,
          3.132
         ]
        },
        {
         "marker": {
          "color": "Blue",
          "size": 10
         },
         "mode": "lines+markers",
         "showlegend": false,
         "type": "scatter",
         "x": [
          0.671915341969762,
          1.208915341969762
         ],
         "y": [
          1.8948695541051492,
          2.738869554105149
         ]
        },
        {
         "marker": {
          "color": "Blue",
          "size": 10
         },
         "mode": "lines+markers",
         "showlegend": false,
         "type": "scatter",
         "x": [
          4.720082694165291,
          4.5800826941652915
         ],
         "y": [
          6.941853180947255,
          5.951853180947254
         ]
        },
        {
         "marker": {
          "color": "Blue",
          "size": 10
         },
         "mode": "lines+markers",
         "showlegend": false,
         "type": "scatter",
         "x": [
          7.555309233702342,
          7.391
         ],
         "y": [
          3.200104910787378,
          2.895
         ]
        },
        {
         "marker": {
          "color": "Blue",
          "size": 10
         },
         "mode": "lines+markers",
         "showlegend": false,
         "type": "scatter",
         "x": [
          7.639747892768064,
          7.4897513062835746
         ],
         "y": [
          2.2473068453720226,
          2.102941526160458
         ]
        },
        {
         "marker": {
          "color": "Blue",
          "size": 10
         },
         "mode": "lines+markers",
         "showlegend": false,
         "type": "scatter",
         "x": [
          2.513428164577192,
          3.334428164577192
         ],
         "y": [
          5.877906815968576,
          5.306906815968576
         ]
        },
        {
         "marker": {
          "color": "Blue",
          "size": 10
         },
         "mode": "lines+markers",
         "showlegend": false,
         "type": "scatter",
         "x": [
          7.2083032028785095,
          7.3229999999999995
         ],
         "y": [
          3.8837464186269663,
          4.061999999999999
         ]
        },
        {
         "marker": {
          "color": "Blue",
          "size": 10
         },
         "mode": "lines+markers",
         "showlegend": false,
         "type": "scatter",
         "x": [
          1.2425138453524127,
          1.208915341969762
         ],
         "y": [
          2.2326426853452466,
          2.738869554105149
         ]
        },
        {
         "marker": {
          "color": "Blue",
          "size": 10
         },
         "mode": "lines+markers",
         "showlegend": false,
         "type": "scatter",
         "x": [
          1.097944267193082,
          1.7659999999999996
         ],
         "y": [
          4.208215390658933,
          3.902
         ]
        },
        {
         "marker": {
          "color": "Blue",
          "size": 10
         },
         "mode": "lines+markers",
         "showlegend": false,
         "type": "scatter",
         "x": [
          4.089115033066852,
          4.360082694165291
         ],
         "y": [
          3.7865775119684466,
          4.012853180947254
         ]
        },
        {
         "marker": {
          "color": "Blue",
          "size": 10
         },
         "mode": "lines+markers",
         "showlegend": false,
         "type": "scatter",
         "x": [
          3.7260826941652914,
          4.720082694165291
         ],
         "y": [
          7.048853180947255,
          6.941853180947255
         ]
        },
        {
         "marker": {
          "color": "Blue",
          "size": 10
         },
         "mode": "lines+markers",
         "showlegend": false,
         "type": "scatter",
         "x": [
          4.26950596419241,
          4.359289727709115
         ],
         "y": [
          2.518211766849899,
          2.346822470061394
         ]
        },
        {
         "marker": {
          "color": "Blue",
          "size": 10
         },
         "mode": "lines+markers",
         "showlegend": false,
         "type": "scatter",
         "x": [
          2.1136553415979975,
          2.513428164577192
         ],
         "y": [
          6.3305932349955745,
          5.877906815968576
         ]
        },
        {
         "marker": {
          "color": "Blue",
          "size": 10
         },
         "mode": "lines+markers",
         "showlegend": false,
         "type": "scatter",
         "x": [
          5.249082694165291,
          4.252082694165291
         ],
         "y": [
          4.926853180947254,
          5.006853180947254
         ]
        },
        {
         "marker": {
          "color": "Blue",
          "size": 10
         },
         "mode": "lines+markers",
         "showlegend": false,
         "type": "scatter",
         "x": [
          3.6492531490076914,
          4.063
         ],
         "y": [
          2.5570186918462388,
          2.991
         ]
        },
        {
         "marker": {
          "color": "Blue",
          "size": 10
         },
         "mode": "lines+markers",
         "showlegend": false,
         "type": "scatter",
         "x": [
          3.978082694165291,
          3.7260826941652914
         ],
         "y": [
          8.016853180947255,
          7.048853180947255
         ]
        },
        {
         "marker": {
          "color": "Blue",
          "size": 10
         },
         "mode": "lines+markers",
         "showlegend": false,
         "type": "scatter",
         "x": [
          3.6782499262053463,
          3.7260826941652914
         ],
         "y": [
          6.724932552175529,
          7.048853180947255
         ]
        },
        {
         "marker": {
          "color": "Blue",
          "size": 10
         },
         "mode": "lines+markers",
         "showlegend": false,
         "type": "scatter",
         "x": [
          3.9514755067559584,
          4.5800826941652915
         ],
         "y": [
          6.00517114080607,
          5.951853180947254
         ]
        },
        {
         "marker": {
          "color": "Blue",
          "size": 10
         },
         "mode": "lines+markers",
         "showlegend": false,
         "type": "scatter",
         "x": [
          6.9352141116671095,
          6.534
         ],
         "y": [
          3.486841989922521,
          3.41
         ]
        },
        {
         "marker": {
          "color": "Blue",
          "size": 10
         },
         "mode": "lines+markers",
         "showlegend": false,
         "type": "scatter",
         "x": [
          4.489079699514146,
          4.720082694165291
         ],
         "y": [
          7.090912135760595,
          6.941853180947255
         ]
        },
        {
         "marker": {
          "color": "Blue",
          "size": 10
         },
         "mode": "lines+markers",
         "showlegend": false,
         "type": "scatter",
         "x": [
          5.002666649386949,
          4.819
         ],
         "y": [
          0.6221792952119524,
          1.573
         ]
        },
        {
         "marker": {
          "color": "Blue",
          "size": 10
         },
         "mode": "lines+markers",
         "showlegend": false,
         "type": "scatter",
         "x": [
          4.579709811783166,
          3.978082694165291
         ],
         "y": [
          8.47908760866613,
          8.016853180947255
         ]
        },
        {
         "marker": {
          "color": "Blue",
          "size": 10
         },
         "mode": "lines+markers",
         "showlegend": false,
         "type": "scatter",
         "x": [
          0.19649814389930853,
          0.5891309074188875
         ],
         "y": [
          2.514472646181683,
          2.640910670504809
         ]
        },
        {
         "marker": {
          "color": "Blue",
          "size": 10
         },
         "mode": "lines+markers",
         "showlegend": false,
         "type": "scatter",
         "x": [
          4.370056840146329,
          4.579709811783166
         ],
         "y": [
          8.140896377387655,
          8.47908760866613
         ]
        },
        {
         "marker": {
          "color": "Blue",
          "size": 10
         },
         "mode": "lines+markers",
         "showlegend": false,
         "type": "scatter",
         "x": [
          5.482709811783167,
          4.579709811783166
         ],
         "y": [
          8.908087608666131,
          8.47908760866613
         ]
        },
        {
         "marker": {
          "color": "Blue",
          "size": 10
         },
         "mode": "lines+markers",
         "showlegend": false,
         "type": "scatter",
         "x": [
          7.095045766450987,
          7.391
         ],
         "y": [
          2.9743724110544703,
          2.895
         ]
        },
        {
         "marker": {
          "color": "Blue",
          "size": 10
         },
         "mode": "lines+markers",
         "showlegend": false,
         "type": "scatter",
         "x": [
          4.532542472819667,
          4.720082694165291
         ],
         "y": [
          6.760029065043037,
          6.941853180947255
         ]
        },
        {
         "marker": {
          "color": "Blue",
          "size": 10
         },
         "mode": "lines+markers",
         "showlegend": false,
         "type": "scatter",
         "x": [
          3.2303583972268104,
          3.334428164577192
         ],
         "y": [
          5.348657649354097,
          5.306906815968576
         ]
        },
        {
         "marker": {
          "color": "Blue",
          "size": 10
         },
         "mode": "lines+markers",
         "showlegend": false,
         "type": "scatter",
         "x": [
          1.3575858430035233,
          1.3549999999999995
         ],
         "y": [
          3.2038540014870667,
          2.99
         ]
        },
        {
         "marker": {
          "color": "Blue",
          "size": 10
         },
         "mode": "lines+markers",
         "showlegend": false,
         "type": "scatter",
         "x": [
          5.822148046067049,
          5.482709811783167
         ],
         "y": [
          8.543182487823682,
          8.908087608666131
         ]
        },
        {
         "marker": {
          "color": "Blue",
          "size": 10
         },
         "mode": "lines+markers",
         "showlegend": false,
         "type": "scatter",
         "x": [
          5.687082694165291,
          4.720082694165291
         ],
         "y": [
          6.687853180947254,
          6.941853180947255
         ]
        },
        {
         "marker": {
          "color": "Blue",
          "size": 10
         },
         "mode": "lines+markers",
         "showlegend": false,
         "type": "scatter",
         "x": [
          6.820148046067049,
          5.822148046067049
         ],
         "y": [
          8.47418248782368,
          8.543182487823682
         ]
        },
        {
         "marker": {
          "color": "Blue",
          "size": 10
         },
         "mode": "lines+markers",
         "showlegend": false,
         "type": "scatter",
         "x": [
          5.794042343936313,
          5.447313674826852
         ],
         "y": [
          4.160098303921437,
          3.453585051251605
         ]
        },
        {
         "marker": {
          "color": "Blue",
          "size": 10
         },
         "mode": "lines+markers",
         "showlegend": false,
         "type": "scatter",
         "x": [
          5.5574761930164325,
          5.822148046067049
         ],
         "y": [
          8.429441945317938,
          8.543182487823682
         ]
        },
        {
         "marker": {
          "color": "Blue",
          "size": 10
         },
         "mode": "lines+markers",
         "showlegend": false,
         "type": "scatter",
         "x": [
          7.819148046067049,
          6.820148046067049
         ],
         "y": [
          8.43318248782368,
          8.47418248782368
         ]
        },
        {
         "marker": {
          "color": "Blue",
          "size": 10
         },
         "mode": "lines+markers",
         "showlegend": false,
         "type": "scatter",
         "x": [
          1.1146553415979974,
          2.1136553415979975
         ],
         "y": [
          6.276593234995574,
          6.3305932349955745
         ]
        },
        {
         "marker": {
          "color": "Blue",
          "size": 10
         },
         "mode": "lines+markers",
         "showlegend": false,
         "type": "scatter",
         "x": [
          6.5335803690863195,
          6.2329617724020245
         ],
         "y": [
          2.8145117198163483,
          3.129375412248382
         ]
        },
        {
         "marker": {
          "color": "Blue",
          "size": 10
         },
         "mode": "lines+markers",
         "showlegend": false,
         "type": "scatter",
         "x": [
          8.724148046067048,
          7.819148046067049
         ],
         "y": [
          8.00818248782368,
          8.43318248782368
         ]
        },
        {
         "marker": {
          "color": "Blue",
          "size": 10
         },
         "mode": "lines+markers",
         "showlegend": false,
         "type": "scatter",
         "x": [
          2.8387368431913043,
          2.771
         ],
         "y": [
          4.049423083149637,
          4.056
         ]
        },
        {
         "marker": {
          "color": "Blue",
          "size": 10
         },
         "mode": "lines+markers",
         "showlegend": false,
         "type": "scatter",
         "x": [
          5.384144468171288,
          4.888
         ],
         "y": [
          2.4264908527830173,
          2.328
         ]
        },
        {
         "marker": {
          "color": "Blue",
          "size": 10
         },
         "mode": "lines+markers",
         "showlegend": false,
         "type": "scatter",
         "x": [
          9.699148046067048,
          8.724148046067048
         ],
         "y": [
          7.78518248782368,
          8.00818248782368
         ]
        },
        {
         "marker": {
          "color": "Blue",
          "size": 10
         },
         "mode": "lines+markers",
         "showlegend": false,
         "type": "scatter",
         "x": [
          9.716148046067048,
          8.724148046067048
         ],
         "y": [
          8.13518248782368,
          8.00818248782368
         ]
        },
        {
         "marker": {
          "color": "Blue",
          "size": 10
         },
         "mode": "lines+markers",
         "showlegend": false,
         "type": "scatter",
         "x": [
          4.926402899517326,
          4.819
         ],
         "y": [
          1.2391251953937155,
          1.573
         ]
        },
        {
         "marker": {
          "color": "Blue",
          "size": 10
         },
         "mode": "lines+markers",
         "showlegend": false,
         "type": "scatter",
         "x": [
          0.6280409756711229,
          1.1146553415979974
         ],
         "y": [
          6.0067438437502005,
          6.276593234995574
         ]
        },
        {
         "marker": {
          "color": "Blue",
          "size": 10
         },
         "mode": "lines+markers",
         "showlegend": false,
         "type": "scatter",
         "x": [
          3.2458153597754897,
          3.7260826941652914
         ],
         "y": [
          7.534417783997396,
          7.048853180947255
         ]
        },
        {
         "marker": {
          "color": "Blue",
          "size": 10
         },
         "mode": "lines+markers",
         "showlegend": false,
         "type": "scatter",
         "x": [
          6.839891202407776,
          6.820148046067049
         ],
         "y": [
          8.151322145824999,
          8.47418248782368
         ]
        },
        {
         "marker": {
          "color": "Blue",
          "size": 10
         },
         "mode": "lines+markers",
         "showlegend": false,
         "type": "scatter",
         "x": [
          3.959052548644866,
          3.7649999999999997
         ],
         "y": [
          4.277510647408537,
          3.946
         ]
        },
        {
         "marker": {
          "color": "Blue",
          "size": 10
         },
         "mode": "lines+markers",
         "showlegend": false,
         "type": "scatter",
         "x": [
          5.746762758054462,
          5.249082694165291
         ],
         "y": [
          5.390618083140994,
          4.926853180947254
         ]
        },
        {
         "marker": {
          "color": "Blue",
          "size": 10
         },
         "mode": "lines+markers",
         "showlegend": false,
         "type": "scatter",
         "x": [
          5.35859765535611,
          5.249082694165291
         ],
         "y": [
          5.663556470905195,
          4.926853180947254
         ]
        },
        {
         "marker": {
          "color": "Blue",
          "size": 10
         },
         "mode": "lines+markers",
         "showlegend": false,
         "type": "scatter",
         "x": [
          2.514958385613946,
          2.513428164577192
         ],
         "y": [
          5.591690942800661,
          5.877906815968576
         ]
        },
        {
         "marker": {
          "color": "Blue",
          "size": 10
         },
         "mode": "lines+markers",
         "showlegend": false,
         "type": "scatter",
         "x": [
          3.070055825074558,
          3.2303583972268104
         ],
         "y": [
          5.681884999837168,
          5.348657649354097
         ]
        },
        {
         "marker": {
          "color": "Blue",
          "size": 10
         },
         "mode": "lines+markers",
         "showlegend": false,
         "type": "scatter",
         "x": [
          3.06809216758894,
          3.376990644990542
         ],
         "y": [
          1.6940004413929497,
          1.2165601150846501
         ]
        },
        {
         "marker": {
          "color": "Blue",
          "size": 10
         },
         "mode": "lines+markers",
         "showlegend": false,
         "type": "scatter",
         "x": [
          5.7597864238843535,
          5.482709811783167
         ],
         "y": [
          8.949021814247217,
          8.908087608666131
         ]
        },
        {
         "marker": {
          "color": "Blue",
          "size": 10
         },
         "mode": "lines+markers",
         "showlegend": false,
         "type": "scatter",
         "x": [
          4.844066066300433,
          5.002666649386949
         ],
         "y": [
          0.5064304594521387,
          0.6221792952119524
         ]
        },
        {
         "marker": {
          "color": "Blue",
          "size": 10
         },
         "mode": "lines+markers",
         "showlegend": false,
         "type": "scatter",
         "x": [
          10.716148046067048,
          9.716148046067048
         ],
         "y": [
          8.13218248782368,
          8.13518248782368
         ]
        },
        {
         "marker": {
          "color": "Blue",
          "size": 10
         },
         "mode": "lines+markers",
         "showlegend": false,
         "type": "scatter",
         "x": [
          1.4146467818165434,
          1.1146553415979974
         ],
         "y": [
          6.55547590676799,
          6.276593234995574
         ]
        },
        {
         "marker": {
          "color": "Blue",
          "size": 10
         },
         "mode": "lines+markers",
         "showlegend": false,
         "type": "scatter",
         "x": [
          5.540712527763979,
          5.687082694165291
         ],
         "y": [
          6.369487132627102,
          6.687853180947254
         ]
        },
        {
         "marker": {
          "color": "Blue",
          "size": 10
         },
         "mode": "lines+markers",
         "showlegend": false,
         "type": "scatter",
         "x": [
          6.6705536369011345,
          6.5335803690863195
         ],
         "y": [
          2.1850970734683783,
          2.8145117198163483
         ]
        },
        {
         "marker": {
          "color": "Blue",
          "size": 10
         },
         "mode": "lines+markers",
         "showlegend": false,
         "type": "scatter",
         "x": [
          2.717597622748613,
          2.1136553415979975
         ],
         "y": [
          6.858456480052904,
          6.3305932349955745
         ]
        },
        {
         "marker": {
          "color": "Blue",
          "size": 10
         },
         "mode": "lines+markers",
         "showlegend": false,
         "type": "scatter",
         "x": [
          6.4968252522465395,
          6.820148046067049
         ],
         "y": [
          8.958422022356652,
          8.47418248782368
         ]
        },
        {
         "marker": {
          "color": "Blue",
          "size": 10
         },
         "mode": "lines+markers",
         "showlegend": false,
         "type": "scatter",
         "x": [
          1.7625170023731673,
          1.2425138453524127
         ],
         "y": [
          2.0716445232758445,
          2.2326426853452466
         ]
        },
        {
         "marker": {
          "color": "Blue",
          "size": 10
         },
         "mode": "lines+markers",
         "showlegend": false,
         "type": "scatter",
         "x": [
          4.7762924723531555,
          4.489079699514146
         ],
         "y": [
          7.419393343562429,
          7.090912135760595
         ]
        },
        {
         "marker": {
          "color": "Blue",
          "size": 10
         },
         "mode": "lines+markers",
         "showlegend": false,
         "type": "scatter",
         "x": [
          5.4932832057283125,
          5.249082694165291
         ],
         "y": [
          4.78331750817854,
          4.926853180947254
         ]
        },
        {
         "marker": {
          "color": "Blue",
          "size": 10
         },
         "mode": "lines+markers",
         "showlegend": false,
         "type": "scatter",
         "x": [
          11.355148046067047,
          10.716148046067048
         ],
         "y": [
          7.36318248782368,
          8.13218248782368
         ]
        },
        {
         "marker": {
          "color": "Blue",
          "size": 10
         },
         "mode": "lines+markers",
         "showlegend": false,
         "type": "scatter",
         "x": [
          3.081230180960274,
          3.2303583972268104
         ],
         "y": [
          5.252375942396877,
          5.348657649354097
         ]
        },
        {
         "marker": {
          "color": "Blue",
          "size": 10
         },
         "mode": "lines+markers",
         "showlegend": false,
         "type": "scatter",
         "x": [
          5.8688736722860355,
          5.651
         ],
         "y": [
          2.6562662071904573,
          2.9739999999999998
         ]
        },
        {
         "marker": {
          "color": "Blue",
          "size": 10
         },
         "mode": "lines+markers",
         "showlegend": false,
         "type": "scatter",
         "x": [
          5.839776664491998,
          5.687082694165291
         ],
         "y": [
          7.167336512845069,
          6.687853180947254
         ]
        },
        {
         "marker": {
          "color": "Blue",
          "size": 10
         },
         "mode": "lines+markers",
         "showlegend": false,
         "type": "scatter",
         "x": [
          3.091953100238557,
          3.06809216758894
         ],
         "y": [
          1.9166751819340384,
          1.6940004413929497
         ]
        },
        {
         "marker": {
          "color": "Blue",
          "size": 10
         },
         "mode": "lines+markers",
         "showlegend": false,
         "type": "scatter",
         "x": [
          8.059641369593034,
          7.819148046067049
         ],
         "y": [
          8.094349815525842,
          8.43318248782368
         ]
        },
        {
         "marker": {
          "color": "Blue",
          "size": 10
         },
         "mode": "lines+markers",
         "showlegend": false,
         "type": "scatter",
         "x": [
          12.125148046067046,
          11.355148046067047
         ],
         "y": [
          6.72518248782368,
          7.36318248782368
         ]
        }
       ],
       "layout": {
        "dragmode": "pan",
        "font": {
         "color": "rgba(230, 230, 230, 255)",
         "family": "Courier New, monospace"
        },
        "hovermode": false,
        "margin": {
         "b": 30,
         "l": 30,
         "r": 30,
         "t": 30
        },
        "paper_bgcolor": "rgba(50, 50, 60, 255)",
        "plot_bgcolor": "rgba(50, 50, 60, 255)",
        "shapes": [
         {
          "fillcolor": "rgba(255, 255, 255, 255)",
          "layer": "below",
          "line": {
           "width": 0
          },
          "type": "rect",
          "x0": 0,
          "x1": 16,
          "y0": -0.5,
          "y1": 0
         },
         {
          "fillcolor": "rgba(255, 255, 255, 255)",
          "layer": "below",
          "line": {
           "width": 0
          },
          "type": "rect",
          "x0": 0,
          "x1": 16,
          "y0": 9,
          "y1": 9.5
         },
         {
          "fillcolor": "rgba(255, 255, 255, 255)",
          "layer": "below",
          "line": {
           "width": 0
          },
          "type": "rect",
          "x0": -0.5,
          "x1": 0,
          "y0": -0.5,
          "y1": 9.5
         },
         {
          "fillcolor": "rgba(255, 255, 255, 255)",
          "layer": "below",
          "line": {
           "width": 0
          },
          "type": "rect",
          "x0": 16,
          "x1": 16.5,
          "y0": -0.5,
          "y1": 9.5
         },
         {
          "fillcolor": "rgba(150, 150, 150, 255)",
          "layer": "below",
          "line": {
           "width": 0
          },
          "type": "rect",
          "x0": 0,
          "x1": 3,
          "y0": 4.25,
          "y1": 4.75
         },
         {
          "fillcolor": "rgba(150, 150, 150, 255)",
          "layer": "below",
          "line": {
           "width": 0
          },
          "type": "rect",
          "x0": 5,
          "x1": 11,
          "y0": 4.25,
          "y1": 4.75
         },
         {
          "fillcolor": "rgba(150, 150, 150, 255)",
          "layer": "below",
          "line": {
           "width": 0
          },
          "type": "rect",
          "x0": 13,
          "x1": 16,
          "y0": 4.25,
          "y1": 4.75
         },
         {
          "fillcolor": "rgba(150, 150, 150, 255)",
          "layer": "below",
          "line": {
           "width": 0
          },
          "type": "rect",
          "x0": 7.75,
          "x1": 8.25,
          "y0": 1.75,
          "y1": 7.25
         },
         {
          "fillcolor": "rgba(150, 150, 150, 255)",
          "layer": "below",
          "line": {
           "width": 0
          },
          "type": "rect",
          "x0": 0,
          "x1": 3,
          "y0": 0,
          "y1": 1.75
         },
         {
          "fillcolor": "rgba(150, 150, 150, 255)",
          "layer": "below",
          "line": {
           "width": 0
          },
          "type": "rect",
          "x0": 13,
          "x1": 16,
          "y0": 0,
          "y1": 1.75
         },
         {
          "fillcolor": "rgba(150, 150, 150, 255)",
          "layer": "below",
          "line": {
           "width": 0
          },
          "type": "rect",
          "x0": 0,
          "x1": 3,
          "y0": 7.25,
          "y1": 9
         },
         {
          "fillcolor": "rgba(150, 150, 150, 255)",
          "layer": "below",
          "line": {
           "width": 0
          },
          "type": "rect",
          "x0": 13,
          "x1": 16,
          "y0": 7.25,
          "y1": 9
         },
         {
          "fillcolor": "rgba(150, 150, 150, 255)",
          "layer": "below",
          "line": {
           "width": 0
          },
          "type": "rect",
          "x0": 5,
          "x1": 11,
          "y0": 7.25,
          "y1": 7.75
         },
         {
          "fillcolor": "rgba(150, 150, 150, 255)",
          "layer": "below",
          "line": {
           "width": 0
          },
          "type": "rect",
          "x0": 5,
          "x1": 11,
          "y0": 1.25,
          "y1": 1.75
         }
        ],
        "sliders": [
         {
          "active": 0,
          "currentvalue": {
           "font": {
            "color": "rgb(230, 230, 230)",
            "family": "Courier New, monospace"
           },
           "prefix": "Step ",
           "visible": true,
           "xanchor": "right"
          },
          "font": {
           "color": "rgb(230, 230, 230)",
           "family": "Courier New, monospace"
          },
          "len": 0.95,
          "pad": {
           "b": 10,
           "t": 0
          },
          "steps": [
           {
            "args": [
             [
              "0"
             ],
             {
              "frame": {
               "duration": 0
              },
              "mode": "immediate"
             }
            ],
            "label": "0",
            "method": "animate"
           },
           {
            "args": [
             [
              "1"
             ],
             {
              "frame": {
               "duration": 0
              },
              "mode": "immediate"
             }
            ],
            "label": "1",
            "method": "animate"
           },
           {
            "args": [
             [
              "2"
             ],
             {
              "frame": {
               "duration": 0
              },
              "mode": "immediate"
             }
            ],
            "label": "2",
            "method": "animate"
           },
           {
            "args": [
             [
              "3"
             ],
             {
              "frame": {
               "duration": 0
              },
              "mode": "immediate"
             }
            ],
            "label": "3",
            "method": "animate"
           },
           {
            "args": [
             [
              "4"
             ],
             {
              "frame": {
               "duration": 0
              },
              "mode": "immediate"
             }
            ],
            "label": "4",
            "method": "animate"
           },
           {
            "args": [
             [
              "5"
             ],
             {
              "frame": {
               "duration": 0
              },
              "mode": "immediate"
             }
            ],
            "label": "5",
            "method": "animate"
           },
           {
            "args": [
             [
              "6"
             ],
             {
              "frame": {
               "duration": 0
              },
              "mode": "immediate"
             }
            ],
            "label": "6",
            "method": "animate"
           },
           {
            "args": [
             [
              "7"
             ],
             {
              "frame": {
               "duration": 0
              },
              "mode": "immediate"
             }
            ],
            "label": "7",
            "method": "animate"
           },
           {
            "args": [
             [
              "8"
             ],
             {
              "frame": {
               "duration": 0
              },
              "mode": "immediate"
             }
            ],
            "label": "8",
            "method": "animate"
           },
           {
            "args": [
             [
              "9"
             ],
             {
              "frame": {
               "duration": 0
              },
              "mode": "immediate"
             }
            ],
            "label": "9",
            "method": "animate"
           },
           {
            "args": [
             [
              "10"
             ],
             {
              "frame": {
               "duration": 0
              },
              "mode": "immediate"
             }
            ],
            "label": "10",
            "method": "animate"
           },
           {
            "args": [
             [
              "11"
             ],
             {
              "frame": {
               "duration": 0
              },
              "mode": "immediate"
             }
            ],
            "label": "11",
            "method": "animate"
           },
           {
            "args": [
             [
              "12"
             ],
             {
              "frame": {
               "duration": 0
              },
              "mode": "immediate"
             }
            ],
            "label": "12",
            "method": "animate"
           },
           {
            "args": [
             [
              "13"
             ],
             {
              "frame": {
               "duration": 0
              },
              "mode": "immediate"
             }
            ],
            "label": "13",
            "method": "animate"
           },
           {
            "args": [
             [
              "14"
             ],
             {
              "frame": {
               "duration": 0
              },
              "mode": "immediate"
             }
            ],
            "label": "14",
            "method": "animate"
           },
           {
            "args": [
             [
              "15"
             ],
             {
              "frame": {
               "duration": 0
              },
              "mode": "immediate"
             }
            ],
            "label": "15",
            "method": "animate"
           },
           {
            "args": [
             [
              "16"
             ],
             {
              "frame": {
               "duration": 0
              },
              "mode": "immediate"
             }
            ],
            "label": "16",
            "method": "animate"
           },
           {
            "args": [
             [
              "17"
             ],
             {
              "frame": {
               "duration": 0
              },
              "mode": "immediate"
             }
            ],
            "label": "17",
            "method": "animate"
           },
           {
            "args": [
             [
              "18"
             ],
             {
              "frame": {
               "duration": 0
              },
              "mode": "immediate"
             }
            ],
            "label": "18",
            "method": "animate"
           },
           {
            "args": [
             [
              "19"
             ],
             {
              "frame": {
               "duration": 0
              },
              "mode": "immediate"
             }
            ],
            "label": "19",
            "method": "animate"
           },
           {
            "args": [
             [
              "20"
             ],
             {
              "frame": {
               "duration": 0
              },
              "mode": "immediate"
             }
            ],
            "label": "20",
            "method": "animate"
           },
           {
            "args": [
             [
              "21"
             ],
             {
              "frame": {
               "duration": 0
              },
              "mode": "immediate"
             }
            ],
            "label": "21",
            "method": "animate"
           },
           {
            "args": [
             [
              "22"
             ],
             {
              "frame": {
               "duration": 0
              },
              "mode": "immediate"
             }
            ],
            "label": "22",
            "method": "animate"
           },
           {
            "args": [
             [
              "23"
             ],
             {
              "frame": {
               "duration": 0
              },
              "mode": "immediate"
             }
            ],
            "label": "23",
            "method": "animate"
           },
           {
            "args": [
             [
              "24"
             ],
             {
              "frame": {
               "duration": 0
              },
              "mode": "immediate"
             }
            ],
            "label": "24",
            "method": "animate"
           },
           {
            "args": [
             [
              "25"
             ],
             {
              "frame": {
               "duration": 0
              },
              "mode": "immediate"
             }
            ],
            "label": "25",
            "method": "animate"
           },
           {
            "args": [
             [
              "26"
             ],
             {
              "frame": {
               "duration": 0
              },
              "mode": "immediate"
             }
            ],
            "label": "26",
            "method": "animate"
           },
           {
            "args": [
             [
              "27"
             ],
             {
              "frame": {
               "duration": 0
              },
              "mode": "immediate"
             }
            ],
            "label": "27",
            "method": "animate"
           },
           {
            "args": [
             [
              "28"
             ],
             {
              "frame": {
               "duration": 0
              },
              "mode": "immediate"
             }
            ],
            "label": "28",
            "method": "animate"
           },
           {
            "args": [
             [
              "29"
             ],
             {
              "frame": {
               "duration": 0
              },
              "mode": "immediate"
             }
            ],
            "label": "29",
            "method": "animate"
           },
           {
            "args": [
             [
              "30"
             ],
             {
              "frame": {
               "duration": 0
              },
              "mode": "immediate"
             }
            ],
            "label": "30",
            "method": "animate"
           },
           {
            "args": [
             [
              "31"
             ],
             {
              "frame": {
               "duration": 0
              },
              "mode": "immediate"
             }
            ],
            "label": "31",
            "method": "animate"
           },
           {
            "args": [
             [
              "32"
             ],
             {
              "frame": {
               "duration": 0
              },
              "mode": "immediate"
             }
            ],
            "label": "32",
            "method": "animate"
           },
           {
            "args": [
             [
              "33"
             ],
             {
              "frame": {
               "duration": 0
              },
              "mode": "immediate"
             }
            ],
            "label": "33",
            "method": "animate"
           },
           {
            "args": [
             [
              "34"
             ],
             {
              "frame": {
               "duration": 0
              },
              "mode": "immediate"
             }
            ],
            "label": "34",
            "method": "animate"
           },
           {
            "args": [
             [
              "35"
             ],
             {
              "frame": {
               "duration": 0
              },
              "mode": "immediate"
             }
            ],
            "label": "35",
            "method": "animate"
           },
           {
            "args": [
             [
              "36"
             ],
             {
              "frame": {
               "duration": 0
              },
              "mode": "immediate"
             }
            ],
            "label": "36",
            "method": "animate"
           },
           {
            "args": [
             [
              "37"
             ],
             {
              "frame": {
               "duration": 0
              },
              "mode": "immediate"
             }
            ],
            "label": "37",
            "method": "animate"
           },
           {
            "args": [
             [
              "38"
             ],
             {
              "frame": {
               "duration": 0
              },
              "mode": "immediate"
             }
            ],
            "label": "38",
            "method": "animate"
           },
           {
            "args": [
             [
              "39"
             ],
             {
              "frame": {
               "duration": 0
              },
              "mode": "immediate"
             }
            ],
            "label": "39",
            "method": "animate"
           },
           {
            "args": [
             [
              "40"
             ],
             {
              "frame": {
               "duration": 0
              },
              "mode": "immediate"
             }
            ],
            "label": "40",
            "method": "animate"
           },
           {
            "args": [
             [
              "41"
             ],
             {
              "frame": {
               "duration": 0
              },
              "mode": "immediate"
             }
            ],
            "label": "41",
            "method": "animate"
           },
           {
            "args": [
             [
              "42"
             ],
             {
              "frame": {
               "duration": 0
              },
              "mode": "immediate"
             }
            ],
            "label": "42",
            "method": "animate"
           },
           {
            "args": [
             [
              "43"
             ],
             {
              "frame": {
               "duration": 0
              },
              "mode": "immediate"
             }
            ],
            "label": "43",
            "method": "animate"
           },
           {
            "args": [
             [
              "44"
             ],
             {
              "frame": {
               "duration": 0
              },
              "mode": "immediate"
             }
            ],
            "label": "44",
            "method": "animate"
           },
           {
            "args": [
             [
              "45"
             ],
             {
              "frame": {
               "duration": 0
              },
              "mode": "immediate"
             }
            ],
            "label": "45",
            "method": "animate"
           },
           {
            "args": [
             [
              "46"
             ],
             {
              "frame": {
               "duration": 0
              },
              "mode": "immediate"
             }
            ],
            "label": "46",
            "method": "animate"
           },
           {
            "args": [
             [
              "47"
             ],
             {
              "frame": {
               "duration": 0
              },
              "mode": "immediate"
             }
            ],
            "label": "47",
            "method": "animate"
           },
           {
            "args": [
             [
              "48"
             ],
             {
              "frame": {
               "duration": 0
              },
              "mode": "immediate"
             }
            ],
            "label": "48",
            "method": "animate"
           },
           {
            "args": [
             [
              "49"
             ],
             {
              "frame": {
               "duration": 0
              },
              "mode": "immediate"
             }
            ],
            "label": "49",
            "method": "animate"
           },
           {
            "args": [
             [
              "50"
             ],
             {
              "frame": {
               "duration": 0
              },
              "mode": "immediate"
             }
            ],
            "label": "50",
            "method": "animate"
           },
           {
            "args": [
             [
              "51"
             ],
             {
              "frame": {
               "duration": 0
              },
              "mode": "immediate"
             }
            ],
            "label": "51",
            "method": "animate"
           },
           {
            "args": [
             [
              "52"
             ],
             {
              "frame": {
               "duration": 0
              },
              "mode": "immediate"
             }
            ],
            "label": "52",
            "method": "animate"
           },
           {
            "args": [
             [
              "53"
             ],
             {
              "frame": {
               "duration": 0
              },
              "mode": "immediate"
             }
            ],
            "label": "53",
            "method": "animate"
           },
           {
            "args": [
             [
              "54"
             ],
             {
              "frame": {
               "duration": 0
              },
              "mode": "immediate"
             }
            ],
            "label": "54",
            "method": "animate"
           },
           {
            "args": [
             [
              "55"
             ],
             {
              "frame": {
               "duration": 0
              },
              "mode": "immediate"
             }
            ],
            "label": "55",
            "method": "animate"
           },
           {
            "args": [
             [
              "56"
             ],
             {
              "frame": {
               "duration": 0
              },
              "mode": "immediate"
             }
            ],
            "label": "56",
            "method": "animate"
           },
           {
            "args": [
             [
              "57"
             ],
             {
              "frame": {
               "duration": 0
              },
              "mode": "immediate"
             }
            ],
            "label": "57",
            "method": "animate"
           },
           {
            "args": [
             [
              "58"
             ],
             {
              "frame": {
               "duration": 0
              },
              "mode": "immediate"
             }
            ],
            "label": "58",
            "method": "animate"
           },
           {
            "args": [
             [
              "59"
             ],
             {
              "frame": {
               "duration": 0
              },
              "mode": "immediate"
             }
            ],
            "label": "59",
            "method": "animate"
           },
           {
            "args": [
             [
              "60"
             ],
             {
              "frame": {
               "duration": 0
              },
              "mode": "immediate"
             }
            ],
            "label": "60",
            "method": "animate"
           },
           {
            "args": [
             [
              "61"
             ],
             {
              "frame": {
               "duration": 0
              },
              "mode": "immediate"
             }
            ],
            "label": "61",
            "method": "animate"
           },
           {
            "args": [
             [
              "62"
             ],
             {
              "frame": {
               "duration": 0
              },
              "mode": "immediate"
             }
            ],
            "label": "62",
            "method": "animate"
           },
           {
            "args": [
             [
              "63"
             ],
             {
              "frame": {
               "duration": 0
              },
              "mode": "immediate"
             }
            ],
            "label": "63",
            "method": "animate"
           },
           {
            "args": [
             [
              "64"
             ],
             {
              "frame": {
               "duration": 0
              },
              "mode": "immediate"
             }
            ],
            "label": "64",
            "method": "animate"
           },
           {
            "args": [
             [
              "65"
             ],
             {
              "frame": {
               "duration": 0
              },
              "mode": "immediate"
             }
            ],
            "label": "65",
            "method": "animate"
           },
           {
            "args": [
             [
              "66"
             ],
             {
              "frame": {
               "duration": 0
              },
              "mode": "immediate"
             }
            ],
            "label": "66",
            "method": "animate"
           },
           {
            "args": [
             [
              "67"
             ],
             {
              "frame": {
               "duration": 0
              },
              "mode": "immediate"
             }
            ],
            "label": "67",
            "method": "animate"
           },
           {
            "args": [
             [
              "68"
             ],
             {
              "frame": {
               "duration": 0
              },
              "mode": "immediate"
             }
            ],
            "label": "68",
            "method": "animate"
           },
           {
            "args": [
             [
              "69"
             ],
             {
              "frame": {
               "duration": 0
              },
              "mode": "immediate"
             }
            ],
            "label": "69",
            "method": "animate"
           },
           {
            "args": [
             [
              "70"
             ],
             {
              "frame": {
               "duration": 0
              },
              "mode": "immediate"
             }
            ],
            "label": "70",
            "method": "animate"
           },
           {
            "args": [
             [
              "71"
             ],
             {
              "frame": {
               "duration": 0
              },
              "mode": "immediate"
             }
            ],
            "label": "71",
            "method": "animate"
           },
           {
            "args": [
             [
              "72"
             ],
             {
              "frame": {
               "duration": 0
              },
              "mode": "immediate"
             }
            ],
            "label": "72",
            "method": "animate"
           },
           {
            "args": [
             [
              "73"
             ],
             {
              "frame": {
               "duration": 0
              },
              "mode": "immediate"
             }
            ],
            "label": "73",
            "method": "animate"
           },
           {
            "args": [
             [
              "74"
             ],
             {
              "frame": {
               "duration": 0
              },
              "mode": "immediate"
             }
            ],
            "label": "74",
            "method": "animate"
           },
           {
            "args": [
             [
              "75"
             ],
             {
              "frame": {
               "duration": 0
              },
              "mode": "immediate"
             }
            ],
            "label": "75",
            "method": "animate"
           },
           {
            "args": [
             [
              "76"
             ],
             {
              "frame": {
               "duration": 0
              },
              "mode": "immediate"
             }
            ],
            "label": "76",
            "method": "animate"
           },
           {
            "args": [
             [
              "77"
             ],
             {
              "frame": {
               "duration": 0
              },
              "mode": "immediate"
             }
            ],
            "label": "77",
            "method": "animate"
           },
           {
            "args": [
             [
              "78"
             ],
             {
              "frame": {
               "duration": 0
              },
              "mode": "immediate"
             }
            ],
            "label": "78",
            "method": "animate"
           },
           {
            "args": [
             [
              "79"
             ],
             {
              "frame": {
               "duration": 0
              },
              "mode": "immediate"
             }
            ],
            "label": "79",
            "method": "animate"
           },
           {
            "args": [
             [
              "80"
             ],
             {
              "frame": {
               "duration": 0
              },
              "mode": "immediate"
             }
            ],
            "label": "80",
            "method": "animate"
           },
           {
            "args": [
             [
              "81"
             ],
             {
              "frame": {
               "duration": 0
              },
              "mode": "immediate"
             }
            ],
            "label": "81",
            "method": "animate"
           },
           {
            "args": [
             [
              "82"
             ],
             {
              "frame": {
               "duration": 0
              },
              "mode": "immediate"
             }
            ],
            "label": "82",
            "method": "animate"
           },
           {
            "args": [
             [
              "83"
             ],
             {
              "frame": {
               "duration": 0
              },
              "mode": "immediate"
             }
            ],
            "label": "83",
            "method": "animate"
           },
           {
            "args": [
             [
              "84"
             ],
             {
              "frame": {
               "duration": 0
              },
              "mode": "immediate"
             }
            ],
            "label": "84",
            "method": "animate"
           },
           {
            "args": [
             [
              "85"
             ],
             {
              "frame": {
               "duration": 0
              },
              "mode": "immediate"
             }
            ],
            "label": "85",
            "method": "animate"
           },
           {
            "args": [
             [
              "86"
             ],
             {
              "frame": {
               "duration": 0
              },
              "mode": "immediate"
             }
            ],
            "label": "86",
            "method": "animate"
           },
           {
            "args": [
             [
              "87"
             ],
             {
              "frame": {
               "duration": 0
              },
              "mode": "immediate"
             }
            ],
            "label": "87",
            "method": "animate"
           },
           {
            "args": [
             [
              "88"
             ],
             {
              "frame": {
               "duration": 0
              },
              "mode": "immediate"
             }
            ],
            "label": "88",
            "method": "animate"
           },
           {
            "args": [
             [
              "89"
             ],
             {
              "frame": {
               "duration": 0
              },
              "mode": "immediate"
             }
            ],
            "label": "89",
            "method": "animate"
           },
           {
            "args": [
             [
              "90"
             ],
             {
              "frame": {
               "duration": 0
              },
              "mode": "immediate"
             }
            ],
            "label": "90",
            "method": "animate"
           },
           {
            "args": [
             [
              "91"
             ],
             {
              "frame": {
               "duration": 0
              },
              "mode": "immediate"
             }
            ],
            "label": "91",
            "method": "animate"
           },
           {
            "args": [
             [
              "92"
             ],
             {
              "frame": {
               "duration": 0
              },
              "mode": "immediate"
             }
            ],
            "label": "92",
            "method": "animate"
           },
           {
            "args": [
             [
              "93"
             ],
             {
              "frame": {
               "duration": 0
              },
              "mode": "immediate"
             }
            ],
            "label": "93",
            "method": "animate"
           },
           {
            "args": [
             [
              "94"
             ],
             {
              "frame": {
               "duration": 0
              },
              "mode": "immediate"
             }
            ],
            "label": "94",
            "method": "animate"
           },
           {
            "args": [
             [
              "95"
             ],
             {
              "frame": {
               "duration": 0
              },
              "mode": "immediate"
             }
            ],
            "label": "95",
            "method": "animate"
           },
           {
            "args": [
             [
              "96"
             ],
             {
              "frame": {
               "duration": 0
              },
              "mode": "immediate"
             }
            ],
            "label": "96",
            "method": "animate"
           },
           {
            "args": [
             [
              "97"
             ],
             {
              "frame": {
               "duration": 0
              },
              "mode": "immediate"
             }
            ],
            "label": "97",
            "method": "animate"
           },
           {
            "args": [
             [
              "98"
             ],
             {
              "frame": {
               "duration": 0
              },
              "mode": "immediate"
             }
            ],
            "label": "98",
            "method": "animate"
           },
           {
            "args": [
             [
              "99"
             ],
             {
              "frame": {
               "duration": 0
              },
              "mode": "immediate"
             }
            ],
            "label": "99",
            "method": "animate"
           },
           {
            "args": [
             [
              "100"
             ],
             {
              "frame": {
               "duration": 0
              },
              "mode": "immediate"
             }
            ],
            "label": "100",
            "method": "animate"
           }
          ],
          "x": 0.05,
          "xanchor": "left",
          "y": 0,
          "yanchor": "top"
         }
        ],
        "template": {
         "data": {
          "bar": [
           {
            "error_x": {
             "color": "#2a3f5f"
            },
            "error_y": {
             "color": "#2a3f5f"
            },
            "marker": {
             "line": {
              "color": "#E5ECF6",
              "width": 0.5
             },
             "pattern": {
              "fillmode": "overlay",
              "size": 10,
              "solidity": 0.2
             }
            },
            "type": "bar"
           }
          ],
          "barpolar": [
           {
            "marker": {
             "line": {
              "color": "#E5ECF6",
              "width": 0.5
             },
             "pattern": {
              "fillmode": "overlay",
              "size": 10,
              "solidity": 0.2
             }
            },
            "type": "barpolar"
           }
          ],
          "carpet": [
           {
            "aaxis": {
             "endlinecolor": "#2a3f5f",
             "gridcolor": "white",
             "linecolor": "white",
             "minorgridcolor": "white",
             "startlinecolor": "#2a3f5f"
            },
            "baxis": {
             "endlinecolor": "#2a3f5f",
             "gridcolor": "white",
             "linecolor": "white",
             "minorgridcolor": "white",
             "startlinecolor": "#2a3f5f"
            },
            "type": "carpet"
           }
          ],
          "choropleth": [
           {
            "colorbar": {
             "outlinewidth": 0,
             "ticks": ""
            },
            "type": "choropleth"
           }
          ],
          "contour": [
           {
            "colorbar": {
             "outlinewidth": 0,
             "ticks": ""
            },
            "colorscale": [
             [
              0,
              "#0d0887"
             ],
             [
              0.1111111111111111,
              "#46039f"
             ],
             [
              0.2222222222222222,
              "#7201a8"
             ],
             [
              0.3333333333333333,
              "#9c179e"
             ],
             [
              0.4444444444444444,
              "#bd3786"
             ],
             [
              0.5555555555555556,
              "#d8576b"
             ],
             [
              0.6666666666666666,
              "#ed7953"
             ],
             [
              0.7777777777777778,
              "#fb9f3a"
             ],
             [
              0.8888888888888888,
              "#fdca26"
             ],
             [
              1,
              "#f0f921"
             ]
            ],
            "type": "contour"
           }
          ],
          "contourcarpet": [
           {
            "colorbar": {
             "outlinewidth": 0,
             "ticks": ""
            },
            "type": "contourcarpet"
           }
          ],
          "heatmap": [
           {
            "colorbar": {
             "outlinewidth": 0,
             "ticks": ""
            },
            "colorscale": [
             [
              0,
              "#0d0887"
             ],
             [
              0.1111111111111111,
              "#46039f"
             ],
             [
              0.2222222222222222,
              "#7201a8"
             ],
             [
              0.3333333333333333,
              "#9c179e"
             ],
             [
              0.4444444444444444,
              "#bd3786"
             ],
             [
              0.5555555555555556,
              "#d8576b"
             ],
             [
              0.6666666666666666,
              "#ed7953"
             ],
             [
              0.7777777777777778,
              "#fb9f3a"
             ],
             [
              0.8888888888888888,
              "#fdca26"
             ],
             [
              1,
              "#f0f921"
             ]
            ],
            "type": "heatmap"
           }
          ],
          "heatmapgl": [
           {
            "colorbar": {
             "outlinewidth": 0,
             "ticks": ""
            },
            "colorscale": [
             [
              0,
              "#0d0887"
             ],
             [
              0.1111111111111111,
              "#46039f"
             ],
             [
              0.2222222222222222,
              "#7201a8"
             ],
             [
              0.3333333333333333,
              "#9c179e"
             ],
             [
              0.4444444444444444,
              "#bd3786"
             ],
             [
              0.5555555555555556,
              "#d8576b"
             ],
             [
              0.6666666666666666,
              "#ed7953"
             ],
             [
              0.7777777777777778,
              "#fb9f3a"
             ],
             [
              0.8888888888888888,
              "#fdca26"
             ],
             [
              1,
              "#f0f921"
             ]
            ],
            "type": "heatmapgl"
           }
          ],
          "histogram": [
           {
            "marker": {
             "pattern": {
              "fillmode": "overlay",
              "size": 10,
              "solidity": 0.2
             }
            },
            "type": "histogram"
           }
          ],
          "histogram2d": [
           {
            "colorbar": {
             "outlinewidth": 0,
             "ticks": ""
            },
            "colorscale": [
             [
              0,
              "#0d0887"
             ],
             [
              0.1111111111111111,
              "#46039f"
             ],
             [
              0.2222222222222222,
              "#7201a8"
             ],
             [
              0.3333333333333333,
              "#9c179e"
             ],
             [
              0.4444444444444444,
              "#bd3786"
             ],
             [
              0.5555555555555556,
              "#d8576b"
             ],
             [
              0.6666666666666666,
              "#ed7953"
             ],
             [
              0.7777777777777778,
              "#fb9f3a"
             ],
             [
              0.8888888888888888,
              "#fdca26"
             ],
             [
              1,
              "#f0f921"
             ]
            ],
            "type": "histogram2d"
           }
          ],
          "histogram2dcontour": [
           {
            "colorbar": {
             "outlinewidth": 0,
             "ticks": ""
            },
            "colorscale": [
             [
              0,
              "#0d0887"
             ],
             [
              0.1111111111111111,
              "#46039f"
             ],
             [
              0.2222222222222222,
              "#7201a8"
             ],
             [
              0.3333333333333333,
              "#9c179e"
             ],
             [
              0.4444444444444444,
              "#bd3786"
             ],
             [
              0.5555555555555556,
              "#d8576b"
             ],
             [
              0.6666666666666666,
              "#ed7953"
             ],
             [
              0.7777777777777778,
              "#fb9f3a"
             ],
             [
              0.8888888888888888,
              "#fdca26"
             ],
             [
              1,
              "#f0f921"
             ]
            ],
            "type": "histogram2dcontour"
           }
          ],
          "mesh3d": [
           {
            "colorbar": {
             "outlinewidth": 0,
             "ticks": ""
            },
            "type": "mesh3d"
           }
          ],
          "parcoords": [
           {
            "line": {
             "colorbar": {
              "outlinewidth": 0,
              "ticks": ""
             }
            },
            "type": "parcoords"
           }
          ],
          "pie": [
           {
            "automargin": true,
            "type": "pie"
           }
          ],
          "scatter": [
           {
            "fillpattern": {
             "fillmode": "overlay",
             "size": 10,
             "solidity": 0.2
            },
            "type": "scatter"
           }
          ],
          "scatter3d": [
           {
            "line": {
             "colorbar": {
              "outlinewidth": 0,
              "ticks": ""
             }
            },
            "marker": {
             "colorbar": {
              "outlinewidth": 0,
              "ticks": ""
             }
            },
            "type": "scatter3d"
           }
          ],
          "scattercarpet": [
           {
            "marker": {
             "colorbar": {
              "outlinewidth": 0,
              "ticks": ""
             }
            },
            "type": "scattercarpet"
           }
          ],
          "scattergeo": [
           {
            "marker": {
             "colorbar": {
              "outlinewidth": 0,
              "ticks": ""
             }
            },
            "type": "scattergeo"
           }
          ],
          "scattergl": [
           {
            "marker": {
             "colorbar": {
              "outlinewidth": 0,
              "ticks": ""
             }
            },
            "type": "scattergl"
           }
          ],
          "scattermapbox": [
           {
            "marker": {
             "colorbar": {
              "outlinewidth": 0,
              "ticks": ""
             }
            },
            "type": "scattermapbox"
           }
          ],
          "scatterpolar": [
           {
            "marker": {
             "colorbar": {
              "outlinewidth": 0,
              "ticks": ""
             }
            },
            "type": "scatterpolar"
           }
          ],
          "scatterpolargl": [
           {
            "marker": {
             "colorbar": {
              "outlinewidth": 0,
              "ticks": ""
             }
            },
            "type": "scatterpolargl"
           }
          ],
          "scatterternary": [
           {
            "marker": {
             "colorbar": {
              "outlinewidth": 0,
              "ticks": ""
             }
            },
            "type": "scatterternary"
           }
          ],
          "surface": [
           {
            "colorbar": {
             "outlinewidth": 0,
             "ticks": ""
            },
            "colorscale": [
             [
              0,
              "#0d0887"
             ],
             [
              0.1111111111111111,
              "#46039f"
             ],
             [
              0.2222222222222222,
              "#7201a8"
             ],
             [
              0.3333333333333333,
              "#9c179e"
             ],
             [
              0.4444444444444444,
              "#bd3786"
             ],
             [
              0.5555555555555556,
              "#d8576b"
             ],
             [
              0.6666666666666666,
              "#ed7953"
             ],
             [
              0.7777777777777778,
              "#fb9f3a"
             ],
             [
              0.8888888888888888,
              "#fdca26"
             ],
             [
              1,
              "#f0f921"
             ]
            ],
            "type": "surface"
           }
          ],
          "table": [
           {
            "cells": {
             "fill": {
              "color": "#EBF0F8"
             },
             "line": {
              "color": "white"
             }
            },
            "header": {
             "fill": {
              "color": "#C8D4E3"
             },
             "line": {
              "color": "white"
             }
            },
            "type": "table"
           }
          ]
         },
         "layout": {
          "annotationdefaults": {
           "arrowcolor": "#2a3f5f",
           "arrowhead": 0,
           "arrowwidth": 1
          },
          "autotypenumbers": "strict",
          "coloraxis": {
           "colorbar": {
            "outlinewidth": 0,
            "ticks": ""
           }
          },
          "colorscale": {
           "diverging": [
            [
             0,
             "#8e0152"
            ],
            [
             0.1,
             "#c51b7d"
            ],
            [
             0.2,
             "#de77ae"
            ],
            [
             0.3,
             "#f1b6da"
            ],
            [
             0.4,
             "#fde0ef"
            ],
            [
             0.5,
             "#f7f7f7"
            ],
            [
             0.6,
             "#e6f5d0"
            ],
            [
             0.7,
             "#b8e186"
            ],
            [
             0.8,
             "#7fbc41"
            ],
            [
             0.9,
             "#4d9221"
            ],
            [
             1,
             "#276419"
            ]
           ],
           "sequential": [
            [
             0,
             "#0d0887"
            ],
            [
             0.1111111111111111,
             "#46039f"
            ],
            [
             0.2222222222222222,
             "#7201a8"
            ],
            [
             0.3333333333333333,
             "#9c179e"
            ],
            [
             0.4444444444444444,
             "#bd3786"
            ],
            [
             0.5555555555555556,
             "#d8576b"
            ],
            [
             0.6666666666666666,
             "#ed7953"
            ],
            [
             0.7777777777777778,
             "#fb9f3a"
            ],
            [
             0.8888888888888888,
             "#fdca26"
            ],
            [
             1,
             "#f0f921"
            ]
           ],
           "sequentialminus": [
            [
             0,
             "#0d0887"
            ],
            [
             0.1111111111111111,
             "#46039f"
            ],
            [
             0.2222222222222222,
             "#7201a8"
            ],
            [
             0.3333333333333333,
             "#9c179e"
            ],
            [
             0.4444444444444444,
             "#bd3786"
            ],
            [
             0.5555555555555556,
             "#d8576b"
            ],
            [
             0.6666666666666666,
             "#ed7953"
            ],
            [
             0.7777777777777778,
             "#fb9f3a"
            ],
            [
             0.8888888888888888,
             "#fdca26"
            ],
            [
             1,
             "#f0f921"
            ]
           ]
          },
          "colorway": [
           "#636efa",
           "#EF553B",
           "#00cc96",
           "#ab63fa",
           "#FFA15A",
           "#19d3f3",
           "#FF6692",
           "#B6E880",
           "#FF97FF",
           "#FECB52"
          ],
          "font": {
           "color": "#2a3f5f"
          },
          "geo": {
           "bgcolor": "white",
           "lakecolor": "white",
           "landcolor": "#E5ECF6",
           "showlakes": true,
           "showland": true,
           "subunitcolor": "white"
          },
          "hoverlabel": {
           "align": "left"
          },
          "hovermode": "closest",
          "mapbox": {
           "style": "light"
          },
          "paper_bgcolor": "white",
          "plot_bgcolor": "#E5ECF6",
          "polar": {
           "angularaxis": {
            "gridcolor": "white",
            "linecolor": "white",
            "ticks": ""
           },
           "bgcolor": "#E5ECF6",
           "radialaxis": {
            "gridcolor": "white",
            "linecolor": "white",
            "ticks": ""
           }
          },
          "scene": {
           "xaxis": {
            "backgroundcolor": "#E5ECF6",
            "gridcolor": "white",
            "gridwidth": 2,
            "linecolor": "white",
            "showbackground": true,
            "ticks": "",
            "zerolinecolor": "white"
           },
           "yaxis": {
            "backgroundcolor": "#E5ECF6",
            "gridcolor": "white",
            "gridwidth": 2,
            "linecolor": "white",
            "showbackground": true,
            "ticks": "",
            "zerolinecolor": "white"
           },
           "zaxis": {
            "backgroundcolor": "#E5ECF6",
            "gridcolor": "white",
            "gridwidth": 2,
            "linecolor": "white",
            "showbackground": true,
            "ticks": "",
            "zerolinecolor": "white"
           }
          },
          "shapedefaults": {
           "line": {
            "color": "#2a3f5f"
           }
          },
          "ternary": {
           "aaxis": {
            "gridcolor": "white",
            "linecolor": "white",
            "ticks": ""
           },
           "baxis": {
            "gridcolor": "white",
            "linecolor": "white",
            "ticks": ""
           },
           "bgcolor": "#E5ECF6",
           "caxis": {
            "gridcolor": "white",
            "linecolor": "white",
            "ticks": ""
           }
          },
          "title": {
           "x": 0.05
          },
          "xaxis": {
           "automargin": true,
           "gridcolor": "white",
           "linecolor": "white",
           "ticks": "",
           "title": {
            "standoff": 15
           },
           "zerolinecolor": "white",
           "zerolinewidth": 2
          },
          "yaxis": {
           "automargin": true,
           "gridcolor": "white",
           "linecolor": "white",
           "ticks": "",
           "title": {
            "standoff": 15
           },
           "zerolinecolor": "white",
           "zerolinewidth": 2
          }
         }
        },
        "updatemenus": [
         {
          "buttons": [
           {
            "args": [
             null,
             {
              "frame": {
               "duration": 0
              },
              "fromcurrent": true
             }
            ],
            "label": "Play",
            "method": "animate"
           }
          ],
          "direction": "left",
          "font": {
           "color": "rgb(230, 230, 230)",
           "family": "Courier New, monospace"
          },
          "pad": {
           "r": 10,
           "t": 30
          },
          "showactive": false,
          "type": "buttons",
          "x": 0.05,
          "xanchor": "right",
          "y": 0,
          "yanchor": "top"
         }
        ],
        "xaxis": {
         "dtick": 1,
         "gridcolor": "rgba(175, 175, 175, 255)",
         "range": [
          -1,
          17
         ],
         "showgrid": true,
         "showticklabels": true,
         "zeroline": false
        },
        "yaxis": {
         "dtick": 1,
         "gridcolor": "rgba(175, 175, 175, 255)",
         "range": [
          -1,
          10
         ],
         "scaleanchor": "x",
         "scaleratio": 1,
         "showgrid": true,
         "showticklabels": true,
         "zeroline": false
        }
       }
      }
     },
     "metadata": {},
     "output_type": "display_data"
    }
   ],
   "source": [
    "\n",
    "start_pos = np.array([4,1])\n",
    "goal_pos = np.array([13,6])\n",
    "path, rrt_tree = RRT(start_pos, goal_pos, env)\n",
    "# path = smooth_path(path, env)\n",
    "visualize_tree(env, rrt_tree)\n",
    "\n"
   ]
  },
  {
   "cell_type": "code",
   "execution_count": 14,
   "metadata": {
    "id": "HcQ4SwAELpVv"
   },
   "outputs": [
    {
     "data": {
      "application/vnd.plotly.v1+json": {
       "config": {
        "plotlyServerURL": "https://plot.ly"
       },
       "data": [
        {
         "marker": {
          "color": "Blue",
          "size": 10
         },
         "mode": "lines+markers",
         "showlegend": false,
         "type": "scatter",
         "x": [
          4
         ],
         "y": [
          1
         ]
        }
       ],
       "frames": [
        {
         "data": [
          {
           "marker": {
            "color": "Blue",
            "size": 10
           },
           "mode": "lines+markers",
           "showlegend": false,
           "type": "scatter",
           "x": [
            4
           ],
           "y": [
            1
           ]
          }
         ],
         "name": "0"
        },
        {
         "data": [
          {
           "marker": {
            "color": "Blue",
            "size": 10
           },
           "mode": "lines+markers",
           "showlegend": false,
           "type": "scatter",
           "x": [
            4,
            3.944
           ],
           "y": [
            1,
            1.998
           ]
          }
         ],
         "name": "1"
        },
        {
         "data": [
          {
           "marker": {
            "color": "Blue",
            "size": 10
           },
           "mode": "lines+markers",
           "showlegend": false,
           "type": "scatter",
           "x": [
            4,
            3.944,
            4.063
           ],
           "y": [
            1,
            1.998,
            2.991
           ]
          }
         ],
         "name": "2"
        },
        {
         "data": [
          {
           "marker": {
            "color": "Blue",
            "size": 10
           },
           "mode": "lines+markers",
           "showlegend": false,
           "type": "scatter",
           "x": [
            4,
            3.944,
            4.063,
            3.7649999999999997
           ],
           "y": [
            1,
            1.998,
            2.991,
            3.946
           ]
          }
         ],
         "name": "3"
        },
        {
         "data": [
          {
           "marker": {
            "color": "Blue",
            "size": 10
           },
           "mode": "lines+markers",
           "showlegend": false,
           "type": "scatter",
           "x": [
            4,
            3.944,
            4.063,
            3.7649999999999997,
            4.360082694165291
           ],
           "y": [
            1,
            1.998,
            2.991,
            3.946,
            4.012853180947254
           ]
          }
         ],
         "name": "4"
        },
        {
         "data": [
          {
           "marker": {
            "color": "Blue",
            "size": 10
           },
           "mode": "lines+markers",
           "showlegend": false,
           "type": "scatter",
           "x": [
            4,
            3.944,
            4.063,
            3.7649999999999997,
            4.360082694165291,
            4.252082694165291
           ],
           "y": [
            1,
            1.998,
            2.991,
            3.946,
            4.012853180947254,
            5.006853180947254
           ]
          }
         ],
         "name": "5"
        },
        {
         "data": [
          {
           "marker": {
            "color": "Blue",
            "size": 10
           },
           "mode": "lines+markers",
           "showlegend": false,
           "type": "scatter",
           "x": [
            4,
            3.944,
            4.063,
            3.7649999999999997,
            4.360082694165291,
            4.252082694165291,
            4.5800826941652915
           ],
           "y": [
            1,
            1.998,
            2.991,
            3.946,
            4.012853180947254,
            5.006853180947254,
            5.951853180947254
           ]
          }
         ],
         "name": "6"
        },
        {
         "data": [
          {
           "marker": {
            "color": "Blue",
            "size": 10
           },
           "mode": "lines+markers",
           "showlegend": false,
           "type": "scatter",
           "x": [
            4,
            3.944,
            4.063,
            3.7649999999999997,
            4.360082694165291,
            4.252082694165291,
            4.5800826941652915,
            4.720082694165291
           ],
           "y": [
            1,
            1.998,
            2.991,
            3.946,
            4.012853180947254,
            5.006853180947254,
            5.951853180947254,
            6.941853180947255
           ]
          }
         ],
         "name": "7"
        },
        {
         "data": [
          {
           "marker": {
            "color": "Blue",
            "size": 10
           },
           "mode": "lines+markers",
           "showlegend": false,
           "type": "scatter",
           "x": [
            4,
            3.944,
            4.063,
            3.7649999999999997,
            4.360082694165291,
            4.252082694165291,
            4.5800826941652915,
            4.720082694165291,
            3.7260826941652914
           ],
           "y": [
            1,
            1.998,
            2.991,
            3.946,
            4.012853180947254,
            5.006853180947254,
            5.951853180947254,
            6.941853180947255,
            7.048853180947255
           ]
          }
         ],
         "name": "8"
        },
        {
         "data": [
          {
           "marker": {
            "color": "Blue",
            "size": 10
           },
           "mode": "lines+markers",
           "showlegend": false,
           "type": "scatter",
           "x": [
            4,
            3.944,
            4.063,
            3.7649999999999997,
            4.360082694165291,
            4.252082694165291,
            4.5800826941652915,
            4.720082694165291,
            3.7260826941652914,
            3.978082694165291
           ],
           "y": [
            1,
            1.998,
            2.991,
            3.946,
            4.012853180947254,
            5.006853180947254,
            5.951853180947254,
            6.941853180947255,
            7.048853180947255,
            8.016853180947255
           ]
          }
         ],
         "name": "9"
        },
        {
         "data": [
          {
           "marker": {
            "color": "Blue",
            "size": 10
           },
           "mode": "lines+markers",
           "showlegend": false,
           "type": "scatter",
           "x": [
            4,
            3.944,
            4.063,
            3.7649999999999997,
            4.360082694165291,
            4.252082694165291,
            4.5800826941652915,
            4.720082694165291,
            3.7260826941652914,
            3.978082694165291,
            4.579709811783166
           ],
           "y": [
            1,
            1.998,
            2.991,
            3.946,
            4.012853180947254,
            5.006853180947254,
            5.951853180947254,
            6.941853180947255,
            7.048853180947255,
            8.016853180947255,
            8.47908760866613
           ]
          }
         ],
         "name": "10"
        },
        {
         "data": [
          {
           "marker": {
            "color": "Blue",
            "size": 10
           },
           "mode": "lines+markers",
           "showlegend": false,
           "type": "scatter",
           "x": [
            4,
            3.944,
            4.063,
            3.7649999999999997,
            4.360082694165291,
            4.252082694165291,
            4.5800826941652915,
            4.720082694165291,
            3.7260826941652914,
            3.978082694165291,
            4.579709811783166,
            5.482709811783167
           ],
           "y": [
            1,
            1.998,
            2.991,
            3.946,
            4.012853180947254,
            5.006853180947254,
            5.951853180947254,
            6.941853180947255,
            7.048853180947255,
            8.016853180947255,
            8.47908760866613,
            8.908087608666131
           ]
          }
         ],
         "name": "11"
        },
        {
         "data": [
          {
           "marker": {
            "color": "Blue",
            "size": 10
           },
           "mode": "lines+markers",
           "showlegend": false,
           "type": "scatter",
           "x": [
            4,
            3.944,
            4.063,
            3.7649999999999997,
            4.360082694165291,
            4.252082694165291,
            4.5800826941652915,
            4.720082694165291,
            3.7260826941652914,
            3.978082694165291,
            4.579709811783166,
            5.482709811783167,
            5.822148046067049
           ],
           "y": [
            1,
            1.998,
            2.991,
            3.946,
            4.012853180947254,
            5.006853180947254,
            5.951853180947254,
            6.941853180947255,
            7.048853180947255,
            8.016853180947255,
            8.47908760866613,
            8.908087608666131,
            8.543182487823682
           ]
          }
         ],
         "name": "12"
        },
        {
         "data": [
          {
           "marker": {
            "color": "Blue",
            "size": 10
           },
           "mode": "lines+markers",
           "showlegend": false,
           "type": "scatter",
           "x": [
            4,
            3.944,
            4.063,
            3.7649999999999997,
            4.360082694165291,
            4.252082694165291,
            4.5800826941652915,
            4.720082694165291,
            3.7260826941652914,
            3.978082694165291,
            4.579709811783166,
            5.482709811783167,
            5.822148046067049,
            6.820148046067049
           ],
           "y": [
            1,
            1.998,
            2.991,
            3.946,
            4.012853180947254,
            5.006853180947254,
            5.951853180947254,
            6.941853180947255,
            7.048853180947255,
            8.016853180947255,
            8.47908760866613,
            8.908087608666131,
            8.543182487823682,
            8.47418248782368
           ]
          }
         ],
         "name": "13"
        },
        {
         "data": [
          {
           "marker": {
            "color": "Blue",
            "size": 10
           },
           "mode": "lines+markers",
           "showlegend": false,
           "type": "scatter",
           "x": [
            4,
            3.944,
            4.063,
            3.7649999999999997,
            4.360082694165291,
            4.252082694165291,
            4.5800826941652915,
            4.720082694165291,
            3.7260826941652914,
            3.978082694165291,
            4.579709811783166,
            5.482709811783167,
            5.822148046067049,
            6.820148046067049,
            7.819148046067049
           ],
           "y": [
            1,
            1.998,
            2.991,
            3.946,
            4.012853180947254,
            5.006853180947254,
            5.951853180947254,
            6.941853180947255,
            7.048853180947255,
            8.016853180947255,
            8.47908760866613,
            8.908087608666131,
            8.543182487823682,
            8.47418248782368,
            8.43318248782368
           ]
          }
         ],
         "name": "14"
        },
        {
         "data": [
          {
           "marker": {
            "color": "Blue",
            "size": 10
           },
           "mode": "lines+markers",
           "showlegend": false,
           "type": "scatter",
           "x": [
            4,
            3.944,
            4.063,
            3.7649999999999997,
            4.360082694165291,
            4.252082694165291,
            4.5800826941652915,
            4.720082694165291,
            3.7260826941652914,
            3.978082694165291,
            4.579709811783166,
            5.482709811783167,
            5.822148046067049,
            6.820148046067049,
            7.819148046067049,
            8.724148046067048
           ],
           "y": [
            1,
            1.998,
            2.991,
            3.946,
            4.012853180947254,
            5.006853180947254,
            5.951853180947254,
            6.941853180947255,
            7.048853180947255,
            8.016853180947255,
            8.47908760866613,
            8.908087608666131,
            8.543182487823682,
            8.47418248782368,
            8.43318248782368,
            8.00818248782368
           ]
          }
         ],
         "name": "15"
        },
        {
         "data": [
          {
           "marker": {
            "color": "Blue",
            "size": 10
           },
           "mode": "lines+markers",
           "showlegend": false,
           "type": "scatter",
           "x": [
            4,
            3.944,
            4.063,
            3.7649999999999997,
            4.360082694165291,
            4.252082694165291,
            4.5800826941652915,
            4.720082694165291,
            3.7260826941652914,
            3.978082694165291,
            4.579709811783166,
            5.482709811783167,
            5.822148046067049,
            6.820148046067049,
            7.819148046067049,
            8.724148046067048,
            9.716148046067048
           ],
           "y": [
            1,
            1.998,
            2.991,
            3.946,
            4.012853180947254,
            5.006853180947254,
            5.951853180947254,
            6.941853180947255,
            7.048853180947255,
            8.016853180947255,
            8.47908760866613,
            8.908087608666131,
            8.543182487823682,
            8.47418248782368,
            8.43318248782368,
            8.00818248782368,
            8.13518248782368
           ]
          }
         ],
         "name": "16"
        },
        {
         "data": [
          {
           "marker": {
            "color": "Blue",
            "size": 10
           },
           "mode": "lines+markers",
           "showlegend": false,
           "type": "scatter",
           "x": [
            4,
            3.944,
            4.063,
            3.7649999999999997,
            4.360082694165291,
            4.252082694165291,
            4.5800826941652915,
            4.720082694165291,
            3.7260826941652914,
            3.978082694165291,
            4.579709811783166,
            5.482709811783167,
            5.822148046067049,
            6.820148046067049,
            7.819148046067049,
            8.724148046067048,
            9.716148046067048,
            10.716148046067048
           ],
           "y": [
            1,
            1.998,
            2.991,
            3.946,
            4.012853180947254,
            5.006853180947254,
            5.951853180947254,
            6.941853180947255,
            7.048853180947255,
            8.016853180947255,
            8.47908760866613,
            8.908087608666131,
            8.543182487823682,
            8.47418248782368,
            8.43318248782368,
            8.00818248782368,
            8.13518248782368,
            8.13218248782368
           ]
          }
         ],
         "name": "17"
        },
        {
         "data": [
          {
           "marker": {
            "color": "Blue",
            "size": 10
           },
           "mode": "lines+markers",
           "showlegend": false,
           "type": "scatter",
           "x": [
            4,
            3.944,
            4.063,
            3.7649999999999997,
            4.360082694165291,
            4.252082694165291,
            4.5800826941652915,
            4.720082694165291,
            3.7260826941652914,
            3.978082694165291,
            4.579709811783166,
            5.482709811783167,
            5.822148046067049,
            6.820148046067049,
            7.819148046067049,
            8.724148046067048,
            9.716148046067048,
            10.716148046067048,
            11.355148046067047
           ],
           "y": [
            1,
            1.998,
            2.991,
            3.946,
            4.012853180947254,
            5.006853180947254,
            5.951853180947254,
            6.941853180947255,
            7.048853180947255,
            8.016853180947255,
            8.47908760866613,
            8.908087608666131,
            8.543182487823682,
            8.47418248782368,
            8.43318248782368,
            8.00818248782368,
            8.13518248782368,
            8.13218248782368,
            7.36318248782368
           ]
          }
         ],
         "name": "18"
        },
        {
         "data": [
          {
           "marker": {
            "color": "Blue",
            "size": 10
           },
           "mode": "lines+markers",
           "showlegend": false,
           "type": "scatter",
           "x": [
            4,
            3.944,
            4.063,
            3.7649999999999997,
            4.360082694165291,
            4.252082694165291,
            4.5800826941652915,
            4.720082694165291,
            3.7260826941652914,
            3.978082694165291,
            4.579709811783166,
            5.482709811783167,
            5.822148046067049,
            6.820148046067049,
            7.819148046067049,
            8.724148046067048,
            9.716148046067048,
            10.716148046067048,
            11.355148046067047,
            12.125148046067046
           ],
           "y": [
            1,
            1.998,
            2.991,
            3.946,
            4.012853180947254,
            5.006853180947254,
            5.951853180947254,
            6.941853180947255,
            7.048853180947255,
            8.016853180947255,
            8.47908760866613,
            8.908087608666131,
            8.543182487823682,
            8.47418248782368,
            8.43318248782368,
            8.00818248782368,
            8.13518248782368,
            8.13218248782368,
            7.36318248782368,
            6.72518248782368
           ]
          }
         ],
         "name": "19"
        }
       ],
       "layout": {
        "dragmode": "pan",
        "font": {
         "color": "rgba(230, 230, 230, 255)",
         "family": "Courier New, monospace"
        },
        "hovermode": false,
        "margin": {
         "b": 30,
         "l": 30,
         "r": 30,
         "t": 30
        },
        "paper_bgcolor": "rgba(50, 50, 60, 255)",
        "plot_bgcolor": "rgba(50, 50, 60, 255)",
        "shapes": [
         {
          "fillcolor": "rgba(255, 255, 255, 255)",
          "layer": "below",
          "line": {
           "width": 0
          },
          "type": "rect",
          "x0": 0,
          "x1": 16,
          "y0": -0.5,
          "y1": 0
         },
         {
          "fillcolor": "rgba(255, 255, 255, 255)",
          "layer": "below",
          "line": {
           "width": 0
          },
          "type": "rect",
          "x0": 0,
          "x1": 16,
          "y0": 9,
          "y1": 9.5
         },
         {
          "fillcolor": "rgba(255, 255, 255, 255)",
          "layer": "below",
          "line": {
           "width": 0
          },
          "type": "rect",
          "x0": -0.5,
          "x1": 0,
          "y0": -0.5,
          "y1": 9.5
         },
         {
          "fillcolor": "rgba(255, 255, 255, 255)",
          "layer": "below",
          "line": {
           "width": 0
          },
          "type": "rect",
          "x0": 16,
          "x1": 16.5,
          "y0": -0.5,
          "y1": 9.5
         },
         {
          "fillcolor": "rgba(150, 150, 150, 255)",
          "layer": "below",
          "line": {
           "width": 0
          },
          "type": "rect",
          "x0": 0,
          "x1": 3,
          "y0": 4.25,
          "y1": 4.75
         },
         {
          "fillcolor": "rgba(150, 150, 150, 255)",
          "layer": "below",
          "line": {
           "width": 0
          },
          "type": "rect",
          "x0": 5,
          "x1": 11,
          "y0": 4.25,
          "y1": 4.75
         },
         {
          "fillcolor": "rgba(150, 150, 150, 255)",
          "layer": "below",
          "line": {
           "width": 0
          },
          "type": "rect",
          "x0": 13,
          "x1": 16,
          "y0": 4.25,
          "y1": 4.75
         },
         {
          "fillcolor": "rgba(150, 150, 150, 255)",
          "layer": "below",
          "line": {
           "width": 0
          },
          "type": "rect",
          "x0": 7.75,
          "x1": 8.25,
          "y0": 1.75,
          "y1": 7.25
         },
         {
          "fillcolor": "rgba(150, 150, 150, 255)",
          "layer": "below",
          "line": {
           "width": 0
          },
          "type": "rect",
          "x0": 0,
          "x1": 3,
          "y0": 0,
          "y1": 1.75
         },
         {
          "fillcolor": "rgba(150, 150, 150, 255)",
          "layer": "below",
          "line": {
           "width": 0
          },
          "type": "rect",
          "x0": 13,
          "x1": 16,
          "y0": 0,
          "y1": 1.75
         },
         {
          "fillcolor": "rgba(150, 150, 150, 255)",
          "layer": "below",
          "line": {
           "width": 0
          },
          "type": "rect",
          "x0": 0,
          "x1": 3,
          "y0": 7.25,
          "y1": 9
         },
         {
          "fillcolor": "rgba(150, 150, 150, 255)",
          "layer": "below",
          "line": {
           "width": 0
          },
          "type": "rect",
          "x0": 13,
          "x1": 16,
          "y0": 7.25,
          "y1": 9
         },
         {
          "fillcolor": "rgba(150, 150, 150, 255)",
          "layer": "below",
          "line": {
           "width": 0
          },
          "type": "rect",
          "x0": 5,
          "x1": 11,
          "y0": 7.25,
          "y1": 7.75
         },
         {
          "fillcolor": "rgba(150, 150, 150, 255)",
          "layer": "below",
          "line": {
           "width": 0
          },
          "type": "rect",
          "x0": 5,
          "x1": 11,
          "y0": 1.25,
          "y1": 1.75
         }
        ],
        "sliders": [
         {
          "active": 0,
          "currentvalue": {
           "font": {
            "color": "rgb(230, 230, 230)",
            "family": "Courier New, monospace"
           },
           "prefix": "Step ",
           "visible": true,
           "xanchor": "right"
          },
          "font": {
           "color": "rgb(230, 230, 230)",
           "family": "Courier New, monospace"
          },
          "len": 0.95,
          "pad": {
           "b": 10,
           "t": 0
          },
          "steps": [
           {
            "args": [
             [
              "0"
             ],
             {
              "frame": {
               "duration": 300
              },
              "mode": "immediate"
             }
            ],
            "label": "0",
            "method": "animate"
           },
           {
            "args": [
             [
              "1"
             ],
             {
              "frame": {
               "duration": 300
              },
              "mode": "immediate"
             }
            ],
            "label": "1",
            "method": "animate"
           },
           {
            "args": [
             [
              "2"
             ],
             {
              "frame": {
               "duration": 300
              },
              "mode": "immediate"
             }
            ],
            "label": "2",
            "method": "animate"
           },
           {
            "args": [
             [
              "3"
             ],
             {
              "frame": {
               "duration": 300
              },
              "mode": "immediate"
             }
            ],
            "label": "3",
            "method": "animate"
           },
           {
            "args": [
             [
              "4"
             ],
             {
              "frame": {
               "duration": 300
              },
              "mode": "immediate"
             }
            ],
            "label": "4",
            "method": "animate"
           },
           {
            "args": [
             [
              "5"
             ],
             {
              "frame": {
               "duration": 300
              },
              "mode": "immediate"
             }
            ],
            "label": "5",
            "method": "animate"
           },
           {
            "args": [
             [
              "6"
             ],
             {
              "frame": {
               "duration": 300
              },
              "mode": "immediate"
             }
            ],
            "label": "6",
            "method": "animate"
           },
           {
            "args": [
             [
              "7"
             ],
             {
              "frame": {
               "duration": 300
              },
              "mode": "immediate"
             }
            ],
            "label": "7",
            "method": "animate"
           },
           {
            "args": [
             [
              "8"
             ],
             {
              "frame": {
               "duration": 300
              },
              "mode": "immediate"
             }
            ],
            "label": "8",
            "method": "animate"
           },
           {
            "args": [
             [
              "9"
             ],
             {
              "frame": {
               "duration": 300
              },
              "mode": "immediate"
             }
            ],
            "label": "9",
            "method": "animate"
           },
           {
            "args": [
             [
              "10"
             ],
             {
              "frame": {
               "duration": 300
              },
              "mode": "immediate"
             }
            ],
            "label": "10",
            "method": "animate"
           },
           {
            "args": [
             [
              "11"
             ],
             {
              "frame": {
               "duration": 300
              },
              "mode": "immediate"
             }
            ],
            "label": "11",
            "method": "animate"
           },
           {
            "args": [
             [
              "12"
             ],
             {
              "frame": {
               "duration": 300
              },
              "mode": "immediate"
             }
            ],
            "label": "12",
            "method": "animate"
           },
           {
            "args": [
             [
              "13"
             ],
             {
              "frame": {
               "duration": 300
              },
              "mode": "immediate"
             }
            ],
            "label": "13",
            "method": "animate"
           },
           {
            "args": [
             [
              "14"
             ],
             {
              "frame": {
               "duration": 300
              },
              "mode": "immediate"
             }
            ],
            "label": "14",
            "method": "animate"
           },
           {
            "args": [
             [
              "15"
             ],
             {
              "frame": {
               "duration": 300
              },
              "mode": "immediate"
             }
            ],
            "label": "15",
            "method": "animate"
           },
           {
            "args": [
             [
              "16"
             ],
             {
              "frame": {
               "duration": 300
              },
              "mode": "immediate"
             }
            ],
            "label": "16",
            "method": "animate"
           },
           {
            "args": [
             [
              "17"
             ],
             {
              "frame": {
               "duration": 300
              },
              "mode": "immediate"
             }
            ],
            "label": "17",
            "method": "animate"
           },
           {
            "args": [
             [
              "18"
             ],
             {
              "frame": {
               "duration": 300
              },
              "mode": "immediate"
             }
            ],
            "label": "18",
            "method": "animate"
           },
           {
            "args": [
             [
              "19"
             ],
             {
              "frame": {
               "duration": 300
              },
              "mode": "immediate"
             }
            ],
            "label": "19",
            "method": "animate"
           }
          ],
          "x": 0.05,
          "xanchor": "left",
          "y": 0,
          "yanchor": "top"
         }
        ],
        "template": {
         "data": {
          "bar": [
           {
            "error_x": {
             "color": "#2a3f5f"
            },
            "error_y": {
             "color": "#2a3f5f"
            },
            "marker": {
             "line": {
              "color": "#E5ECF6",
              "width": 0.5
             },
             "pattern": {
              "fillmode": "overlay",
              "size": 10,
              "solidity": 0.2
             }
            },
            "type": "bar"
           }
          ],
          "barpolar": [
           {
            "marker": {
             "line": {
              "color": "#E5ECF6",
              "width": 0.5
             },
             "pattern": {
              "fillmode": "overlay",
              "size": 10,
              "solidity": 0.2
             }
            },
            "type": "barpolar"
           }
          ],
          "carpet": [
           {
            "aaxis": {
             "endlinecolor": "#2a3f5f",
             "gridcolor": "white",
             "linecolor": "white",
             "minorgridcolor": "white",
             "startlinecolor": "#2a3f5f"
            },
            "baxis": {
             "endlinecolor": "#2a3f5f",
             "gridcolor": "white",
             "linecolor": "white",
             "minorgridcolor": "white",
             "startlinecolor": "#2a3f5f"
            },
            "type": "carpet"
           }
          ],
          "choropleth": [
           {
            "colorbar": {
             "outlinewidth": 0,
             "ticks": ""
            },
            "type": "choropleth"
           }
          ],
          "contour": [
           {
            "colorbar": {
             "outlinewidth": 0,
             "ticks": ""
            },
            "colorscale": [
             [
              0,
              "#0d0887"
             ],
             [
              0.1111111111111111,
              "#46039f"
             ],
             [
              0.2222222222222222,
              "#7201a8"
             ],
             [
              0.3333333333333333,
              "#9c179e"
             ],
             [
              0.4444444444444444,
              "#bd3786"
             ],
             [
              0.5555555555555556,
              "#d8576b"
             ],
             [
              0.6666666666666666,
              "#ed7953"
             ],
             [
              0.7777777777777778,
              "#fb9f3a"
             ],
             [
              0.8888888888888888,
              "#fdca26"
             ],
             [
              1,
              "#f0f921"
             ]
            ],
            "type": "contour"
           }
          ],
          "contourcarpet": [
           {
            "colorbar": {
             "outlinewidth": 0,
             "ticks": ""
            },
            "type": "contourcarpet"
           }
          ],
          "heatmap": [
           {
            "colorbar": {
             "outlinewidth": 0,
             "ticks": ""
            },
            "colorscale": [
             [
              0,
              "#0d0887"
             ],
             [
              0.1111111111111111,
              "#46039f"
             ],
             [
              0.2222222222222222,
              "#7201a8"
             ],
             [
              0.3333333333333333,
              "#9c179e"
             ],
             [
              0.4444444444444444,
              "#bd3786"
             ],
             [
              0.5555555555555556,
              "#d8576b"
             ],
             [
              0.6666666666666666,
              "#ed7953"
             ],
             [
              0.7777777777777778,
              "#fb9f3a"
             ],
             [
              0.8888888888888888,
              "#fdca26"
             ],
             [
              1,
              "#f0f921"
             ]
            ],
            "type": "heatmap"
           }
          ],
          "heatmapgl": [
           {
            "colorbar": {
             "outlinewidth": 0,
             "ticks": ""
            },
            "colorscale": [
             [
              0,
              "#0d0887"
             ],
             [
              0.1111111111111111,
              "#46039f"
             ],
             [
              0.2222222222222222,
              "#7201a8"
             ],
             [
              0.3333333333333333,
              "#9c179e"
             ],
             [
              0.4444444444444444,
              "#bd3786"
             ],
             [
              0.5555555555555556,
              "#d8576b"
             ],
             [
              0.6666666666666666,
              "#ed7953"
             ],
             [
              0.7777777777777778,
              "#fb9f3a"
             ],
             [
              0.8888888888888888,
              "#fdca26"
             ],
             [
              1,
              "#f0f921"
             ]
            ],
            "type": "heatmapgl"
           }
          ],
          "histogram": [
           {
            "marker": {
             "pattern": {
              "fillmode": "overlay",
              "size": 10,
              "solidity": 0.2
             }
            },
            "type": "histogram"
           }
          ],
          "histogram2d": [
           {
            "colorbar": {
             "outlinewidth": 0,
             "ticks": ""
            },
            "colorscale": [
             [
              0,
              "#0d0887"
             ],
             [
              0.1111111111111111,
              "#46039f"
             ],
             [
              0.2222222222222222,
              "#7201a8"
             ],
             [
              0.3333333333333333,
              "#9c179e"
             ],
             [
              0.4444444444444444,
              "#bd3786"
             ],
             [
              0.5555555555555556,
              "#d8576b"
             ],
             [
              0.6666666666666666,
              "#ed7953"
             ],
             [
              0.7777777777777778,
              "#fb9f3a"
             ],
             [
              0.8888888888888888,
              "#fdca26"
             ],
             [
              1,
              "#f0f921"
             ]
            ],
            "type": "histogram2d"
           }
          ],
          "histogram2dcontour": [
           {
            "colorbar": {
             "outlinewidth": 0,
             "ticks": ""
            },
            "colorscale": [
             [
              0,
              "#0d0887"
             ],
             [
              0.1111111111111111,
              "#46039f"
             ],
             [
              0.2222222222222222,
              "#7201a8"
             ],
             [
              0.3333333333333333,
              "#9c179e"
             ],
             [
              0.4444444444444444,
              "#bd3786"
             ],
             [
              0.5555555555555556,
              "#d8576b"
             ],
             [
              0.6666666666666666,
              "#ed7953"
             ],
             [
              0.7777777777777778,
              "#fb9f3a"
             ],
             [
              0.8888888888888888,
              "#fdca26"
             ],
             [
              1,
              "#f0f921"
             ]
            ],
            "type": "histogram2dcontour"
           }
          ],
          "mesh3d": [
           {
            "colorbar": {
             "outlinewidth": 0,
             "ticks": ""
            },
            "type": "mesh3d"
           }
          ],
          "parcoords": [
           {
            "line": {
             "colorbar": {
              "outlinewidth": 0,
              "ticks": ""
             }
            },
            "type": "parcoords"
           }
          ],
          "pie": [
           {
            "automargin": true,
            "type": "pie"
           }
          ],
          "scatter": [
           {
            "fillpattern": {
             "fillmode": "overlay",
             "size": 10,
             "solidity": 0.2
            },
            "type": "scatter"
           }
          ],
          "scatter3d": [
           {
            "line": {
             "colorbar": {
              "outlinewidth": 0,
              "ticks": ""
             }
            },
            "marker": {
             "colorbar": {
              "outlinewidth": 0,
              "ticks": ""
             }
            },
            "type": "scatter3d"
           }
          ],
          "scattercarpet": [
           {
            "marker": {
             "colorbar": {
              "outlinewidth": 0,
              "ticks": ""
             }
            },
            "type": "scattercarpet"
           }
          ],
          "scattergeo": [
           {
            "marker": {
             "colorbar": {
              "outlinewidth": 0,
              "ticks": ""
             }
            },
            "type": "scattergeo"
           }
          ],
          "scattergl": [
           {
            "marker": {
             "colorbar": {
              "outlinewidth": 0,
              "ticks": ""
             }
            },
            "type": "scattergl"
           }
          ],
          "scattermapbox": [
           {
            "marker": {
             "colorbar": {
              "outlinewidth": 0,
              "ticks": ""
             }
            },
            "type": "scattermapbox"
           }
          ],
          "scatterpolar": [
           {
            "marker": {
             "colorbar": {
              "outlinewidth": 0,
              "ticks": ""
             }
            },
            "type": "scatterpolar"
           }
          ],
          "scatterpolargl": [
           {
            "marker": {
             "colorbar": {
              "outlinewidth": 0,
              "ticks": ""
             }
            },
            "type": "scatterpolargl"
           }
          ],
          "scatterternary": [
           {
            "marker": {
             "colorbar": {
              "outlinewidth": 0,
              "ticks": ""
             }
            },
            "type": "scatterternary"
           }
          ],
          "surface": [
           {
            "colorbar": {
             "outlinewidth": 0,
             "ticks": ""
            },
            "colorscale": [
             [
              0,
              "#0d0887"
             ],
             [
              0.1111111111111111,
              "#46039f"
             ],
             [
              0.2222222222222222,
              "#7201a8"
             ],
             [
              0.3333333333333333,
              "#9c179e"
             ],
             [
              0.4444444444444444,
              "#bd3786"
             ],
             [
              0.5555555555555556,
              "#d8576b"
             ],
             [
              0.6666666666666666,
              "#ed7953"
             ],
             [
              0.7777777777777778,
              "#fb9f3a"
             ],
             [
              0.8888888888888888,
              "#fdca26"
             ],
             [
              1,
              "#f0f921"
             ]
            ],
            "type": "surface"
           }
          ],
          "table": [
           {
            "cells": {
             "fill": {
              "color": "#EBF0F8"
             },
             "line": {
              "color": "white"
             }
            },
            "header": {
             "fill": {
              "color": "#C8D4E3"
             },
             "line": {
              "color": "white"
             }
            },
            "type": "table"
           }
          ]
         },
         "layout": {
          "annotationdefaults": {
           "arrowcolor": "#2a3f5f",
           "arrowhead": 0,
           "arrowwidth": 1
          },
          "autotypenumbers": "strict",
          "coloraxis": {
           "colorbar": {
            "outlinewidth": 0,
            "ticks": ""
           }
          },
          "colorscale": {
           "diverging": [
            [
             0,
             "#8e0152"
            ],
            [
             0.1,
             "#c51b7d"
            ],
            [
             0.2,
             "#de77ae"
            ],
            [
             0.3,
             "#f1b6da"
            ],
            [
             0.4,
             "#fde0ef"
            ],
            [
             0.5,
             "#f7f7f7"
            ],
            [
             0.6,
             "#e6f5d0"
            ],
            [
             0.7,
             "#b8e186"
            ],
            [
             0.8,
             "#7fbc41"
            ],
            [
             0.9,
             "#4d9221"
            ],
            [
             1,
             "#276419"
            ]
           ],
           "sequential": [
            [
             0,
             "#0d0887"
            ],
            [
             0.1111111111111111,
             "#46039f"
            ],
            [
             0.2222222222222222,
             "#7201a8"
            ],
            [
             0.3333333333333333,
             "#9c179e"
            ],
            [
             0.4444444444444444,
             "#bd3786"
            ],
            [
             0.5555555555555556,
             "#d8576b"
            ],
            [
             0.6666666666666666,
             "#ed7953"
            ],
            [
             0.7777777777777778,
             "#fb9f3a"
            ],
            [
             0.8888888888888888,
             "#fdca26"
            ],
            [
             1,
             "#f0f921"
            ]
           ],
           "sequentialminus": [
            [
             0,
             "#0d0887"
            ],
            [
             0.1111111111111111,
             "#46039f"
            ],
            [
             0.2222222222222222,
             "#7201a8"
            ],
            [
             0.3333333333333333,
             "#9c179e"
            ],
            [
             0.4444444444444444,
             "#bd3786"
            ],
            [
             0.5555555555555556,
             "#d8576b"
            ],
            [
             0.6666666666666666,
             "#ed7953"
            ],
            [
             0.7777777777777778,
             "#fb9f3a"
            ],
            [
             0.8888888888888888,
             "#fdca26"
            ],
            [
             1,
             "#f0f921"
            ]
           ]
          },
          "colorway": [
           "#636efa",
           "#EF553B",
           "#00cc96",
           "#ab63fa",
           "#FFA15A",
           "#19d3f3",
           "#FF6692",
           "#B6E880",
           "#FF97FF",
           "#FECB52"
          ],
          "font": {
           "color": "#2a3f5f"
          },
          "geo": {
           "bgcolor": "white",
           "lakecolor": "white",
           "landcolor": "#E5ECF6",
           "showlakes": true,
           "showland": true,
           "subunitcolor": "white"
          },
          "hoverlabel": {
           "align": "left"
          },
          "hovermode": "closest",
          "mapbox": {
           "style": "light"
          },
          "paper_bgcolor": "white",
          "plot_bgcolor": "#E5ECF6",
          "polar": {
           "angularaxis": {
            "gridcolor": "white",
            "linecolor": "white",
            "ticks": ""
           },
           "bgcolor": "#E5ECF6",
           "radialaxis": {
            "gridcolor": "white",
            "linecolor": "white",
            "ticks": ""
           }
          },
          "scene": {
           "xaxis": {
            "backgroundcolor": "#E5ECF6",
            "gridcolor": "white",
            "gridwidth": 2,
            "linecolor": "white",
            "showbackground": true,
            "ticks": "",
            "zerolinecolor": "white"
           },
           "yaxis": {
            "backgroundcolor": "#E5ECF6",
            "gridcolor": "white",
            "gridwidth": 2,
            "linecolor": "white",
            "showbackground": true,
            "ticks": "",
            "zerolinecolor": "white"
           },
           "zaxis": {
            "backgroundcolor": "#E5ECF6",
            "gridcolor": "white",
            "gridwidth": 2,
            "linecolor": "white",
            "showbackground": true,
            "ticks": "",
            "zerolinecolor": "white"
           }
          },
          "shapedefaults": {
           "line": {
            "color": "#2a3f5f"
           }
          },
          "ternary": {
           "aaxis": {
            "gridcolor": "white",
            "linecolor": "white",
            "ticks": ""
           },
           "baxis": {
            "gridcolor": "white",
            "linecolor": "white",
            "ticks": ""
           },
           "bgcolor": "#E5ECF6",
           "caxis": {
            "gridcolor": "white",
            "linecolor": "white",
            "ticks": ""
           }
          },
          "title": {
           "x": 0.05
          },
          "xaxis": {
           "automargin": true,
           "gridcolor": "white",
           "linecolor": "white",
           "ticks": "",
           "title": {
            "standoff": 15
           },
           "zerolinecolor": "white",
           "zerolinewidth": 2
          },
          "yaxis": {
           "automargin": true,
           "gridcolor": "white",
           "linecolor": "white",
           "ticks": "",
           "title": {
            "standoff": 15
           },
           "zerolinecolor": "white",
           "zerolinewidth": 2
          }
         }
        },
        "updatemenus": [
         {
          "buttons": [
           {
            "args": [
             null,
             {
              "frame": {
               "duration": 300
              },
              "fromcurrent": true
             }
            ],
            "label": "Play",
            "method": "animate"
           }
          ],
          "direction": "left",
          "font": {
           "color": "rgb(230, 230, 230)",
           "family": "Courier New, monospace"
          },
          "pad": {
           "r": 10,
           "t": 30
          },
          "showactive": false,
          "type": "buttons",
          "x": 0.05,
          "xanchor": "right",
          "y": 0,
          "yanchor": "top"
         }
        ],
        "xaxis": {
         "dtick": 1,
         "gridcolor": "rgba(175, 175, 175, 255)",
         "range": [
          -1,
          17
         ],
         "showgrid": true,
         "showticklabels": true,
         "zeroline": false
        },
        "yaxis": {
         "dtick": 1,
         "gridcolor": "rgba(175, 175, 175, 255)",
         "range": [
          -1,
          10
         ],
         "scaleanchor": "x",
         "scaleratio": 1,
         "showgrid": true,
         "showticklabels": true,
         "zeroline": false
        }
       }
      }
     },
     "metadata": {},
     "output_type": "display_data"
    }
   ],
   "source": [
    "visualize_path(env,path)\n"
   ]
  },
  {
   "cell_type": "code",
   "execution_count": 15,
   "metadata": {
    "id": "EZMgFPC1KJhR"
   },
   "outputs": [],
   "source": [
    "# def smoothPath(path, env, iters=10):\n",
    "#     return path"
   ]
  },
  {
   "cell_type": "code",
   "execution_count": 16,
   "metadata": {
    "id": "SJ_Gr8NTZdRP"
   },
   "outputs": [],
   "source": [
    "def ddr_ik(v_x, omega, L=0.5, r=0.1):\n",
    "    return (v_x - (L/2)*omega)/r, (v_x + (L/2)*omega)/r\n",
    "\n",
    "\n",
    "def rotate(init_pose, point, omega=2):\n",
    "\n",
    "    angle = np.arctan2(point[1]- init_pose.y(), point[0]- init_pose.x())\n",
    "    if angle < 0:\n",
    "        angle +=  2*np.pi\n",
    "    v_L, v_R = ddr_ik(0, omega)\n",
    "    t = abs(angle /omega)\n",
    "\n",
    "    return v_L,v_R, t\n",
    "\n",
    "  \n",
    "def rotateRobot(init_pose, v_L, v_R, t, L=0.5, r=0.1):\n",
    "    init_theta = init_pose.theta()\n",
    "    angle_turned = 0\n",
    "    poses = []\n",
    "    N = 1\n",
    "    for _ in range(N):\n",
    "        angle_turned += (v_R-v_L)*t*r/(L*N) % (2*math.pi)\n",
    "        poses.append(gtsam.Pose2(init_pose.x(),init_pose.y(), angle_turned))\n",
    "\n",
    "    return poses\n",
    "\n",
    "def forward(init_pose, point, V=1):\n",
    "    distance = np.linalg.norm([point[0]- init_pose.x(), point[1]- init_pose.y()])\n",
    "    v_L,v_R = ddr_ik(V, 0)\n",
    "    translation = np.array([init_pose.x()-point[0], init_pose.y()-point[1]])\n",
    "    t = distance / V\n",
    "    return v_L, v_R, t\n",
    "\n",
    "\n",
    "def forwardRobot(init_pose, v_L, v_R, t, L=0.5, r=0.1):\n",
    "    '''\n",
    "    Generates intermediate robot poses based on wheel velocities, useful for visualization\n",
    "    \n",
    "    v_L (float): Left wheel velocity\n",
    "    v_R (float): Right wheel velocity\n",
    "    t (float): time duration for which the robot should use these velocities\n",
    "    L (float): Distance between robot wheels\n",
    "    r (float): Wheel radius of robot\n",
    "    '''\n",
    "    x = init_pose.x()\n",
    "    y = init_pose.y()\n",
    "    poses = []\n",
    "    N = 5\n",
    "\n",
    "    for i in range(N):\n",
    "        x += v_L*math.cos(init_pose.theta())*t*r/N\n",
    "        y += v_L*math.sin(init_pose.theta())*t*r/N\n",
    "\n",
    "        poses.append(gtsam.Pose2(x,y,init_pose.theta()))\n",
    "\n",
    "    return poses\n",
    "    \n",
    "\n",
    "def moveRobot(init_pose: gtsam.Pose2, path):\n",
    "    '''\n",
    "    move robot along given path\n",
    "    init_pose (gtsam.Pose2): Starting pose (x,y,theta) of the robot\n",
    "    path: path found from RRT\n",
    "\n",
    "    return: list of poses along the given path\n",
    "    '''\n",
    "    poses = [init_pose]\n",
    "    \n",
    "    for i in range(1, len(path)):\n",
    "        curr_pose = poses[-1]\n",
    "        next_x, next_y = path[i].point\n",
    "        v_L, v_R, t = rotate(curr_pose, [next_x, next_y])\n",
    "        poses += rotateRobot(curr_pose, v_L, v_R, t)\n",
    "        v_L,v_R, t = forward(poses[-1], [next_x, next_y])\n",
    "        poses+= forwardRobot(poses[-1], v_L,v_R, t)\n",
    "\n",
    "    return poses\n",
    "       "
   ]
  },
  {
   "cell_type": "code",
   "execution_count": 17,
   "metadata": {},
   "outputs": [
    {
     "name": "stdout",
     "output_type": "stream",
     "text": [
      "115\n"
     ]
    }
   ],
   "source": [
    "poses=moveRobot(gtsam.Pose2(4, 1, np.pi/2), path)\n",
    "# print(poses[0])\n",
    "data =[]\n",
    "for i in range(0,len(poses)):\n",
    "    data.append((poses[i].x(),poses[i].y(),poses[i].theta()))\n",
    "\n",
    "\n",
    "print(len(data))\n",
    "\n",
    "with open('data.json', 'w') as outfile:\n",
    "    json.dump(data, outfile)\n"
   ]
  },
  {
   "cell_type": "markdown",
   "metadata": {
    "id": "iRd203wTYOiK"
   },
   "source": [
    "Test robot to move to a designated goal position. "
   ]
  },
  {
   "cell_type": "code",
   "execution_count": 18,
   "metadata": {},
   "outputs": [],
   "source": [
    "# def move_robot(robot, length):\n",
    "#     amt_loops = (length* 254) // 200\n",
    "#     for i in range(0, amt_loops):\n",
    "#         robot.behavior.drive_straight(distance_mm(200), speed_mmps(100))\n",
    "#     robot.behavior.drive_straight(distance_mm((length* 254) % 200), speed_mmps(100))\n",
    "    \n",
    "    \n",
    "    "
   ]
  },
  {
   "cell_type": "code",
   "execution_count": 19,
   "metadata": {},
   "outputs": [],
   "source": [
    "\n",
    "# saved_pos = dict([(0, [7.75,3]), (1, [0,6]), (2, [7.75,6]), (3, [4,9]), \n",
    "#                 (4, [12,9]), (5, [8.25,6]), (6, [16,6]), (7, [8.25,3]), \n",
    "#                 (8, [16,3]), (9, [4,1])])\n",
    "# poses=moveRobot(gtsam.Pose2(4, 1, np.pi/2), path)\n",
    "# # starting_pose = gtsam.Pose2(4, 1, np.pi/2)\n",
    "# goal_node = np.array([0,3])\n",
    "\n",
    "# args = anki_vector.util.parse_command_args()\n",
    "# with anki_vector.Robot(args.serial) as robot:\n",
    "#     # curr_pose = starting_pose\n",
    "#     for i in range(0,len(poses)-1):\n",
    "        \n",
    "#         robot.behavior.turn_in_place((poses[i][2]))\n",
    "#         move_robot(robot, abs(dist(Node(np.array([poses[i][0],poses[i][1]])) ,Node(np.array([poses[i+1][0],poses[i+1][1]])) )))\n",
    "\n",
    "        "
   ]
  },
  {
   "cell_type": "code",
   "execution_count": 20,
   "metadata": {},
   "outputs": [],
   "source": [
    "# args = anki_vector.util.parse_command_args()\n",
    "# with anki_vector.Robot(args.serial) as robot:\n",
    "#     robot.behavior.say_text(\"hello\")"
   ]
  },
  {
   "cell_type": "code",
   "execution_count": 21,
   "metadata": {},
   "outputs": [],
   "source": [
    "# ### Comment for autograder - do not delete!\n",
    "# '''\n",
    "# Code to run RRT multiple times based on the coordinates obtained from the detected images. \n",
    "\n",
    "# Given\n",
    "# -----\n",
    "# saved_pos: (dict) Contains image labels as keys and the coordinates of the next image position as values.\n",
    "# starting_pose: (gtsam.Pose2) Robot initial pose in coordinate [4,1]\n",
    "# goal_node: (np.array) coordinate of the initial goal position of image 0.\n",
    "\n",
    "# TODO\n",
    "# ----\n",
    "# 1. Navigate to the goal position using RRT\n",
    "# 2. When the robot is close enough to the image, (i.e. final node in the found path) \n",
    "# sample the image and use the image classifier to get the predicted label. \n",
    "# 3. Get the new goal position from saved_pos using the predicted label. \n",
    "# 4. Repeat 1-3 until the robot moves though all images. \n",
    "# '''\n",
    "# # Dictionary of image labels as keys and the next image coordinates as values\n",
    "# saved_pos = dict([(0, [7.75,3]), (1, [0,6]), (2, [7.75,6]), (3, [4,9]), \n",
    "#                   (4, [12,9]), (5, [8.25,6]), (6, [16,6]), (7, [8.25,3]), \n",
    "#                   (8, [16,3]), (9, [4,1])])\n",
    "\n",
    "# # saved_pos = dict([(0, [7.75,3]), (1, [0,6])])\n",
    "\n",
    "# starting_pose = gtsam.Pose2(4, 1, np.pi/2)\n",
    "# goal_node = np.array([0,3])\n",
    "# # TODO 14\n",
    "# ###############################################################################\n",
    "# #                             START OF YOUR CODE                              #\n",
    "# ###############################################################################\n",
    "# poses_list=[]\n",
    "# temp = None\n",
    "# for i in range(0, len(saved_pos)+1):\n",
    "#     path, rrt_tree = RRT(np.array([starting_pose.x(), starting_pose.y()]), goal_node, env)\n",
    "#     poses_list.extend(moveRobot(starting_pose, path))\n",
    "#     for img in env.image_list:\n",
    "#         if img.location == list(goal_node):\n",
    "#             print(\"image \",img.image_label)\n",
    "#             temp = img\n",
    "#     label = image_classifier.classify_image(temp.sample())\n",
    "#     goal_node = np.array(saved_pos[label])\n",
    "#     print(\"label \",label)\n",
    "#     starting_pose = poses_list[-1]\n",
    "\n",
    "\n",
    "# poses = poses_list\n",
    "# ###############################################################################\n",
    "# #                              END OF YOUR CODE                               #\n",
    "# ###############################################################################\n",
    "# ### Comment for autograder end - do not delete!"
   ]
  }
 ],
 "metadata": {
  "accelerator": "GPU",
  "colab": {
   "collapsed_sections": [],
   "provenance": []
  },
  "kernelspec": {
   "display_name": "Python 3",
   "language": "python",
   "name": "python3"
  },
  "language_info": {
   "codemirror_mode": {
    "name": "ipython",
    "version": 3
   },
   "file_extension": ".py",
   "mimetype": "text/x-python",
   "name": "python",
   "nbconvert_exporter": "python",
   "pygments_lexer": "ipython3",
   "version": "3.10.6 (main, Nov 14 2022, 16:10:14) [GCC 11.3.0]"
  },
  "vscode": {
   "interpreter": {
    "hash": "916dbcbb3f70747c44a77c7bcd40155683ae19c65e1c03b4aa3499c5328201f1"
   }
  }
 },
 "nbformat": 4,
 "nbformat_minor": 1
}
